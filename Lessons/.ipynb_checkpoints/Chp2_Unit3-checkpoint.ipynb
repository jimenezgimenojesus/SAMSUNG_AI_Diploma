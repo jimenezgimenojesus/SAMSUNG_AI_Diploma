{
 "cells": [
  {
   "cell_type": "markdown",
   "metadata": {},
   "source": [
    "# Matemáticas para Inteligencia Artificial (I)\n",
    "\n",
    "\n",
    "\n",
    "\n",
    "### 1. Normas, distancias y ángulos\n",
    "\n",
    "\n",
    "\n",
    "\n",
    "Sea $V$ un $\\mathbb{R}$-espacio vectorial donde se ha definido un producto escalar $\\langle\\cdot,\\cdot\\rangle$. Recordemos que para que $\\langle \\cdot , \\cdot\\rangle$ sea un producto escalar, debe cumplir las siguientes propiedades: \n",
    "\n",
    "- $\\langle x,y\\rangle=\\langle y,x\\rangle, \\; \\forall\\, x,y\\in V$\n",
    "- $\\langle \\alpha x + \\beta y,z\\rangle=\\alpha \\langle x,z\\rangle+\\beta\\langle y, z\\rangle, \\; \\forall\\, x,y,z\\in V$, $\\forall\\, \\alpha,\\beta\\in\\mathbb{R}$\n",
    "- $\\langle x,x\\rangle \\geq 0$, $\\forall\\, x\\in V$.\n",
    "- $\\langle x,x\\rangle =0$ si y sólo si $x=0$. \n",
    "\n",
    "\n",
    "Si se ha definido un producto escalar en $V$, entonces podemos calcular:\n",
    "\n",
    "- normas de elementos $v\\in V$ como $||v||:=\\sqrt{\\langle v,v\\rangle}$ `LO QUE *MIDE*  EL VECTOR`\n",
    "- distancia entre dos elementos $u,v\\in V$ como $d(u,v):=||u-v||$ `DISTANCIA DEL VECTOR RESULTANTE DE LA DIFERENCIA ENTRE AMBOS VECTORES`\n",
    "- ángulo $\\alpha$ que forman dos elementos $u,v \\in V$ a través de $\\operatorname{cos}(\\alpha):=\\dfrac{|\\langle u,v\\rangle|}{||u||\\cdot||v||}\\in[-1,1]$ `Similitud de coseno es el coseno del ángulo que forman dos vectores, cuanto más cercano a 0, más similares, a -1, más dispares y a 0, menos en común`\n",
    "\n",
    "Veamos dos maneras alternativas de calcular el producto escalar de dos vectores en $V=\\mathbb{R}^3$."
   ]
  },
  {
   "cell_type": "code",
   "execution_count": 3,
   "metadata": {},
   "outputs": [
    {
     "name": "stdout",
     "output_type": "stream",
     "text": [
      "u = [[1 0 1]]\n",
      "v = [[1]\n",
      " [2]\n",
      " [3]]\n",
      "Producto elemento a elemento: [[1 0 3]]\n",
      "Producto elemento a elemento: [[4]]\n",
      "Producto elemento a elemento: 4\n",
      "[[4]]\n",
      "La norma de un vector: 1.4142135623730951\n",
      "La distancia entre u y v es 2.8284271247461903\n",
      "El ángulo que forman u y v es 0.7559289460184544\n"
     ]
    }
   ],
   "source": [
    "import numpy as np\n",
    "from numpy import linalg as la\n",
    "\n",
    "u=np.array([[1,0,1]])                                   # 1 fila, 3 columnas\n",
    "v=np.array([[1],[2],[3]])                               # 3 filas, 1 columna\n",
    "\n",
    "print(\"u =\", u)\n",
    "print(\"v =\", v)\n",
    "print('Producto elemento a elemento:', u*v.T)           # Producto elemento a elemento\n",
    "\n",
    "print('Producto elemento a elemento:', u@v)             # Producto escalar: la suma de los productos elemento a elemento\n",
    "print('Producto elemento a elemento:', np.sum(u*v.T))   # Producto escalar: la suma de los productos elemento a elemento\n",
    "print(u.dot(v))                                         # Producto escalar\n",
    "\n",
    "print('La norma de un vector:', la.norm(u))             # Longitud del vector: sqrt(sum(cuadrados de componentes))\n",
    "print(\"La distancia entre u y v es\", la.norm(u-v.T))    # Distancia entre vectores: es la norma de la diferencia entre vectores\n",
    "\n",
    "# Ángulo entre vectores:\n",
    "# Valor absoluto del producto escalar entre los vectores entre el producto\n",
    "# de las normas euclideanas de ambos vectores.\n",
    "# Compara cuanto se combinan los vectores (producto escalar) respecto a la\n",
    "# magnitud total de ambos (producto de las normas), obteniendo el ángulo\n",
    "# entre ellos\n",
    "# Cuando el coseno del ángulo se acerca a 1: máxima similitud\n",
    "# Cuando el coseno del ángulo se acerca a -1: mínima similitud\n",
    "# Cuando el coseno del ángulo se acerca a 0: no hay similitud\n",
    "# Con un ángulo de 90 grados tenemos dos vectores que no tienen nada en común\n",
    "\n",
    "print(\"El ángulo que forman u y v es\", (np.abs(u@v)/(la.norm(u)*la.norm(v)))[0][0])"
   ]
  },
  {
   "cell_type": "markdown",
   "metadata": {},
   "source": [
    "Además de la distancia euclídea, existen otros métodos para investigar cuándo dos vectores de $\\mathbb{R}^n$ son _cercanos_ o _similares_. Por ejemplo, cuando la longitud de los vectores no es importante, la **similitud del coseno** resulta muy útil. Esto ocurre por ejemplo en _text mining_. \n",
    "\n",
    "\n",
    "$$ \\text{sim}_{(u, v)}=\\dfrac{\\langle u, v\\rangle}{||u|| ·||v||}=\\text{cos}(\\text{ángulo}(u, v))\\in[-1,1],$$ \n",
    "\n",
    "`Similitud de coseno es el coseno del ángulo que forman dos vectores, cuanto más cercano a 0, más similares, a -1, más dispares y a 0, menos en común`\n",
    "\n",
    "<img src=https://lh6.googleusercontent.com/ycXLRE6YUiFrVJpkYXJe8I7oCiuUSYLhfBHvn81N3_AARdiEuswYKLqC5mLNqdqTiAkfCN7hBBdrIgQi6OAbOshJE1d3q_0XuWjik_KaQqryrh63PJiS9wDwT0M0NZ_AbOFpvEZgcMjbgYBXtM3VVdM width=\"1000\">\n",
    "\n",
    "\n",
    "1. A modo de ejemplo, veamos la _similitud del coseno_ entre los dos vectores anteriores.\n",
    "2. Veamos ahora cuán similares son $v$ y el vector $(1,2,4)$."
   ]
  },
  {
   "cell_type": "code",
   "execution_count": 4,
   "metadata": {},
   "outputs": [
    {
     "name": "stdout",
     "output_type": "stream",
     "text": [
      "Similitud coseno de u y v: 0.7559289460184544\n",
      "Similitud de v y (1, 2, 4): 0.9914601339836675\n"
     ]
    }
   ],
   "source": [
    "print('Similitud coseno de u y v:', np.abs((u@v)[0][0])/(la.norm(u)*la.norm(v)))\n",
    "w=np.array([[1,2,4]])\n",
    "print('Similitud de v y (1, 2, 4):', np.abs((w@v)[0][0])/(la.norm(v)*la.norm(w)))"
   ]
  },
  {
   "cell_type": "markdown",
   "metadata": {},
   "source": [
    "En este contexto, también se pueden definir otras distancias, como por ejemplo:\n",
    "\n",
    "\n",
    "<img src=https://miro.medium.com/v2/resize:fit:1400/1*vAtQZbROuTdp36aQQ8cqBA.png width=\"800\">\n",
    "\n",
    "\n",
    "La célebre **distancia de Manhattan**, que se define como $d(u,v):=\\displaystyle\\sum_i |u_i-v_i|$, aplicada a $u$ y $v$, y a $v$ y $w$ proporcionaría:"
   ]
  },
  {
   "cell_type": "code",
   "execution_count": 5,
   "metadata": {},
   "outputs": [
    {
     "name": "stdout",
     "output_type": "stream",
     "text": [
      "4\n",
      "1\n"
     ]
    }
   ],
   "source": [
    "print(np.sum(np.abs(u-v.T)))\n",
    "print(np.sum(np.abs(w-v.T)))"
   ]
  },
  {
   "cell_type": "markdown",
   "metadata": {},
   "source": [
    "Por tanto, lo _cercanos_ que sean dos vectores/objetos depende de la distancia que se considere."
   ]
  },
  {
   "cell_type": "markdown",
   "metadata": {},
   "source": [
    "### 2. Algoritmos de recomendación\n",
    "\n",
    "\n",
    "Un **sistema de recomendación** es un algoritmo que nos permite dar predicciones de cuál es el producto o ítem más adecuado para un usuario. Los sistemas de recomendación pueden ser de varias clases según el algoritmo utilizado, aunque solo nos centraremos en la presente práctica en los de _filtrado colaborativo_. \n",
    "\n",
    "\n",
    "Los sistemas de recomendación basados en algoritmos de **filtrado colaborativo** utilizan las valoraciones o interacciones de los usuarios sobre ciertos elementos del conjunto de productos, con el objetivo de predecir valoraciones o interacciones en el resto de los elementos y recomendar los de mayor valoración predicha. Ejemplos en esta línea pueden ser **Netflix**, **Spotify**, **Youtube**, etc.\n",
    "\n",
    "\n",
    "Los datos iniciales de los que disponemos son una base de datos de usuarios o clientes $(user_1, user_2, \\ldots, user_M)$ a los que vamos a recomendar una serie de productos o ítems $(ítem_1, ítem_2,\\ldots, ítem_N)$, y las interacciones o puntuaciones de esos usuarios sobre algunos de los ítems, matriz $L$ de dimensión $M\\times N$. \n",
    "\n",
    "\n",
    "**Ejemplo.** Supongamos que 10 usuarios están buscando en la página de **Ryanair** en el último mes vuelos desde Madrid (MAD) a Málaga (AGP), Las Palmas de Gran Canaria (LPA), Sevilla (SVQ), Valencia (VLC), Ibiza (IBZ) y Santiago de Compostela (SCQ). Supongamos que la fila $i$ del fichero `vuelos.csv` representa el número de búsquedas que ha realizado el usuario $i$ sobre cada una de las rutas antes mencionadas (en el orden citado). "
   ]
  },
  {
   "cell_type": "code",
   "execution_count": 26,
   "metadata": {},
   "outputs": [],
   "source": [
    "import pandas as pd\n",
    "\n",
    "vuelos = pd.read_csv('../CSV/vuelos.csv')"
   ]
  },
  {
   "cell_type": "code",
   "execution_count": 7,
   "metadata": {},
   "outputs": [
    {
     "data": {
      "text/html": [
       "<div>\n",
       "<style scoped>\n",
       "    .dataframe tbody tr th:only-of-type {\n",
       "        vertical-align: middle;\n",
       "    }\n",
       "\n",
       "    .dataframe tbody tr th {\n",
       "        vertical-align: top;\n",
       "    }\n",
       "\n",
       "    .dataframe thead th {\n",
       "        text-align: right;\n",
       "    }\n",
       "</style>\n",
       "<table border=\"1\" class=\"dataframe\">\n",
       "  <thead>\n",
       "    <tr style=\"text-align: right;\">\n",
       "      <th></th>\n",
       "      <th>MAD-AGP</th>\n",
       "      <th>MAD-LPA</th>\n",
       "      <th>MAD-SVQ</th>\n",
       "      <th>MAD-VLC</th>\n",
       "      <th>MAD-IBZ</th>\n",
       "      <th>MAD-SCQ</th>\n",
       "    </tr>\n",
       "  </thead>\n",
       "  <tbody>\n",
       "    <tr>\n",
       "      <th>0</th>\n",
       "      <td>0.0</td>\n",
       "      <td>0.0</td>\n",
       "      <td>1.0</td>\n",
       "      <td>0.0</td>\n",
       "      <td>0.0</td>\n",
       "      <td>2.0</td>\n",
       "    </tr>\n",
       "    <tr>\n",
       "      <th>1</th>\n",
       "      <td>0.0</td>\n",
       "      <td>2.0</td>\n",
       "      <td>1.0</td>\n",
       "      <td>1.0</td>\n",
       "      <td>0.0</td>\n",
       "      <td>0.0</td>\n",
       "    </tr>\n",
       "    <tr>\n",
       "      <th>2</th>\n",
       "      <td>0.0</td>\n",
       "      <td>0.0</td>\n",
       "      <td>1.0</td>\n",
       "      <td>1.0</td>\n",
       "      <td>1.0</td>\n",
       "      <td>1.0</td>\n",
       "    </tr>\n",
       "    <tr>\n",
       "      <th>3</th>\n",
       "      <td>0.0</td>\n",
       "      <td>0.0</td>\n",
       "      <td>1.0</td>\n",
       "      <td>2.0</td>\n",
       "      <td>0.0</td>\n",
       "      <td>0.0</td>\n",
       "    </tr>\n",
       "    <tr>\n",
       "      <th>4</th>\n",
       "      <td>0.0</td>\n",
       "      <td>0.0</td>\n",
       "      <td>1.0</td>\n",
       "      <td>1.0</td>\n",
       "      <td>0.0</td>\n",
       "      <td>0.0</td>\n",
       "    </tr>\n",
       "  </tbody>\n",
       "</table>\n",
       "</div>"
      ],
      "text/plain": [
       "   MAD-AGP  MAD-LPA  MAD-SVQ  MAD-VLC  MAD-IBZ  MAD-SCQ\n",
       "0      0.0      0.0      1.0      0.0      0.0      2.0\n",
       "1      0.0      2.0      1.0      1.0      0.0      0.0\n",
       "2      0.0      0.0      1.0      1.0      1.0      1.0\n",
       "3      0.0      0.0      1.0      2.0      0.0      0.0\n",
       "4      0.0      0.0      1.0      1.0      0.0      0.0"
      ]
     },
     "execution_count": 7,
     "metadata": {},
     "output_type": "execute_result"
    }
   ],
   "source": [
    "vuelos.head()"
   ]
  },
  {
   "cell_type": "code",
   "execution_count": 8,
   "metadata": {},
   "outputs": [
    {
     "name": "stdout",
     "output_type": "stream",
     "text": [
      "[[0. 0. 1. 0. 0. 2.]\n",
      " [0. 2. 1. 1. 0. 0.]\n",
      " [0. 0. 1. 1. 1. 1.]\n",
      " [0. 0. 1. 2. 0. 0.]\n",
      " [0. 0. 1. 1. 0. 0.]\n",
      " [0. 0. 2. 0. 0. 1.]\n",
      " [1. 0. 0. 1. 0. 1.]\n",
      " [0. 1. 0. 1. 0. 2.]\n",
      " [1. 2. 0. 0. 0. 1.]\n",
      " [1. 0. 1. 0. 1. 0.]]\n"
     ]
    }
   ],
   "source": [
    "V = vuelos.to_numpy()\n",
    "print(V)"
   ]
  },
  {
   "cell_type": "markdown",
   "metadata": {},
   "source": [
    "El sistema de recomendación viene dado por la cantidad de filas y columnas, en este caso, se hará por ítmes (cols), porque hay más ítens que vuelos (filas)"
   ]
  },
  {
   "cell_type": "code",
   "execution_count": 9,
   "metadata": {},
   "outputs": [
    {
     "name": "stdout",
     "output_type": "stream",
     "text": [
      "[[1.]]\n",
      "[[0.38490018]]\n",
      "[[0.18257419]]\n",
      "[[0.19245009]]\n",
      "[[0.40824829]]\n",
      "[[0.33333333]]\n",
      "\n",
      "[[0.38490018]]\n",
      "[[1.]]\n",
      "[[0.21081851]]\n",
      "[[0.33333333]]\n",
      "[[0.]]\n",
      "[[0.38490018]]\n",
      "\n",
      "[[0.18257419]]\n",
      "[[0.21081851]]\n",
      "[[1.]]\n",
      "[[0.52704628]]\n",
      "[[0.4472136]]\n",
      "[[0.45643546]]\n",
      "\n",
      "[[0.19245009]]\n",
      "[[0.33333333]]\n",
      "[[0.52704628]]\n",
      "[[1.]]\n",
      "[[0.23570226]]\n",
      "[[0.38490018]]\n",
      "\n",
      "[[0.40824829]]\n",
      "[[0.]]\n",
      "[[0.4472136]]\n",
      "[[0.23570226]]\n",
      "[[1.]]\n",
      "[[0.20412415]]\n",
      "\n",
      "[[0.33333333]]\n",
      "[[0.38490018]]\n",
      "[[0.45643546]]\n",
      "[[0.38490018]]\n",
      "[[0.20412415]]\n",
      "[[1.]]\n",
      "\n"
     ]
    }
   ],
   "source": [
    "# Si se quiere mantener la estructura matricial de estructura y columna, hay que dar rangos a ambos lados del acceeso a matriz\n",
    "for i in range(6):\n",
    "    for j in range(6):\n",
    "        print((V[:, i: i+1].T@V[:, j: j+1])/(la.norm(V[:, i: i+1] * la.norm(V[:, j: j+1]))))\n",
    "    print()"
   ]
  },
  {
   "cell_type": "markdown",
   "metadata": {},
   "source": [
    "$\\operatorname{cos}(\\alpha):=\\dfrac{1}{||u||}\\cdot{|\\langle u,v\\rangle|}\\cdot\\dfrac{1}{||v||}$ "
   ]
  },
  {
   "cell_type": "markdown",
   "metadata": {},
   "source": [
    "Vectores normalizados: $\\cos(\\alpha) := \\left| \\left\\langle \\frac{u}{\\|u\\|}, \\frac{v}{\\|v\\|} \\right\\rangle \\right|$"
   ]
  },
  {
   "cell_type": "code",
   "execution_count": 10,
   "metadata": {},
   "outputs": [
    {
     "name": "stdout",
     "output_type": "stream",
     "text": [
      "[[1 0]\n",
      " [2 1]]\n",
      "[[0.4472136  0.        ]\n",
      " [0.89442719 1.        ]]\n"
     ]
    }
   ],
   "source": [
    "A = np.array([[1, 0], [2, 1]])\n",
    "print(A)\n",
    "vector_norm_A = A / la.norm(A, axis=0)\n",
    "print(vector_norm_A)"
   ]
  },
  {
   "cell_type": "code",
   "execution_count": 13,
   "metadata": {},
   "outputs": [
    {
     "name": "stdout",
     "output_type": "stream",
     "text": [
      "6.708203932499369\n",
      "[[0.    0.    0.316 0.    0.    0.577]\n",
      " [0.    0.667 0.316 0.333 0.    0.   ]\n",
      " [0.    0.    0.316 0.333 0.707 0.289]\n",
      " [0.    0.    0.316 0.667 0.    0.   ]\n",
      " [0.    0.    0.316 0.333 0.    0.   ]\n",
      " [0.    0.    0.632 0.    0.    0.289]\n",
      " [0.577 0.    0.    0.333 0.    0.289]\n",
      " [0.    0.333 0.    0.333 0.    0.577]\n",
      " [0.577 0.667 0.    0.    0.    0.289]\n",
      " [0.577 0.    0.316 0.    0.707 0.   ]]\n",
      "[[0.    0.    0.    0.    0.    0.    0.577 0.    0.577 0.577]\n",
      " [0.    0.667 0.    0.    0.    0.    0.    0.333 0.667 0.   ]\n",
      " [0.316 0.316 0.316 0.316 0.316 0.632 0.    0.    0.    0.316]\n",
      " [0.    0.333 0.333 0.667 0.333 0.    0.333 0.333 0.    0.   ]\n",
      " [0.    0.    0.707 0.    0.    0.    0.    0.    0.    0.707]\n",
      " [0.577 0.    0.289 0.    0.    0.289 0.289 0.577 0.289 0.   ]]\n"
     ]
    }
   ],
   "source": [
    "print(la.norm(V))\n",
    "V_norm = V / la.norm(V, axis=0)\n",
    "print(np.round(V_norm, 3))\n",
    "print(np.round(V_norm.T, 3))"
   ]
  },
  {
   "cell_type": "code",
   "execution_count": 14,
   "metadata": {},
   "outputs": [
    {
     "name": "stdout",
     "output_type": "stream",
     "text": [
      "[[1.    0.385 0.183 0.192 0.408 0.333]\n",
      " [0.385 1.    0.211 0.333 0.    0.385]\n",
      " [0.183 0.211 1.    0.527 0.447 0.456]\n",
      " [0.192 0.333 0.527 1.    0.236 0.385]\n",
      " [0.408 0.    0.447 0.236 1.    0.204]\n",
      " [0.333 0.385 0.456 0.385 0.204 1.   ]]\n"
     ]
    }
   ],
   "source": [
    "S = V_norm.T@V_norm                 # Matriz de similitudes, es simétrica y tien 1. en la diagonal\n",
    "print(np.round(S, 3))"
   ]
  },
  {
   "cell_type": "markdown",
   "metadata": {},
   "source": [
    "**Ejercicio.** A vista de los datos anteriores:\n",
    "- ¿qué vuelo le recomendarías a los usuarios 1 y 2? \n",
    "- ¿Y a los usuarios 3, 5, 7 y 10? \n",
    "\n",
    "\n",
    "Dos filtrados colaborativos célebres son:\n",
    "\n",
    "\n",
    "1. User-user: personas con intereses similares en el pasado es probable que tengan intereses similares en el futuro. Por tanto, a la hora de recomendar a un usuario un ítem, nos fijamos en los intereses en los que se han interesado usuarios similares a él .\n",
    "\n",
    "\n",
    "**Ejemplo.** Messi ha visto Juego de Tronos y Breaking Bad. Cristiano ha visto Juego de Tronos, Breaking Bad y Vikingos. El algoritmo detecta que Messi y Cristiano son usuarios similares, luego el sistema recomienda Vikingos a Messi.\n",
    "\n",
    "\n",
    "2. Ítem-ítem: si a un usuario le ha interesado en el pasado un producto, es probable que en el futuro le interesen productos similares. Por tanto, a la hora de recomendar a un usuario un ítem, nos fijamos en ítems similares a los que se ha interesado en el pasado.\n",
    "\n",
    "\n",
    "**Ejemplo.** Messi, Cristiano, Haaland y Mbappé han visto Origen. Messi, Cristiano y Haaland también han visto Shutter Island. El algoritmo detecta que Origen y Shutter Island son productos similares, luego el sistema recomienda a Mbappé ver Shutter Island.\n",
    "\n",
    "\n",
    "Queda de manifiesto, por tanto, que la clave es conocer la similitud entre usuarios o ítems, siendo la opción más \"manejable\" aquella que tenga menos elementos. Observemos que no estamos interesados en la longitud de los vectores, sino simplemente en su similitud, luego resulta natural utilizar la similitud del coseno.\n",
    "\n",
    "\n",
    "\n",
    "En nuestro ejemplo vamos a realizar un algoritmo de recomendación ítem-ítem con el objetivo de recomendar a cada usuario un vuelo y después responderemos de nuevo a las preguntas anteriores. Comencemos analizando la similitud del resto de vuelos con el vuelo 6, pues es el que más veces ha buscado el usuario 1."
   ]
  },
  {
   "cell_type": "code",
   "execution_count": 12,
   "metadata": {},
   "outputs": [
    {
     "name": "stdout",
     "output_type": "stream",
     "text": [
      "sim(vuelo_1, vuelo_6) =  0.33333333333333337\n"
     ]
    }
   ],
   "source": [
    "# Se entrecruzan las columnas de vuelos A@A.T y se dividen entre la norma de ambos \n",
    "\n",
    "print(\"sim(vuelo_1, vuelo_6) = \", (V[:,0:1].T@V[:,5:6])[0][0]/(la.norm(V[:,0:1])*la.norm(V[:,5:6])))"
   ]
  },
  {
   "cell_type": "code",
   "execution_count": 13,
   "metadata": {},
   "outputs": [
    {
     "name": "stdout",
     "output_type": "stream",
     "text": [
      "sim(vuelo_5, vuelo_6) =  0.20412414523193148\n"
     ]
    }
   ],
   "source": [
    "print(\"sim(vuelo_5, vuelo_6) = \", (V[:,4:5].T@V[:,5:6])[0][0]/(la.norm(V[:,4:5])*la.norm(V[:,5:6])))"
   ]
  },
  {
   "cell_type": "markdown",
   "metadata": {},
   "source": [
    "Ahora hagámoslo en general, es decir, calculemos las similitudes entre todos los vuelos entre sí. Esto nos derá una matriz $S$ de similitud entre vuelos, que ha de ser simétrica y con unos en la diagonal."
   ]
  },
  {
   "cell_type": "code",
   "execution_count": 24,
   "metadata": {},
   "outputs": [
    {
     "name": "stdout",
     "output_type": "stream",
     "text": [
      "[[1.         0.38490018 0.18257419 0.19245009 0.40824829 0.33333333]\n",
      " [0.38490018 1.         0.21081851 0.33333333 0.         0.38490018]\n",
      " [0.18257419 0.21081851 1.         0.52704628 0.4472136  0.45643546]\n",
      " [0.19245009 0.33333333 0.52704628 1.         0.23570226 0.38490018]\n",
      " [0.40824829 0.         0.4472136  0.23570226 1.         0.20412415]\n",
      " [0.33333333 0.38490018 0.45643546 0.38490018 0.20412415 1.        ]]\n"
     ]
    }
   ],
   "source": [
    "S=(V/la.norm(V, axis=0)).T@(V/la.norm(V, axis=0))\n",
    "print(S)"
   ]
  },
  {
   "cell_type": "markdown",
   "metadata": {},
   "source": [
    "Sabiendo que el usuario 1 ha buscado previamente los vuelos 3 y 6 (una y dos veces, respectivamente), necesitamos buscar un vuelo que sea lo más parecido posible a los vuelos 3 y 6 (y preferiblemente más al 6 que al 3, es decir, **debemos ponderar estas búsquedas**). Por tanto, si multiplicamos (producto escalar) cada fila de $S$ por la primera fila de $V$ obtendremos unos valores que representan la _recomendación_ de los vuelos. Por tanto, bastará con quedarse con el valor más alto."
   ]
  },
  {
   "cell_type": "code",
   "execution_count": 25,
   "metadata": {},
   "outputs": [
    {
     "data": {
      "text/plain": [
       "array([[0.84924085, 0.98061887, 1.91287093, 1.29684664, 0.85546189,\n",
       "        2.45643546]])"
      ]
     },
     "execution_count": 25,
     "metadata": {},
     "output_type": "execute_result"
    }
   ],
   "source": [
    "V[0:1,:]@S"
   ]
  },
  {
   "cell_type": "markdown",
   "metadata": {},
   "source": [
    "Ahora solamente tenemos que ver el valor más alto de los anteriores y que corresponda con un cero de la primera fila de $V$ (i.e. con un vuelo que aún no haya buscado). En este caso, sería el vuelo 4. Responde a las preguntas anteriores nuevamente fijándote en la siguiente matriz."
   ]
  },
  {
   "cell_type": "code",
   "execution_count": 16,
   "metadata": {},
   "outputs": [
    {
     "name": "stdout",
     "output_type": "stream",
     "text": [
      "[[0.849 0.981 1.913 1.297 0.855 2.456]\n",
      " [1.145 2.544 1.949 2.194 0.683 1.611]\n",
      " [1.117 0.929 2.431 2.148 1.887 2.045]\n",
      " [0.567 0.877 2.054 2.527 0.919 1.226]\n",
      " [0.375 0.544 1.527 1.527 0.683 0.841]\n",
      " [0.698 0.807 2.456 1.439 1.099 1.913]\n",
      " [1.526 1.103 1.166 1.577 0.848 1.718]\n",
      " [1.244 2.103 1.651 2.103 0.644 2.77 ]\n",
      " [2.103 2.77  1.061 1.244 0.612 2.103]\n",
      " [1.591 0.596 1.63  0.955 1.855 0.994]]\n",
      "[[0. 0. 1. 0. 0. 2.]\n",
      " [0. 2. 1. 1. 0. 0.]\n",
      " [0. 0. 1. 1. 1. 1.]\n",
      " [0. 0. 1. 2. 0. 0.]\n",
      " [0. 0. 1. 1. 0. 0.]\n",
      " [0. 0. 2. 0. 0. 1.]\n",
      " [1. 0. 0. 1. 0. 1.]\n",
      " [0. 1. 0. 1. 0. 2.]\n",
      " [1. 2. 0. 0. 0. 1.]\n",
      " [1. 0. 1. 0. 1. 0.]]\n"
     ]
    }
   ],
   "source": [
    "print(np.round(V@S, 3))\n",
    "print(V)"
   ]
  },
  {
   "cell_type": "code",
   "execution_count": 17,
   "metadata": {},
   "outputs": [
    {
     "name": "stdout",
     "output_type": "stream",
     "text": [
      "[[0.849 0.981 1.913 1.297 0.855 2.456]\n",
      " [1.145 2.544 1.949 2.194 0.683 1.611]\n",
      " [1.117 0.929 2.431 2.148 1.887 2.045]\n",
      " [0.567 0.877 2.054 2.527 0.919 1.226]\n",
      " [0.375 0.544 1.527 1.527 0.683 0.841]\n",
      " [0.698 0.807 2.456 1.439 1.099 1.913]\n",
      " [1.526 1.103 1.166 1.577 0.848 1.718]\n",
      " [1.244 2.103 1.651 2.103 0.644 2.77 ]\n",
      " [2.103 2.77  1.061 1.244 0.612 2.103]\n",
      " [1.591 0.596 1.63  0.955 1.855 0.994]]\n",
      "[[0. 0. 1. 0. 0. 2.]\n",
      " [0. 2. 1. 1. 0. 0.]\n",
      " [0. 0. 1. 1. 1. 1.]\n",
      " [0. 0. 1. 2. 0. 0.]\n",
      " [0. 0. 1. 1. 0. 0.]\n",
      " [0. 0. 2. 0. 0. 1.]\n",
      " [1. 0. 0. 1. 0. 1.]\n",
      " [0. 1. 0. 1. 0. 2.]\n",
      " [1. 2. 0. 0. 0. 1.]\n",
      " [1. 0. 1. 0. 1. 0.]]\n"
     ]
    }
   ],
   "source": [
    "print(np.round(V@S, 3))\n",
    "print(V)"
   ]
  },
  {
   "cell_type": "code",
   "execution_count": 19,
   "metadata": {},
   "outputs": [
    {
     "name": "stdout",
     "output_type": "stream",
     "text": [
      "[[1.14482463 2.54415184 1.9486833  2.19371294 0.68291586 1.611136  ]]\n",
      "[[1.1166059  0.92905202 2.43069534 2.14764872 1.88704    2.04545979]]\n",
      "[[0.37502428 0.54415184 1.52704628 1.52704628 0.68291586 0.84133564]]\n",
      "[[1.52578342 1.10313369 1.16605593 1.57735027 0.8480747  1.71823351]]\n",
      "[[1.59082248 0.59571869 1.62978778 0.95519863 1.85546189 0.99389294]]\n"
     ]
    }
   ],
   "source": [
    "vector_recomend_user_2  = V[1: 2, :]@S        # Vector de recomendación del usuario 2\n",
    "print(vector_recomend_user_2)\n",
    "v3 = V[2:3, :]@S\n",
    "print(v3)\n",
    "v5 = V[4:5, :]@S\n",
    "print(v5)\n",
    "v7 = V[6:7, :]@S\n",
    "print(v7)\n",
    "v10 = V[9:10, :]@S\n",
    "print(v10)"
   ]
  },
  {
   "cell_type": "markdown",
   "metadata": {},
   "source": [
    "Trabajemos ahora con otro ejemplo de mayores dimensiones. Concretamente, la siguiente base de datos contiene puntuaciones de usuarios sobre ciertas películas."
   ]
  },
  {
   "cell_type": "code",
   "execution_count": 27,
   "metadata": {},
   "outputs": [
    {
     "data": {
      "text/html": [
       "<div>\n",
       "<style scoped>\n",
       "    .dataframe tbody tr th:only-of-type {\n",
       "        vertical-align: middle;\n",
       "    }\n",
       "\n",
       "    .dataframe tbody tr th {\n",
       "        vertical-align: top;\n",
       "    }\n",
       "\n",
       "    .dataframe thead th {\n",
       "        text-align: right;\n",
       "    }\n",
       "</style>\n",
       "<table border=\"1\" class=\"dataframe\">\n",
       "  <thead>\n",
       "    <tr style=\"text-align: right;\">\n",
       "      <th></th>\n",
       "      <th>userId</th>\n",
       "      <th>movieId</th>\n",
       "      <th>rating</th>\n",
       "      <th>timestamp</th>\n",
       "    </tr>\n",
       "  </thead>\n",
       "  <tbody>\n",
       "    <tr>\n",
       "      <th>0</th>\n",
       "      <td>1</td>\n",
       "      <td>31</td>\n",
       "      <td>2.5</td>\n",
       "      <td>1260759144</td>\n",
       "    </tr>\n",
       "    <tr>\n",
       "      <th>1</th>\n",
       "      <td>1</td>\n",
       "      <td>1029</td>\n",
       "      <td>3.0</td>\n",
       "      <td>1260759179</td>\n",
       "    </tr>\n",
       "    <tr>\n",
       "      <th>2</th>\n",
       "      <td>1</td>\n",
       "      <td>1061</td>\n",
       "      <td>3.0</td>\n",
       "      <td>1260759182</td>\n",
       "    </tr>\n",
       "    <tr>\n",
       "      <th>3</th>\n",
       "      <td>1</td>\n",
       "      <td>1129</td>\n",
       "      <td>2.0</td>\n",
       "      <td>1260759185</td>\n",
       "    </tr>\n",
       "    <tr>\n",
       "      <th>4</th>\n",
       "      <td>1</td>\n",
       "      <td>1172</td>\n",
       "      <td>4.0</td>\n",
       "      <td>1260759205</td>\n",
       "    </tr>\n",
       "  </tbody>\n",
       "</table>\n",
       "</div>"
      ],
      "text/plain": [
       "   userId  movieId  rating   timestamp\n",
       "0       1       31     2.5  1260759144\n",
       "1       1     1029     3.0  1260759179\n",
       "2       1     1061     3.0  1260759182\n",
       "3       1     1129     2.0  1260759185\n",
       "4       1     1172     4.0  1260759205"
      ]
     },
     "execution_count": 27,
     "metadata": {},
     "output_type": "execute_result"
    }
   ],
   "source": [
    "import pandas as pd\n",
    "\n",
    "pelis = pd.read_csv('../CSV/ratings_example.csv')\n",
    "pelis.head()"
   ]
  },
  {
   "cell_type": "markdown",
   "metadata": {},
   "source": [
    "Lo primero que debemos hacer en este caso es construirnos la matriz que nos interesa, donde las filas sean los usuarios y las columnas sean las películas."
   ]
  },
  {
   "cell_type": "code",
   "execution_count": 23,
   "metadata": {},
   "outputs": [],
   "source": [
    "pelis_matriz = pelis.pivot_table(index='userId', columns='movieId', values='rating').fillna(0)\n",
    "pelis_matriz\n",
    "M = pelis_matriz.to_numpy()"
   ]
  },
  {
   "cell_type": "code",
   "execution_count": 24,
   "metadata": {},
   "outputs": [
    {
     "name": "stdout",
     "output_type": "stream",
     "text": [
      "[[1.         0.         0.         ... 0.06291708 0.         0.01746565]\n",
      " [0.         1.         0.12429498 ... 0.02413984 0.17059464 0.1131753 ]\n",
      " [0.         0.12429498 1.         ... 0.08098382 0.13660585 0.17019275]\n",
      " ...\n",
      " [0.06291708 0.02413984 0.08098382 ... 1.         0.04260878 0.08520194]\n",
      " [0.         0.17059464 0.13660585 ... 0.04260878 1.         0.22867673]\n",
      " [0.01746565 0.1131753  0.17019275 ... 0.08520194 0.22867673 1.        ]]\n"
     ]
    }
   ],
   "source": [
    "M_norm = M.T / la.norm(M.T, axis=0)  # Valores Filas en Columnas, cálculo de la norma de CADA COLUMNA\n",
    "S = M_norm.T@M_norm                  # Valores Filas x Columnas\n",
    "print(S)"
   ]
  },
  {
   "cell_type": "markdown",
   "metadata": {},
   "source": [
    "Por tanto, tenemos 671 usuarios que han valorado 9066 películas (observemos que hay etiquetas correspondientes a películas que no han sido vistas por nadie, como por ejemplo las que hay entre la 162673 y la 163948, luego no aparecen como columnas). \n",
    "\n",
    "\n",
    "En este caso, tenemos menos usuarios que películas, luego nos interesa ver la similitud entre usuarios."
   ]
  },
  {
   "cell_type": "code",
   "execution_count": 25,
   "metadata": {},
   "outputs": [
    {
     "name": "stdout",
     "output_type": "stream",
     "text": [
      "sim(user_1, user_2) =  0.0\n"
     ]
    }
   ],
   "source": [
    "print(\"sim(user_1, user_2) = \", (M[0:1,:]@M[1:2,:].T)[0][0]/(la.norm(M[0:1,:])*la.norm(M[1:2,:])))"
   ]
  },
  {
   "cell_type": "code",
   "execution_count": 26,
   "metadata": {},
   "outputs": [
    {
     "name": "stdout",
     "output_type": "stream",
     "text": [
      "sim(user_1, user_4) =  0.07448244558021601\n"
     ]
    }
   ],
   "source": [
    "print(\"sim(user_1, user_4) = \", (M[0:1,:]@M[3:4,:].T)[0][0]/(la.norm(M[0:1,:])*la.norm(M[3:4,:])))"
   ]
  },
  {
   "cell_type": "markdown",
   "metadata": {},
   "source": [
    "Ahora hagámoslo en general, es decir, calculemos las similitudes entre todos los usuarios."
   ]
  },
  {
   "cell_type": "code",
   "execution_count": 27,
   "metadata": {},
   "outputs": [
    {
     "name": "stdout",
     "output_type": "stream",
     "text": [
      "[[1.         0.         0.         ... 0.06291708 0.         0.01746565]\n",
      " [0.         1.         0.12429498 ... 0.02413984 0.17059464 0.1131753 ]\n",
      " [0.         0.12429498 1.         ... 0.08098382 0.13660585 0.17019275]\n",
      " ...\n",
      " [0.06291708 0.02413984 0.08098382 ... 1.         0.04260878 0.08520194]\n",
      " [0.         0.17059464 0.13660585 ... 0.04260878 1.         0.22867673]\n",
      " [0.01746565 0.1131753  0.17019275 ... 0.08520194 0.22867673 1.        ]]\n"
     ]
    }
   ],
   "source": [
    "S=(M.T/la.norm(M.T, axis=0)).T@(M.T/la.norm(M.T, axis=0))\n",
    "print(S)"
   ]
  },
  {
   "cell_type": "markdown",
   "metadata": {},
   "source": [
    "Si multiplicamos ahora el primer vector fila de $S$ por cada una columna de $M$, obtendremos un número que indica la _recomendación_ de esa película para el usuario 1. Y, en general, si multiplicamos por todas las columnas de $M$ y nos quedamos con el valor más alto (de aquellas películas que no ha visto el usuario 1), esa será nuestra recomendación."
   ]
  },
  {
   "cell_type": "code",
   "execution_count": 28,
   "metadata": {},
   "outputs": [
    {
     "data": {
      "text/plain": [
       "array([[20.87571921,  8.46503375,  4.44940719, ...,  0.10949069,\n",
       "         0.06569442,  0.28836607]])"
      ]
     },
     "execution_count": 28,
     "metadata": {},
     "output_type": "execute_result"
    }
   ],
   "source": [
    "S[0:1,:]@M"
   ]
  },
  {
   "cell_type": "code",
   "execution_count": 29,
   "metadata": {},
   "outputs": [
    {
     "name": "stdout",
     "output_type": "stream",
     "text": [
      "232\n",
      "32.148441326631\n",
      "True\n"
     ]
    }
   ],
   "source": [
    "r=np.argmax(S[0:1,:]@M)\n",
    "print(r)\n",
    "print((S[0:1,:]@M)[0][r])\n",
    "print((S[0:1,:]@M)[0][r]==np.max(S[0:1,:]@M))"
   ]
  },
  {
   "cell_type": "code",
   "execution_count": 30,
   "metadata": {},
   "outputs": [
    {
     "name": "stdout",
     "output_type": "stream",
     "text": [
      "0.0\n"
     ]
    }
   ],
   "source": [
    "print(M[0,r])"
   ]
  },
  {
   "cell_type": "code",
   "execution_count": 31,
   "metadata": {},
   "outputs": [
    {
     "name": "stdout",
     "output_type": "stream",
     "text": [
      "[20.87571921  8.46503375  4.44940719 ...  0.10949069  0.06569442\n",
      "  0.28836607]\n",
      "[20.87571921  8.46503375  4.44940719 ...  0.10949069  0.06569442\n",
      "  0.28836607]\n",
      "232\n"
     ]
    }
   ],
   "source": [
    "recomen=(S[0:1,:]@M)[0]\n",
    "print(recomen)\n",
    "\n",
    "recomen[M[0]!=0]=0\n",
    "print(recomen)\n",
    "\n",
    "# para asegurarnos de que coge el valor máximo de aquellas películas que el usuario no ha visto\n",
    "\n",
    "r=np.argmax(recomen)\n",
    "print(r)    \n",
    "\n",
    "# seleccionamos ahora el mayor valor, y entonces seguro que no la ha visto"
   ]
  },
  {
   "cell_type": "markdown",
   "metadata": {},
   "source": [
    "Luego le recomendamos la película/columna 232 de $M$, que es la película con Id 260:"
   ]
  },
  {
   "cell_type": "code",
   "execution_count": 32,
   "metadata": {},
   "outputs": [
    {
     "name": "stdout",
     "output_type": "stream",
     "text": [
      "peliculas = [  31 1029 1061 ... 6365 6385 6565]\n"
     ]
    }
   ],
   "source": [
    "peliculas = pelis.movieId.to_numpy()\n",
    "\n",
    "print(\"peliculas =\", peliculas)"
   ]
  },
  {
   "cell_type": "code",
   "execution_count": 33,
   "metadata": {},
   "outputs": [
    {
     "data": {
      "text/plain": [
       "260"
      ]
     },
     "execution_count": 33,
     "metadata": {},
     "output_type": "execute_result"
    }
   ],
   "source": [
    "pelis_matriz.columns[r]"
   ]
  },
  {
   "cell_type": "markdown",
   "metadata": {},
   "source": [
    "Si queremos ahora saber qué recomendación haríamos a cada usuario, basta con hacer lo anterior en general: multiplicamos $S$ por $M$ y ordenaríamos los elementos de la misma forma anterior."
   ]
  },
  {
   "cell_type": "code",
   "execution_count": 34,
   "metadata": {},
   "outputs": [],
   "source": [
    "K = S@M"
   ]
  },
  {
   "cell_type": "code",
   "execution_count": 35,
   "metadata": {},
   "outputs": [],
   "source": [
    "def Recomendacion(i):\n",
    "    K[i-1][M[i-1]!=0]=0\n",
    "    return np.argmax(K[i-1])"
   ]
  },
  {
   "cell_type": "code",
   "execution_count": 36,
   "metadata": {},
   "outputs": [
    {
     "name": "stdout",
     "output_type": "stream",
     "text": [
      "Al usuario 1 le recomendamos la película 260\n",
      "Al usuario 2 le recomendamos la película 318\n",
      "Al usuario 3 le recomendamos la película 260\n",
      "Al usuario 4 le recomendamos la película 318\n",
      "Al usuario 5 le recomendamos la película 318\n",
      "Al usuario 6 le recomendamos la película 318\n",
      "Al usuario 7 le recomendamos la película 296\n",
      "Al usuario 8 le recomendamos la película 480\n",
      "Al usuario 9 le recomendamos la película 296\n",
      "Al usuario 10 le recomendamos la película 260\n",
      "Al usuario 11 le recomendamos la película 318\n",
      "Al usuario 12 le recomendamos la película 296\n",
      "Al usuario 13 le recomendamos la película 593\n",
      "Al usuario 14 le recomendamos la película 260\n",
      "Al usuario 15 le recomendamos la película 595\n",
      "Al usuario 16 le recomendamos la película 296\n",
      "Al usuario 17 le recomendamos la película 1196\n",
      "Al usuario 18 le recomendamos la película 1\n",
      "Al usuario 19 le recomendamos la película 2571\n",
      "Al usuario 20 le recomendamos la película 589\n",
      "Al usuario 21 le recomendamos la película 318\n",
      "Al usuario 22 le recomendamos la película 318\n",
      "Al usuario 23 le recomendamos la película 364\n",
      "Al usuario 24 le recomendamos la película 318\n",
      "Al usuario 25 le recomendamos la película 1\n",
      "Al usuario 26 le recomendamos la película 4993\n",
      "Al usuario 27 le recomendamos la película 318\n",
      "Al usuario 28 le recomendamos la película 318\n",
      "Al usuario 29 le recomendamos la película 260\n",
      "Al usuario 30 le recomendamos la película 5952\n",
      "Al usuario 31 le recomendamos la película 356\n",
      "Al usuario 32 le recomendamos la película 318\n",
      "Al usuario 33 le recomendamos la película 296\n",
      "Al usuario 34 le recomendamos la película 318\n",
      "Al usuario 35 le recomendamos la película 296\n",
      "Al usuario 36 le recomendamos la película 150\n",
      "Al usuario 37 le recomendamos la película 318\n",
      "Al usuario 38 le recomendamos la película 260\n",
      "Al usuario 39 le recomendamos la película 356\n",
      "Al usuario 40 le recomendamos la película 2571\n",
      "Al usuario 41 le recomendamos la película 296\n",
      "Al usuario 42 le recomendamos la película 593\n",
      "Al usuario 43 le recomendamos la película 296\n",
      "Al usuario 44 le recomendamos la película 608\n",
      "Al usuario 45 le recomendamos la película 296\n",
      "Al usuario 46 le recomendamos la película 2571\n",
      "Al usuario 47 le recomendamos la película 356\n",
      "Al usuario 48 le recomendamos la película 318\n",
      "Al usuario 49 le recomendamos la película 260\n",
      "Al usuario 50 le recomendamos la película 593\n",
      "Al usuario 51 le recomendamos la película 2858\n",
      "Al usuario 52 le recomendamos la película 356\n",
      "Al usuario 53 le recomendamos la película 296\n",
      "Al usuario 54 le recomendamos la película 356\n",
      "Al usuario 55 le recomendamos la película 296\n",
      "Al usuario 56 le recomendamos la película 2571\n",
      "Al usuario 57 le recomendamos la película 296\n",
      "Al usuario 58 le recomendamos la película 356\n",
      "Al usuario 59 le recomendamos la película 356\n",
      "Al usuario 60 le recomendamos la película 296\n",
      "Al usuario 61 le recomendamos la película 356\n",
      "Al usuario 62 le recomendamos la película 2571\n",
      "Al usuario 63 le recomendamos la película 356\n",
      "Al usuario 64 le recomendamos la película 480\n",
      "Al usuario 65 le recomendamos la película 1196\n",
      "Al usuario 66 le recomendamos la película 318\n",
      "Al usuario 67 le recomendamos la película 527\n",
      "Al usuario 68 le recomendamos la película 296\n",
      "Al usuario 69 le recomendamos la película 593\n",
      "Al usuario 70 le recomendamos la película 260\n",
      "Al usuario 71 le recomendamos la película 296\n",
      "Al usuario 72 le recomendamos la película 1198\n",
      "Al usuario 73 le recomendamos la película 4973\n",
      "Al usuario 74 le recomendamos la película 318\n",
      "Al usuario 75 le recomendamos la película 296\n",
      "Al usuario 76 le recomendamos la película 318\n",
      "Al usuario 77 le recomendamos la película 527\n",
      "Al usuario 78 le recomendamos la película 527\n",
      "Al usuario 79 le recomendamos la película 318\n",
      "Al usuario 80 le recomendamos la película 296\n",
      "Al usuario 81 le recomendamos la película 296\n",
      "Al usuario 82 le recomendamos la película 480\n",
      "Al usuario 83 le recomendamos la película 296\n",
      "Al usuario 84 le recomendamos la película 318\n",
      "Al usuario 85 le recomendamos la película 150\n",
      "Al usuario 86 le recomendamos la película 356\n",
      "Al usuario 87 le recomendamos la película 296\n",
      "Al usuario 88 le recomendamos la película 1198\n",
      "Al usuario 89 le recomendamos la película 356\n",
      "Al usuario 90 le recomendamos la película 296\n",
      "Al usuario 91 le recomendamos la película 296\n",
      "Al usuario 92 le recomendamos la película 593\n",
      "Al usuario 93 le recomendamos la película 356\n",
      "Al usuario 94 le recomendamos la película 1196\n",
      "Al usuario 95 le recomendamos la película 356\n",
      "Al usuario 96 le recomendamos la película 296\n",
      "Al usuario 97 le recomendamos la película 260\n",
      "Al usuario 98 le recomendamos la película 318\n",
      "Al usuario 99 le recomendamos la película 260\n",
      "Al usuario 100 le recomendamos la película 260\n",
      "Al usuario 101 le recomendamos la película 356\n",
      "Al usuario 102 le recomendamos la película 356\n",
      "Al usuario 103 le recomendamos la película 296\n",
      "Al usuario 104 le recomendamos la película 356\n",
      "Al usuario 105 le recomendamos la película 527\n",
      "Al usuario 106 le recomendamos la película 356\n",
      "Al usuario 107 le recomendamos la película 318\n",
      "Al usuario 108 le recomendamos la película 318\n",
      "Al usuario 109 le recomendamos la película 356\n",
      "Al usuario 110 le recomendamos la película 110\n",
      "Al usuario 111 le recomendamos la película 1\n",
      "Al usuario 112 le recomendamos la película 260\n",
      "Al usuario 113 le recomendamos la película 608\n",
      "Al usuario 114 le recomendamos la película 296\n",
      "Al usuario 115 le recomendamos la película 296\n",
      "Al usuario 116 le recomendamos la película 527\n",
      "Al usuario 117 le recomendamos la película 356\n",
      "Al usuario 118 le recomendamos la película 318\n",
      "Al usuario 119 le recomendamos la película 2959\n",
      "Al usuario 120 le recomendamos la película 318\n",
      "Al usuario 121 le recomendamos la película 47\n",
      "Al usuario 122 le recomendamos la película 593\n",
      "Al usuario 123 le recomendamos la película 296\n",
      "Al usuario 124 le recomendamos la película 260\n",
      "Al usuario 125 le recomendamos la película 593\n",
      "Al usuario 126 le recomendamos la película 296\n",
      "Al usuario 127 le recomendamos la película 296\n",
      "Al usuario 128 le recomendamos la película 296\n",
      "Al usuario 129 le recomendamos la película 356\n",
      "Al usuario 130 le recomendamos la película 296\n",
      "Al usuario 131 le recomendamos la película 318\n",
      "Al usuario 132 le recomendamos la película 318\n",
      "Al usuario 133 le recomendamos la película 2571\n",
      "Al usuario 134 le recomendamos la película 527\n",
      "Al usuario 135 le recomendamos la película 296\n",
      "Al usuario 136 le recomendamos la película 356\n",
      "Al usuario 137 le recomendamos la película 356\n",
      "Al usuario 138 le recomendamos la película 593\n",
      "Al usuario 139 le recomendamos la película 356\n",
      "Al usuario 140 le recomendamos la película 296\n",
      "Al usuario 141 le recomendamos la película 296\n",
      "Al usuario 142 le recomendamos la película 318\n",
      "Al usuario 143 le recomendamos la película 2571\n",
      "Al usuario 144 le recomendamos la película 318\n",
      "Al usuario 145 le recomendamos la película 318\n",
      "Al usuario 146 le recomendamos la película 296\n",
      "Al usuario 147 le recomendamos la película 318\n",
      "Al usuario 148 le recomendamos la película 296\n",
      "Al usuario 149 le recomendamos la película 4993\n",
      "Al usuario 150 le recomendamos la película 593\n",
      "Al usuario 151 le recomendamos la película 318\n",
      "Al usuario 152 le recomendamos la película 527\n",
      "Al usuario 153 le recomendamos la película 318\n",
      "Al usuario 154 le recomendamos la película 260\n",
      "Al usuario 155 le recomendamos la película 356\n",
      "Al usuario 156 le recomendamos la película 296\n",
      "Al usuario 157 le recomendamos la película 356\n",
      "Al usuario 158 le recomendamos la película 2571\n",
      "Al usuario 159 le recomendamos la película 1\n",
      "Al usuario 160 le recomendamos la película 296\n",
      "Al usuario 161 le recomendamos la película 110\n",
      "Al usuario 162 le recomendamos la película 260\n",
      "Al usuario 163 le recomendamos la película 1198\n",
      "Al usuario 164 le recomendamos la película 356\n",
      "Al usuario 165 le recomendamos la película 260\n",
      "Al usuario 166 le recomendamos la película 318\n",
      "Al usuario 167 le recomendamos la película 260\n",
      "Al usuario 168 le recomendamos la película 480\n",
      "Al usuario 169 le recomendamos la película 356\n",
      "Al usuario 170 le recomendamos la película 260\n",
      "Al usuario 171 le recomendamos la película 318\n",
      "Al usuario 172 le recomendamos la película 593\n",
      "Al usuario 173 le recomendamos la película 356\n",
      "Al usuario 174 le recomendamos la película 356\n",
      "Al usuario 175 le recomendamos la película 356\n",
      "Al usuario 176 le recomendamos la película 356\n",
      "Al usuario 177 le recomendamos la película 296\n",
      "Al usuario 178 le recomendamos la película 527\n",
      "Al usuario 179 le recomendamos la película 2571\n",
      "Al usuario 180 le recomendamos la película 356\n",
      "Al usuario 181 le recomendamos la película 318\n",
      "Al usuario 182 le recomendamos la película 296\n",
      "Al usuario 183 le recomendamos la película 356\n",
      "Al usuario 184 le recomendamos la película 110\n",
      "Al usuario 185 le recomendamos la película 480\n",
      "Al usuario 186 le recomendamos la película 318\n",
      "Al usuario 187 le recomendamos la película 260\n",
      "Al usuario 188 le recomendamos la película 260\n",
      "Al usuario 189 le recomendamos la película 296\n",
      "Al usuario 190 le recomendamos la película 296\n",
      "Al usuario 191 le recomendamos la película 589\n",
      "Al usuario 192 le recomendamos la película 296\n",
      "Al usuario 193 le recomendamos la película 260\n",
      "Al usuario 194 le recomendamos la película 318\n",
      "Al usuario 195 le recomendamos la película 2571\n",
      "Al usuario 196 le recomendamos la película 356\n",
      "Al usuario 197 le recomendamos la película 296\n",
      "Al usuario 198 le recomendamos la película 296\n",
      "Al usuario 199 le recomendamos la película 1\n",
      "Al usuario 200 le recomendamos la película 318\n",
      "Al usuario 201 le recomendamos la película 2571\n",
      "Al usuario 202 le recomendamos la película 260\n",
      "Al usuario 203 le recomendamos la película 296\n",
      "Al usuario 204 le recomendamos la película 296\n",
      "Al usuario 205 le recomendamos la película 318\n",
      "Al usuario 206 le recomendamos la película 260\n",
      "Al usuario 207 le recomendamos la película 318\n",
      "Al usuario 208 le recomendamos la película 318\n",
      "Al usuario 209 le recomendamos la película 296\n",
      "Al usuario 210 le recomendamos la película 356\n",
      "Al usuario 211 le recomendamos la película 296\n",
      "Al usuario 212 le recomendamos la película 1196\n",
      "Al usuario 213 le recomendamos la película 296\n",
      "Al usuario 214 le recomendamos la película 356\n",
      "Al usuario 215 le recomendamos la película 318\n",
      "Al usuario 216 le recomendamos la película 296\n",
      "Al usuario 217 le recomendamos la película 356\n",
      "Al usuario 218 le recomendamos la película 296\n",
      "Al usuario 219 le recomendamos la película 593\n",
      "Al usuario 220 le recomendamos la película 318\n",
      "Al usuario 221 le recomendamos la película 260\n",
      "Al usuario 222 le recomendamos la película 260\n",
      "Al usuario 223 le recomendamos la película 1\n",
      "Al usuario 224 le recomendamos la película 318\n",
      "Al usuario 225 le recomendamos la película 318\n",
      "Al usuario 226 le recomendamos la película 356\n",
      "Al usuario 227 le recomendamos la película 2571\n",
      "Al usuario 228 le recomendamos la película 356\n",
      "Al usuario 229 le recomendamos la película 318\n",
      "Al usuario 230 le recomendamos la película 296\n",
      "Al usuario 231 le recomendamos la película 318\n",
      "Al usuario 232 le recomendamos la película 318\n",
      "Al usuario 233 le recomendamos la película 260\n",
      "Al usuario 234 le recomendamos la película 318\n",
      "Al usuario 235 le recomendamos la película 260\n",
      "Al usuario 236 le recomendamos la película 318\n",
      "Al usuario 237 le recomendamos la película 356\n",
      "Al usuario 238 le recomendamos la película 296\n",
      "Al usuario 239 le recomendamos la película 296\n",
      "Al usuario 240 le recomendamos la película 260\n",
      "Al usuario 241 le recomendamos la película 593\n",
      "Al usuario 242 le recomendamos la película 589\n",
      "Al usuario 243 le recomendamos la película 318\n",
      "Al usuario 244 le recomendamos la película 296\n",
      "Al usuario 245 le recomendamos la película 318\n",
      "Al usuario 246 le recomendamos la película 356\n",
      "Al usuario 247 le recomendamos la película 318\n",
      "Al usuario 248 le recomendamos la película 260\n",
      "Al usuario 249 le recomendamos la película 296\n",
      "Al usuario 250 le recomendamos la película 296\n",
      "Al usuario 251 le recomendamos la película 318\n",
      "Al usuario 252 le recomendamos la película 608\n",
      "Al usuario 253 le recomendamos la película 2571\n",
      "Al usuario 254 le recomendamos la película 480\n",
      "Al usuario 255 le recomendamos la película 318\n",
      "Al usuario 256 le recomendamos la película 780\n",
      "Al usuario 257 le recomendamos la película 356\n",
      "Al usuario 258 le recomendamos la película 858\n",
      "Al usuario 259 le recomendamos la película 296\n",
      "Al usuario 260 le recomendamos la película 318\n",
      "Al usuario 261 le recomendamos la película 296\n",
      "Al usuario 262 le recomendamos la película 260\n",
      "Al usuario 263 le recomendamos la película 260\n",
      "Al usuario 264 le recomendamos la película 318\n",
      "Al usuario 265 le recomendamos la película 318\n",
      "Al usuario 266 le recomendamos la película 110\n",
      "Al usuario 267 le recomendamos la película 356\n",
      "Al usuario 268 le recomendamos la película 590\n",
      "Al usuario 269 le recomendamos la película 296\n",
      "Al usuario 270 le recomendamos la película 318\n",
      "Al usuario 271 le recomendamos la película 356\n",
      "Al usuario 272 le recomendamos la película 2571\n",
      "Al usuario 273 le recomendamos la película 318\n",
      "Al usuario 274 le recomendamos la película 318\n",
      "Al usuario 275 le recomendamos la película 296\n",
      "Al usuario 276 le recomendamos la película 296\n",
      "Al usuario 277 le recomendamos la película 296\n",
      "Al usuario 278 le recomendamos la película 318\n",
      "Al usuario 279 le recomendamos la película 260\n",
      "Al usuario 280 le recomendamos la película 318\n",
      "Al usuario 281 le recomendamos la película 318\n",
      "Al usuario 282 le recomendamos la película 2571\n",
      "Al usuario 283 le recomendamos la película 260\n",
      "Al usuario 284 le recomendamos la película 260\n",
      "Al usuario 285 le recomendamos la película 318\n",
      "Al usuario 286 le recomendamos la película 356\n",
      "Al usuario 287 le recomendamos la película 356\n",
      "Al usuario 288 le recomendamos la película 318\n",
      "Al usuario 289 le recomendamos la película 356\n",
      "Al usuario 290 le recomendamos la película 296\n",
      "Al usuario 291 le recomendamos la película 260\n",
      "Al usuario 292 le recomendamos la película 1198\n",
      "Al usuario 293 le recomendamos la película 318\n",
      "Al usuario 294 le recomendamos la película 296\n",
      "Al usuario 295 le recomendamos la película 1\n",
      "Al usuario 296 le recomendamos la película 356\n",
      "Al usuario 297 le recomendamos la película 318\n",
      "Al usuario 298 le recomendamos la película 296\n",
      "Al usuario 299 le recomendamos la película 318\n",
      "Al usuario 300 le recomendamos la película 296\n",
      "Al usuario 301 le recomendamos la película 356\n",
      "Al usuario 302 le recomendamos la película 356\n",
      "Al usuario 303 le recomendamos la película 480\n",
      "Al usuario 304 le recomendamos la película 593\n",
      "Al usuario 305 le recomendamos la película 356\n",
      "Al usuario 306 le recomendamos la película 2571\n",
      "Al usuario 307 le recomendamos la película 356\n",
      "Al usuario 308 le recomendamos la película 296\n",
      "Al usuario 309 le recomendamos la película 356\n",
      "Al usuario 310 le recomendamos la película 296\n",
      "Al usuario 311 le recomendamos la película 2858\n",
      "Al usuario 312 le recomendamos la película 110\n",
      "Al usuario 313 le recomendamos la película 296\n",
      "Al usuario 314 le recomendamos la película 296\n",
      "Al usuario 315 le recomendamos la película 318\n",
      "Al usuario 316 le recomendamos la película 356\n",
      "Al usuario 317 le recomendamos la película 593\n",
      "Al usuario 318 le recomendamos la película 296\n",
      "Al usuario 319 le recomendamos la película 296\n",
      "Al usuario 320 le recomendamos la película 593\n",
      "Al usuario 321 le recomendamos la película 318\n",
      "Al usuario 322 le recomendamos la película 296\n",
      "Al usuario 323 le recomendamos la película 356\n",
      "Al usuario 324 le recomendamos la película 296\n",
      "Al usuario 325 le recomendamos la película 296\n",
      "Al usuario 326 le recomendamos la película 260\n",
      "Al usuario 327 le recomendamos la película 356\n",
      "Al usuario 328 le recomendamos la película 296\n",
      "Al usuario 329 le recomendamos la película 356\n",
      "Al usuario 330 le recomendamos la película 296\n",
      "Al usuario 331 le recomendamos la película 356\n",
      "Al usuario 332 le recomendamos la película 296\n",
      "Al usuario 333 le recomendamos la película 296\n",
      "Al usuario 334 le recomendamos la película 593\n",
      "Al usuario 335 le recomendamos la película 318\n",
      "Al usuario 336 le recomendamos la película 318\n",
      "Al usuario 337 le recomendamos la película 356\n",
      "Al usuario 338 le recomendamos la película 380\n",
      "Al usuario 339 le recomendamos la película 296\n",
      "Al usuario 340 le recomendamos la película 593\n",
      "Al usuario 341 le recomendamos la película 2858\n",
      "Al usuario 342 le recomendamos la película 356\n",
      "Al usuario 343 le recomendamos la película 296\n",
      "Al usuario 344 le recomendamos la película 150\n",
      "Al usuario 345 le recomendamos la película 589\n",
      "Al usuario 346 le recomendamos la película 356\n",
      "Al usuario 347 le recomendamos la película 318\n",
      "Al usuario 348 le recomendamos la película 318\n",
      "Al usuario 349 le recomendamos la película 356\n",
      "Al usuario 350 le recomendamos la película 296\n",
      "Al usuario 351 le recomendamos la película 318\n",
      "Al usuario 352 le recomendamos la película 356\n",
      "Al usuario 353 le recomendamos la película 527\n",
      "Al usuario 354 le recomendamos la película 296\n",
      "Al usuario 355 le recomendamos la película 608\n",
      "Al usuario 356 le recomendamos la película 318\n",
      "Al usuario 357 le recomendamos la película 296\n",
      "Al usuario 358 le recomendamos la película 480\n",
      "Al usuario 359 le recomendamos la película 296\n",
      "Al usuario 360 le recomendamos la película 296\n",
      "Al usuario 361 le recomendamos la película 296\n",
      "Al usuario 362 le recomendamos la película 260\n",
      "Al usuario 363 le recomendamos la película 356\n",
      "Al usuario 364 le recomendamos la película 356\n",
      "Al usuario 365 le recomendamos la película 356\n",
      "Al usuario 366 le recomendamos la película 2571\n",
      "Al usuario 367 le recomendamos la película 356\n",
      "Al usuario 368 le recomendamos la película 318\n",
      "Al usuario 369 le recomendamos la película 593\n",
      "Al usuario 370 le recomendamos la película 356\n",
      "Al usuario 371 le recomendamos la película 260\n",
      "Al usuario 372 le recomendamos la película 356\n",
      "Al usuario 373 le recomendamos la película 593\n",
      "Al usuario 374 le recomendamos la película 260\n",
      "Al usuario 375 le recomendamos la película 318\n",
      "Al usuario 376 le recomendamos la película 296\n",
      "Al usuario 377 le recomendamos la película 356\n",
      "Al usuario 378 le recomendamos la película 356\n",
      "Al usuario 379 le recomendamos la película 260\n",
      "Al usuario 380 le recomendamos la película 1198\n",
      "Al usuario 381 le recomendamos la película 318\n",
      "Al usuario 382 le recomendamos la película 296\n",
      "Al usuario 383 le recomendamos la película 318\n",
      "Al usuario 384 le recomendamos la película 318\n",
      "Al usuario 385 le recomendamos la película 588\n",
      "Al usuario 386 le recomendamos la película 296\n",
      "Al usuario 387 le recomendamos la película 296\n",
      "Al usuario 388 le recomendamos la película 1\n",
      "Al usuario 389 le recomendamos la película 356\n",
      "Al usuario 390 le recomendamos la película 356\n",
      "Al usuario 391 le recomendamos la película 296\n",
      "Al usuario 392 le recomendamos la película 318\n",
      "Al usuario 393 le recomendamos la película 296\n",
      "Al usuario 394 le recomendamos la película 356\n",
      "Al usuario 395 le recomendamos la película 1196\n",
      "Al usuario 396 le recomendamos la película 296\n",
      "Al usuario 397 le recomendamos la película 2571\n",
      "Al usuario 398 le recomendamos la película 260\n",
      "Al usuario 399 le recomendamos la película 356\n",
      "Al usuario 400 le recomendamos la película 260\n",
      "Al usuario 401 le recomendamos la película 318\n",
      "Al usuario 402 le recomendamos la película 318\n",
      "Al usuario 403 le recomendamos la película 318\n",
      "Al usuario 404 le recomendamos la película 318\n",
      "Al usuario 405 le recomendamos la película 318\n",
      "Al usuario 406 le recomendamos la película 260\n",
      "Al usuario 407 le recomendamos la película 356\n",
      "Al usuario 408 le recomendamos la película 318\n",
      "Al usuario 409 le recomendamos la película 356\n",
      "Al usuario 410 le recomendamos la película 593\n",
      "Al usuario 411 le recomendamos la película 296\n",
      "Al usuario 412 le recomendamos la película 356\n",
      "Al usuario 413 le recomendamos la película 260\n",
      "Al usuario 414 le recomendamos la película 318\n",
      "Al usuario 415 le recomendamos la película 318\n",
      "Al usuario 416 le recomendamos la película 318\n",
      "Al usuario 417 le recomendamos la película 318\n",
      "Al usuario 418 le recomendamos la película 296\n",
      "Al usuario 419 le recomendamos la película 318\n",
      "Al usuario 420 le recomendamos la película 260\n",
      "Al usuario 421 le recomendamos la película 296\n",
      "Al usuario 422 le recomendamos la película 260\n",
      "Al usuario 423 le recomendamos la película 260\n",
      "Al usuario 424 le recomendamos la película 296\n",
      "Al usuario 425 le recomendamos la película 296\n",
      "Al usuario 426 le recomendamos la película 296\n",
      "Al usuario 427 le recomendamos la película 318\n",
      "Al usuario 428 le recomendamos la película 318\n",
      "Al usuario 429 le recomendamos la película 318\n",
      "Al usuario 430 le recomendamos la película 527\n",
      "Al usuario 431 le recomendamos la película 296\n",
      "Al usuario 432 le recomendamos la película 260\n",
      "Al usuario 433 le recomendamos la película 2959\n",
      "Al usuario 434 le recomendamos la película 1196\n",
      "Al usuario 435 le recomendamos la película 356\n",
      "Al usuario 436 le recomendamos la película 296\n",
      "Al usuario 437 le recomendamos la película 356\n",
      "Al usuario 438 le recomendamos la película 356\n",
      "Al usuario 439 le recomendamos la película 356\n",
      "Al usuario 440 le recomendamos la película 457\n",
      "Al usuario 441 le recomendamos la película 527\n",
      "Al usuario 442 le recomendamos la película 50\n",
      "Al usuario 443 le recomendamos la película 296\n",
      "Al usuario 444 le recomendamos la película 2858\n",
      "Al usuario 445 le recomendamos la película 527\n",
      "Al usuario 446 le recomendamos la película 2571\n",
      "Al usuario 447 le recomendamos la película 356\n",
      "Al usuario 448 le recomendamos la película 318\n",
      "Al usuario 449 le recomendamos la película 110\n",
      "Al usuario 450 le recomendamos la película 356\n",
      "Al usuario 451 le recomendamos la película 296\n",
      "Al usuario 452 le recomendamos la película 50\n",
      "Al usuario 453 le recomendamos la película 356\n",
      "Al usuario 454 le recomendamos la película 356\n",
      "Al usuario 455 le recomendamos la película 318\n",
      "Al usuario 456 le recomendamos la película 318\n",
      "Al usuario 457 le recomendamos la película 527\n",
      "Al usuario 458 le recomendamos la película 260\n",
      "Al usuario 459 le recomendamos la película 608\n",
      "Al usuario 460 le recomendamos la película 527\n",
      "Al usuario 461 le recomendamos la película 32\n",
      "Al usuario 462 le recomendamos la película 296\n",
      "Al usuario 463 le recomendamos la película 2959\n",
      "Al usuario 464 le recomendamos la película 356\n",
      "Al usuario 465 le recomendamos la película 318\n",
      "Al usuario 466 le recomendamos la película 356\n",
      "Al usuario 467 le recomendamos la película 296\n",
      "Al usuario 468 le recomendamos la película 527\n",
      "Al usuario 469 le recomendamos la película 296\n",
      "Al usuario 470 le recomendamos la película 593\n",
      "Al usuario 471 le recomendamos la película 318\n",
      "Al usuario 472 le recomendamos la película 110\n",
      "Al usuario 473 le recomendamos la película 318\n",
      "Al usuario 474 le recomendamos la película 318\n",
      "Al usuario 475 le recomendamos la película 318\n",
      "Al usuario 476 le recomendamos la película 296\n",
      "Al usuario 477 le recomendamos la película 260\n",
      "Al usuario 478 le recomendamos la película 593\n",
      "Al usuario 479 le recomendamos la película 356\n",
      "Al usuario 480 le recomendamos la película 260\n",
      "Al usuario 481 le recomendamos la película 50\n",
      "Al usuario 482 le recomendamos la película 260\n",
      "Al usuario 483 le recomendamos la película 296\n",
      "Al usuario 484 le recomendamos la película 260\n",
      "Al usuario 485 le recomendamos la película 318\n",
      "Al usuario 486 le recomendamos la película 318\n",
      "Al usuario 487 le recomendamos la película 589\n",
      "Al usuario 488 le recomendamos la película 296\n",
      "Al usuario 489 le recomendamos la película 296\n",
      "Al usuario 490 le recomendamos la película 260\n",
      "Al usuario 491 le recomendamos la película 296\n",
      "Al usuario 492 le recomendamos la película 296\n",
      "Al usuario 493 le recomendamos la película 318\n",
      "Al usuario 494 le recomendamos la película 2858\n",
      "Al usuario 495 le recomendamos la película 296\n",
      "Al usuario 496 le recomendamos la película 296\n",
      "Al usuario 497 le recomendamos la película 260\n",
      "Al usuario 498 le recomendamos la película 356\n",
      "Al usuario 499 le recomendamos la película 318\n",
      "Al usuario 500 le recomendamos la película 296\n",
      "Al usuario 501 le recomendamos la película 260\n",
      "Al usuario 502 le recomendamos la película 356\n",
      "Al usuario 503 le recomendamos la película 318\n",
      "Al usuario 504 le recomendamos la película 356\n",
      "Al usuario 505 le recomendamos la película 2858\n",
      "Al usuario 506 le recomendamos la película 356\n",
      "Al usuario 507 le recomendamos la película 296\n",
      "Al usuario 508 le recomendamos la película 110\n",
      "Al usuario 509 le recomendamos la película 648\n",
      "Al usuario 510 le recomendamos la película 1196\n",
      "Al usuario 511 le recomendamos la película 593\n",
      "Al usuario 512 le recomendamos la película 296\n",
      "Al usuario 513 le recomendamos la película 589\n",
      "Al usuario 514 le recomendamos la película 527\n",
      "Al usuario 515 le recomendamos la película 2571\n",
      "Al usuario 516 le recomendamos la película 457\n",
      "Al usuario 517 le recomendamos la película 296\n",
      "Al usuario 518 le recomendamos la película 527\n",
      "Al usuario 519 le recomendamos la película 2571\n",
      "Al usuario 520 le recomendamos la película 356\n",
      "Al usuario 521 le recomendamos la película 296\n",
      "Al usuario 522 le recomendamos la película 318\n",
      "Al usuario 523 le recomendamos la película 527\n",
      "Al usuario 524 le recomendamos la película 2571\n",
      "Al usuario 525 le recomendamos la película 296\n",
      "Al usuario 526 le recomendamos la película 2571\n",
      "Al usuario 527 le recomendamos la película 318\n",
      "Al usuario 528 le recomendamos la película 318\n",
      "Al usuario 529 le recomendamos la película 296\n",
      "Al usuario 530 le recomendamos la película 296\n",
      "Al usuario 531 le recomendamos la película 318\n",
      "Al usuario 532 le recomendamos la película 356\n",
      "Al usuario 533 le recomendamos la película 356\n",
      "Al usuario 534 le recomendamos la película 260\n",
      "Al usuario 535 le recomendamos la película 150\n",
      "Al usuario 536 le recomendamos la película 356\n",
      "Al usuario 537 le recomendamos la película 589\n",
      "Al usuario 538 le recomendamos la película 356\n",
      "Al usuario 539 le recomendamos la película 593\n",
      "Al usuario 540 le recomendamos la película 296\n",
      "Al usuario 541 le recomendamos la película 296\n",
      "Al usuario 542 le recomendamos la película 2571\n",
      "Al usuario 543 le recomendamos la película 356\n",
      "Al usuario 544 le recomendamos la película 318\n",
      "Al usuario 545 le recomendamos la película 318\n",
      "Al usuario 546 le recomendamos la película 296\n",
      "Al usuario 547 le recomendamos la película 260\n",
      "Al usuario 548 le recomendamos la película 589\n",
      "Al usuario 549 le recomendamos la película 296\n",
      "Al usuario 550 le recomendamos la película 318\n",
      "Al usuario 551 le recomendamos la película 356\n",
      "Al usuario 552 le recomendamos la película 318\n",
      "Al usuario 553 le recomendamos la película 356\n",
      "Al usuario 554 le recomendamos la película 318\n",
      "Al usuario 555 le recomendamos la película 356\n",
      "Al usuario 556 le recomendamos la película 356\n",
      "Al usuario 557 le recomendamos la película 356\n",
      "Al usuario 558 le recomendamos la película 296\n",
      "Al usuario 559 le recomendamos la película 296\n",
      "Al usuario 560 le recomendamos la película 260\n",
      "Al usuario 561 le recomendamos la película 318\n",
      "Al usuario 562 le recomendamos la película 588\n",
      "Al usuario 563 le recomendamos la película 318\n",
      "Al usuario 564 le recomendamos la película 318\n",
      "Al usuario 565 le recomendamos la película 296\n",
      "Al usuario 566 le recomendamos la película 296\n",
      "Al usuario 567 le recomendamos la película 296\n",
      "Al usuario 568 le recomendamos la película 110\n",
      "Al usuario 569 le recomendamos la película 296\n",
      "Al usuario 570 le recomendamos la película 318\n",
      "Al usuario 571 le recomendamos la película 296\n",
      "Al usuario 572 le recomendamos la película 260\n",
      "Al usuario 573 le recomendamos la película 318\n",
      "Al usuario 574 le recomendamos la película 593\n",
      "Al usuario 575 le recomendamos la película 296\n",
      "Al usuario 576 le recomendamos la película 356\n",
      "Al usuario 577 le recomendamos la película 527\n",
      "Al usuario 578 le recomendamos la película 296\n",
      "Al usuario 579 le recomendamos la película 318\n",
      "Al usuario 580 le recomendamos la película 457\n",
      "Al usuario 581 le recomendamos la película 356\n",
      "Al usuario 582 le recomendamos la película 318\n",
      "Al usuario 583 le recomendamos la película 356\n",
      "Al usuario 584 le recomendamos la película 260\n",
      "Al usuario 585 le recomendamos la película 608\n",
      "Al usuario 586 le recomendamos la película 1198\n",
      "Al usuario 587 le recomendamos la película 356\n",
      "Al usuario 588 le recomendamos la película 588\n",
      "Al usuario 589 le recomendamos la película 356\n",
      "Al usuario 590 le recomendamos la película 593\n",
      "Al usuario 591 le recomendamos la película 356\n",
      "Al usuario 592 le recomendamos la película 296\n",
      "Al usuario 593 le recomendamos la película 318\n",
      "Al usuario 594 le recomendamos la película 318\n",
      "Al usuario 595 le recomendamos la película 356\n",
      "Al usuario 596 le recomendamos la película 1198\n",
      "Al usuario 597 le recomendamos la película 296\n",
      "Al usuario 598 le recomendamos la película 593\n",
      "Al usuario 599 le recomendamos la película 2571\n",
      "Al usuario 600 le recomendamos la película 356\n",
      "Al usuario 601 le recomendamos la película 2571\n",
      "Al usuario 602 le recomendamos la película 1\n",
      "Al usuario 603 le recomendamos la película 356\n",
      "Al usuario 604 le recomendamos la película 296\n",
      "Al usuario 605 le recomendamos la película 356\n",
      "Al usuario 606 le recomendamos la película 318\n",
      "Al usuario 607 le recomendamos la película 527\n",
      "Al usuario 608 le recomendamos la película 318\n",
      "Al usuario 609 le recomendamos la película 318\n",
      "Al usuario 610 le recomendamos la película 296\n",
      "Al usuario 611 le recomendamos la película 318\n",
      "Al usuario 612 le recomendamos la película 356\n",
      "Al usuario 613 le recomendamos la película 296\n",
      "Al usuario 614 le recomendamos la película 318\n",
      "Al usuario 615 le recomendamos la película 318\n",
      "Al usuario 616 le recomendamos la película 296\n",
      "Al usuario 617 le recomendamos la película 318\n",
      "Al usuario 618 le recomendamos la película 296\n",
      "Al usuario 619 le recomendamos la película 356\n",
      "Al usuario 620 le recomendamos la película 2571\n",
      "Al usuario 621 le recomendamos la película 318\n",
      "Al usuario 622 le recomendamos la película 296\n",
      "Al usuario 623 le recomendamos la película 593\n",
      "Al usuario 624 le recomendamos la película 318\n",
      "Al usuario 625 le recomendamos la película 356\n",
      "Al usuario 626 le recomendamos la película 356\n",
      "Al usuario 627 le recomendamos la película 1196\n",
      "Al usuario 628 le recomendamos la película 296\n",
      "Al usuario 629 le recomendamos la película 318\n",
      "Al usuario 630 le recomendamos la película 318\n",
      "Al usuario 631 le recomendamos la película 296\n",
      "Al usuario 632 le recomendamos la película 356\n",
      "Al usuario 633 le recomendamos la película 593\n",
      "Al usuario 634 le recomendamos la película 296\n",
      "Al usuario 635 le recomendamos la película 356\n",
      "Al usuario 636 le recomendamos la película 296\n",
      "Al usuario 637 le recomendamos la película 296\n",
      "Al usuario 638 le recomendamos la película 260\n",
      "Al usuario 639 le recomendamos la película 356\n",
      "Al usuario 640 le recomendamos la película 1\n",
      "Al usuario 641 le recomendamos la película 110\n",
      "Al usuario 642 le recomendamos la película 296\n",
      "Al usuario 643 le recomendamos la película 296\n",
      "Al usuario 644 le recomendamos la película 296\n",
      "Al usuario 645 le recomendamos la película 356\n",
      "Al usuario 646 le recomendamos la película 318\n",
      "Al usuario 647 le recomendamos la película 318\n",
      "Al usuario 648 le recomendamos la película 593\n",
      "Al usuario 649 le recomendamos la película 318\n",
      "Al usuario 650 le recomendamos la película 608\n",
      "Al usuario 651 le recomendamos la película 356\n",
      "Al usuario 652 le recomendamos la película 356\n",
      "Al usuario 653 le recomendamos la película 296\n",
      "Al usuario 654 le recomendamos la película 1221\n",
      "Al usuario 655 le recomendamos la película 356\n",
      "Al usuario 656 le recomendamos la película 260\n",
      "Al usuario 657 le recomendamos la película 480\n",
      "Al usuario 658 le recomendamos la película 260\n",
      "Al usuario 659 le recomendamos la película 1\n",
      "Al usuario 660 le recomendamos la película 318\n",
      "Al usuario 661 le recomendamos la película 296\n",
      "Al usuario 662 le recomendamos la película 593\n",
      "Al usuario 663 le recomendamos la película 318\n",
      "Al usuario 664 le recomendamos la película 527\n",
      "Al usuario 665 le recomendamos la película 480\n",
      "Al usuario 666 le recomendamos la película 318\n",
      "Al usuario 667 le recomendamos la película 318\n",
      "Al usuario 668 le recomendamos la película 356\n",
      "Al usuario 669 le recomendamos la película 296\n",
      "Al usuario 670 le recomendamos la película 296\n",
      "Al usuario 671 le recomendamos la película 593\n"
     ]
    },
    {
     "name": "stdout",
     "output_type": "stream",
     "text": [
      "Al usuario 429 le recomendamos la película 318\n",
      "Al usuario 430 le recomendamos la película 527\n",
      "Al usuario 431 le recomendamos la película 296\n",
      "Al usuario 432 le recomendamos la película 260\n",
      "Al usuario 433 le recomendamos la película 2959\n",
      "Al usuario 434 le recomendamos la película 1196\n",
      "Al usuario 435 le recomendamos la película 356\n",
      "Al usuario 436 le recomendamos la película 296\n",
      "Al usuario 437 le recomendamos la película 356\n",
      "Al usuario 438 le recomendamos la película 356\n",
      "Al usuario 439 le recomendamos la película 356\n",
      "Al usuario 440 le recomendamos la película 457\n",
      "Al usuario 441 le recomendamos la película 527\n",
      "Al usuario 442 le recomendamos la película 50\n",
      "Al usuario 443 le recomendamos la película 296\n",
      "Al usuario 444 le recomendamos la película 2858\n",
      "Al usuario 445 le recomendamos la película 527\n",
      "Al usuario 446 le recomendamos la película 2571\n",
      "Al usuario 447 le recomendamos la película 356\n",
      "Al usuario 448 le recomendamos la película 318\n",
      "Al usuario 449 le recomendamos la película 110\n",
      "Al usuario 450 le recomendamos la película 356\n",
      "Al usuario 451 le recomendamos la película 296\n",
      "Al usuario 452 le recomendamos la película 50\n",
      "Al usuario 453 le recomendamos la película 356\n",
      "Al usuario 454 le recomendamos la película 356\n",
      "Al usuario 455 le recomendamos la película 318\n",
      "Al usuario 456 le recomendamos la película 318\n",
      "Al usuario 457 le recomendamos la película 527\n",
      "Al usuario 458 le recomendamos la película 260\n",
      "Al usuario 459 le recomendamos la película 608\n",
      "Al usuario 460 le recomendamos la película 527\n",
      "Al usuario 461 le recomendamos la película 32\n",
      "Al usuario 462 le recomendamos la película 296\n",
      "Al usuario 463 le recomendamos la película 2959\n",
      "Al usuario 464 le recomendamos la película 356\n",
      "Al usuario 465 le recomendamos la película 318\n",
      "Al usuario 466 le recomendamos la película 356\n",
      "Al usuario 467 le recomendamos la película 296\n",
      "Al usuario 468 le recomendamos la película 527\n",
      "Al usuario 469 le recomendamos la película 296\n",
      "Al usuario 470 le recomendamos la película 593\n",
      "Al usuario 471 le recomendamos la película 318\n",
      "Al usuario 472 le recomendamos la película 110\n",
      "Al usuario 473 le recomendamos la película 318\n",
      "Al usuario 474 le recomendamos la película 318\n",
      "Al usuario 475 le recomendamos la película 318\n",
      "Al usuario 476 le recomendamos la película 296\n",
      "Al usuario 477 le recomendamos la película 260\n",
      "Al usuario 478 le recomendamos la película 593\n",
      "Al usuario 479 le recomendamos la película 356\n",
      "Al usuario 480 le recomendamos la película 260\n",
      "Al usuario 481 le recomendamos la película 50\n",
      "Al usuario 482 le recomendamos la película 260\n",
      "Al usuario 483 le recomendamos la película 296\n",
      "Al usuario 484 le recomendamos la película 260\n",
      "Al usuario 485 le recomendamos la película 318\n",
      "Al usuario 486 le recomendamos la película 318\n",
      "Al usuario 487 le recomendamos la película 589\n",
      "Al usuario 488 le recomendamos la película 296\n",
      "Al usuario 489 le recomendamos la película 296\n",
      "Al usuario 490 le recomendamos la película 260\n",
      "Al usuario 491 le recomendamos la película 296\n",
      "Al usuario 492 le recomendamos la película 296\n",
      "Al usuario 493 le recomendamos la película 318\n",
      "Al usuario 494 le recomendamos la película 2858\n",
      "Al usuario 495 le recomendamos la película 296\n",
      "Al usuario 496 le recomendamos la película 296\n",
      "Al usuario 497 le recomendamos la película 260\n",
      "Al usuario 498 le recomendamos la película 356\n",
      "Al usuario 499 le recomendamos la película 318\n",
      "Al usuario 500 le recomendamos la película 296\n",
      "Al usuario 501 le recomendamos la película 260\n",
      "Al usuario 502 le recomendamos la película 356\n",
      "Al usuario 503 le recomendamos la película 318\n",
      "Al usuario 504 le recomendamos la película 356\n",
      "Al usuario 505 le recomendamos la película 2858\n",
      "Al usuario 506 le recomendamos la película 356\n",
      "Al usuario 507 le recomendamos la película 296\n",
      "Al usuario 508 le recomendamos la película 110\n",
      "Al usuario 509 le recomendamos la película 648\n",
      "Al usuario 510 le recomendamos la película 1196\n",
      "Al usuario 511 le recomendamos la película 593\n",
      "Al usuario 512 le recomendamos la película 296\n",
      "Al usuario 513 le recomendamos la película 589\n",
      "Al usuario 514 le recomendamos la película 527\n",
      "Al usuario 515 le recomendamos la película 2571\n",
      "Al usuario 516 le recomendamos la película 457\n",
      "Al usuario 517 le recomendamos la película 296\n",
      "Al usuario 518 le recomendamos la película 527\n",
      "Al usuario 519 le recomendamos la película 2571\n",
      "Al usuario 520 le recomendamos la película 356\n",
      "Al usuario 521 le recomendamos la película 296\n",
      "Al usuario 522 le recomendamos la película 318\n",
      "Al usuario 523 le recomendamos la película 527\n",
      "Al usuario 524 le recomendamos la película 2571\n",
      "Al usuario 525 le recomendamos la película 296\n",
      "Al usuario 526 le recomendamos la película 2571\n",
      "Al usuario 527 le recomendamos la película 318\n",
      "Al usuario 528 le recomendamos la película 318\n",
      "Al usuario 529 le recomendamos la película 296\n",
      "Al usuario 530 le recomendamos la película 296\n",
      "Al usuario 531 le recomendamos la película 318\n",
      "Al usuario 532 le recomendamos la película 356\n",
      "Al usuario 533 le recomendamos la película 356\n",
      "Al usuario 534 le recomendamos la película 260\n",
      "Al usuario 535 le recomendamos la película 150\n",
      "Al usuario 536 le recomendamos la película 356\n",
      "Al usuario 537 le recomendamos la película 589\n",
      "Al usuario 538 le recomendamos la película 356\n",
      "Al usuario 539 le recomendamos la película 593\n",
      "Al usuario 540 le recomendamos la película 296\n",
      "Al usuario 541 le recomendamos la película 296\n",
      "Al usuario 542 le recomendamos la película 2571\n",
      "Al usuario 543 le recomendamos la película 356\n",
      "Al usuario 544 le recomendamos la película 318\n",
      "Al usuario 545 le recomendamos la película 318\n",
      "Al usuario 546 le recomendamos la película 296\n",
      "Al usuario 547 le recomendamos la película 260\n",
      "Al usuario 548 le recomendamos la película 589\n",
      "Al usuario 549 le recomendamos la película 296\n",
      "Al usuario 550 le recomendamos la película 318\n",
      "Al usuario 551 le recomendamos la película 356\n",
      "Al usuario 552 le recomendamos la película 318\n",
      "Al usuario 553 le recomendamos la película 356\n",
      "Al usuario 554 le recomendamos la película 318\n",
      "Al usuario 555 le recomendamos la película 356\n",
      "Al usuario 556 le recomendamos la película 356\n",
      "Al usuario 557 le recomendamos la película 356\n",
      "Al usuario 558 le recomendamos la película 296\n",
      "Al usuario 559 le recomendamos la película 296\n",
      "Al usuario 560 le recomendamos la película 260\n",
      "Al usuario 561 le recomendamos la película 318\n",
      "Al usuario 562 le recomendamos la película 588\n",
      "Al usuario 563 le recomendamos la película 318\n",
      "Al usuario 564 le recomendamos la película 318\n",
      "Al usuario 565 le recomendamos la película 296\n",
      "Al usuario 566 le recomendamos la película 296\n",
      "Al usuario 567 le recomendamos la película 296\n",
      "Al usuario 568 le recomendamos la película 110\n",
      "Al usuario 569 le recomendamos la película 296\n",
      "Al usuario 570 le recomendamos la película 318\n",
      "Al usuario 571 le recomendamos la película 296\n",
      "Al usuario 572 le recomendamos la película 260\n",
      "Al usuario 573 le recomendamos la película 318\n",
      "Al usuario 574 le recomendamos la película 593\n",
      "Al usuario 575 le recomendamos la película 296\n",
      "Al usuario 576 le recomendamos la película 356\n",
      "Al usuario 577 le recomendamos la película 527\n",
      "Al usuario 578 le recomendamos la película 296\n",
      "Al usuario 579 le recomendamos la película 318\n",
      "Al usuario 580 le recomendamos la película 457\n",
      "Al usuario 581 le recomendamos la película 356\n",
      "Al usuario 582 le recomendamos la película 318\n",
      "Al usuario 583 le recomendamos la película 356\n",
      "Al usuario 584 le recomendamos la película 260\n",
      "Al usuario 585 le recomendamos la película 608\n",
      "Al usuario 586 le recomendamos la película 1198\n",
      "Al usuario 587 le recomendamos la película 356\n",
      "Al usuario 588 le recomendamos la película 588\n",
      "Al usuario 589 le recomendamos la película 356\n",
      "Al usuario 590 le recomendamos la película 593\n",
      "Al usuario 591 le recomendamos la película 356\n",
      "Al usuario 592 le recomendamos la película 296\n",
      "Al usuario 593 le recomendamos la película 318\n",
      "Al usuario 594 le recomendamos la película 318\n",
      "Al usuario 595 le recomendamos la película 356\n",
      "Al usuario 596 le recomendamos la película 1198\n",
      "Al usuario 597 le recomendamos la película 296\n",
      "Al usuario 598 le recomendamos la película 593\n",
      "Al usuario 599 le recomendamos la película 2571\n",
      "Al usuario 600 le recomendamos la película 356\n",
      "Al usuario 601 le recomendamos la película 2571\n",
      "Al usuario 602 le recomendamos la película 1\n",
      "Al usuario 603 le recomendamos la película 356\n",
      "Al usuario 604 le recomendamos la película 296\n",
      "Al usuario 605 le recomendamos la película 356\n",
      "Al usuario 606 le recomendamos la película 318\n",
      "Al usuario 607 le recomendamos la película 527\n",
      "Al usuario 608 le recomendamos la película 318\n",
      "Al usuario 609 le recomendamos la película 318\n",
      "Al usuario 610 le recomendamos la película 296\n",
      "Al usuario 611 le recomendamos la película 318\n",
      "Al usuario 612 le recomendamos la película 356\n",
      "Al usuario 613 le recomendamos la película 296\n",
      "Al usuario 614 le recomendamos la película 318\n",
      "Al usuario 615 le recomendamos la película 318\n",
      "Al usuario 616 le recomendamos la película 296\n",
      "Al usuario 617 le recomendamos la película 318\n",
      "Al usuario 618 le recomendamos la película 296\n",
      "Al usuario 619 le recomendamos la película 356\n",
      "Al usuario 620 le recomendamos la película 2571\n",
      "Al usuario 621 le recomendamos la película 318\n",
      "Al usuario 622 le recomendamos la película 296\n",
      "Al usuario 623 le recomendamos la película 593\n",
      "Al usuario 624 le recomendamos la película 318\n",
      "Al usuario 625 le recomendamos la película 356\n",
      "Al usuario 626 le recomendamos la película 356\n",
      "Al usuario 627 le recomendamos la película 1196\n",
      "Al usuario 628 le recomendamos la película 296\n",
      "Al usuario 629 le recomendamos la película 318\n",
      "Al usuario 630 le recomendamos la película 318\n",
      "Al usuario 631 le recomendamos la película 296\n",
      "Al usuario 632 le recomendamos la película 356\n",
      "Al usuario 633 le recomendamos la película 593\n",
      "Al usuario 634 le recomendamos la película 296\n",
      "Al usuario 635 le recomendamos la película 356\n",
      "Al usuario 636 le recomendamos la película 296\n",
      "Al usuario 637 le recomendamos la película 296\n",
      "Al usuario 638 le recomendamos la película 260\n",
      "Al usuario 639 le recomendamos la película 356\n",
      "Al usuario 640 le recomendamos la película 1\n",
      "Al usuario 641 le recomendamos la película 110\n",
      "Al usuario 642 le recomendamos la película 296\n"
     ]
    },
    {
     "name": "stdout",
     "output_type": "stream",
     "text": [
      "Al usuario 643 le recomendamos la película 296\n",
      "Al usuario 644 le recomendamos la película 296\n",
      "Al usuario 645 le recomendamos la película 356\n",
      "Al usuario 646 le recomendamos la película 318\n",
      "Al usuario 647 le recomendamos la película 318\n",
      "Al usuario 648 le recomendamos la película 593\n",
      "Al usuario 649 le recomendamos la película 318\n",
      "Al usuario 650 le recomendamos la película 608\n",
      "Al usuario 651 le recomendamos la película 356\n",
      "Al usuario 652 le recomendamos la película 356\n",
      "Al usuario 653 le recomendamos la película 296\n",
      "Al usuario 654 le recomendamos la película 1221\n",
      "Al usuario 655 le recomendamos la película 356\n",
      "Al usuario 656 le recomendamos la película 260\n",
      "Al usuario 657 le recomendamos la película 480\n",
      "Al usuario 658 le recomendamos la película 260\n",
      "Al usuario 659 le recomendamos la película 1\n",
      "Al usuario 660 le recomendamos la película 318\n",
      "Al usuario 661 le recomendamos la película 296\n",
      "Al usuario 662 le recomendamos la película 593\n",
      "Al usuario 663 le recomendamos la película 318\n",
      "Al usuario 664 le recomendamos la película 527\n",
      "Al usuario 665 le recomendamos la película 480\n",
      "Al usuario 666 le recomendamos la película 318\n",
      "Al usuario 667 le recomendamos la película 318\n",
      "Al usuario 668 le recomendamos la película 356\n",
      "Al usuario 669 le recomendamos la película 296\n",
      "Al usuario 670 le recomendamos la película 296\n",
      "Al usuario 671 le recomendamos la película 593\n"
     ]
    }
   ],
   "source": [
    "for i in range(671):\n",
    "    print(\"Al usuario\", i+1, \"le recomendamos la película\", np.unique(peliculas)[Recomendacion(i+1)])"
   ]
  },
  {
   "cell_type": "code",
   "execution_count": 37,
   "metadata": {},
   "outputs": [
    {
     "data": {
      "text/plain": [
       "163949"
      ]
     },
     "execution_count": 37,
     "metadata": {},
     "output_type": "execute_result"
    }
   ],
   "source": [
    "pelis_matriz.columns[9065]"
   ]
  },
  {
   "cell_type": "code",
   "execution_count": null,
   "metadata": {},
   "outputs": [],
   "source": []
  }
 ],
 "metadata": {
  "kernelspec": {
   "display_name": "Python 3 (ipykernel)",
   "language": "python",
   "name": "python3"
  },
  "language_info": {
   "codemirror_mode": {
    "name": "ipython",
    "version": 3
   },
   "file_extension": ".py",
   "mimetype": "text/x-python",
   "name": "python",
   "nbconvert_exporter": "python",
   "pygments_lexer": "ipython3",
   "version": "3.13.7"
  }
 },
 "nbformat": 4,
 "nbformat_minor": 4
}
