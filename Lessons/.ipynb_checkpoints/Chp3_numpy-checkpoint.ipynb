{
 "cells": [
  {
   "cell_type": "code",
   "execution_count": 1,
   "id": "0abd7250-189a-4452-8cfa-5e7b30eda012",
   "metadata": {},
   "outputs": [],
   "source": [
    "import numpy as np"
   ]
  },
  {
   "cell_type": "code",
   "execution_count": 3,
   "id": "32b8693c-f81f-4829-8460-cf9df97abb42",
   "metadata": {},
   "outputs": [
    {
     "data": {
      "text/plain": [
       "'1.26.4'"
      ]
     },
     "execution_count": 3,
     "metadata": {},
     "output_type": "execute_result"
    }
   ],
   "source": [
    "np.__version__"
   ]
  },
  {
   "cell_type": "code",
   "execution_count": 5,
   "id": "c9d9caba-0a1b-4041-986b-1b8021ff7b1e",
   "metadata": {},
   "outputs": [
    {
     "data": {
      "text/plain": [
       "array([1, 2, 3, 4, 5, 6])"
      ]
     },
     "execution_count": 5,
     "metadata": {},
     "output_type": "execute_result"
    }
   ],
   "source": [
    "np.array([1,2,3,4,5,6])"
   ]
  },
  {
   "cell_type": "code",
   "execution_count": 7,
   "id": "f34d70d5-25ed-4d31-9761-7d14024caa98",
   "metadata": {},
   "outputs": [],
   "source": [
    "arr1 = np.array([1,2,3,4,5,6])"
   ]
  },
  {
   "cell_type": "code",
   "execution_count": 9,
   "id": "475c8f7b-ce10-4dfa-9dcf-0716b69f4324",
   "metadata": {},
   "outputs": [
    {
     "data": {
      "text/plain": [
       "array([1, 2, 3, 4, 5, 6])"
      ]
     },
     "execution_count": 9,
     "metadata": {},
     "output_type": "execute_result"
    }
   ],
   "source": [
    "arr1"
   ]
  },
  {
   "cell_type": "code",
   "execution_count": 11,
   "id": "bbc2069e-f8af-438f-bccf-2855a19c82b5",
   "metadata": {},
   "outputs": [
    {
     "data": {
      "text/plain": [
       "numpy.ndarray"
      ]
     },
     "execution_count": 11,
     "metadata": {},
     "output_type": "execute_result"
    }
   ],
   "source": [
    "type(arr1)"
   ]
  },
  {
   "cell_type": "code",
   "execution_count": 13,
   "id": "5bed92fe-abf8-41e7-8700-e626b30b0bcf",
   "metadata": {},
   "outputs": [],
   "source": [
    "arr2 = np.array([1,2,3,4,5,6])"
   ]
  },
  {
   "cell_type": "code",
   "execution_count": 15,
   "id": "d41d1ae0-3e65-434e-8f6f-eead336baca9",
   "metadata": {},
   "outputs": [
    {
     "data": {
      "text/plain": [
       "array([1, 2, 3, 4, 5, 6])"
      ]
     },
     "execution_count": 15,
     "metadata": {},
     "output_type": "execute_result"
    }
   ],
   "source": [
    "arr1"
   ]
  },
  {
   "cell_type": "code",
   "execution_count": 17,
   "id": "8b5b1709-f5b4-4e80-b754-f5eb24e5b18e",
   "metadata": {},
   "outputs": [
    {
     "data": {
      "text/plain": [
       "array([1, 2, 3, 4, 5, 6])"
      ]
     },
     "execution_count": 17,
     "metadata": {},
     "output_type": "execute_result"
    }
   ],
   "source": [
    "arr2"
   ]
  },
  {
   "cell_type": "code",
   "execution_count": 19,
   "id": "1c4a261e-b677-4cf7-a544-e8cd430b2b7b",
   "metadata": {},
   "outputs": [
    {
     "data": {
      "text/plain": [
       "(1172533595472, 1172533594320)"
      ]
     },
     "execution_count": 19,
     "metadata": {},
     "output_type": "execute_result"
    }
   ],
   "source": [
    "id(arr1), id(arr2)"
   ]
  },
  {
   "cell_type": "code",
   "execution_count": 21,
   "id": "9b7e848b-21fc-4b95-8c9a-3e6d64d29603",
   "metadata": {},
   "outputs": [],
   "source": [
    "arr3 = arr1"
   ]
  },
  {
   "cell_type": "code",
   "execution_count": 23,
   "id": "8a5cfe78-0cf0-48f1-b490-ffea70c64476",
   "metadata": {},
   "outputs": [
    {
     "data": {
      "text/plain": [
       "1172533595472"
      ]
     },
     "execution_count": 23,
     "metadata": {},
     "output_type": "execute_result"
    }
   ],
   "source": [
    "id(arr3)"
   ]
  },
  {
   "cell_type": "code",
   "execution_count": 25,
   "id": "2f32366d-2c23-45bc-a64b-33cd88dd4198",
   "metadata": {},
   "outputs": [
    {
     "data": {
      "text/plain": [
       "False"
      ]
     },
     "execution_count": 25,
     "metadata": {},
     "output_type": "execute_result"
    }
   ],
   "source": [
    "arr1 is arr2"
   ]
  },
  {
   "cell_type": "code",
   "execution_count": 27,
   "id": "f6321ad3-18fc-4847-b6d0-f2b35a7bfd3e",
   "metadata": {},
   "outputs": [
    {
     "data": {
      "text/plain": [
       "True"
      ]
     },
     "execution_count": 27,
     "metadata": {},
     "output_type": "execute_result"
    }
   ],
   "source": [
    "arr1 is arr3"
   ]
  },
  {
   "cell_type": "code",
   "execution_count": 29,
   "id": "dbee9775-3856-47a7-8bde-4fb96bf6c7ec",
   "metadata": {},
   "outputs": [
    {
     "data": {
      "text/plain": [
       "array([1, 2, 3, 4, 5, 6])"
      ]
     },
     "execution_count": 29,
     "metadata": {},
     "output_type": "execute_result"
    }
   ],
   "source": [
    "arr1"
   ]
  },
  {
   "cell_type": "code",
   "execution_count": 31,
   "id": "a2c0827b-2fd4-4339-bba7-cf05d69c59f3",
   "metadata": {},
   "outputs": [
    {
     "data": {
      "text/plain": [
       "array([1, 2, 3, 4, 5, 6])"
      ]
     },
     "execution_count": 31,
     "metadata": {},
     "output_type": "execute_result"
    }
   ],
   "source": [
    "arr2"
   ]
  },
  {
   "cell_type": "code",
   "execution_count": 35,
   "id": "c67cd977-0c98-4385-a148-2db9e81cf8b0",
   "metadata": {},
   "outputs": [
    {
     "data": {
      "text/plain": [
       "False"
      ]
     },
     "execution_count": 35,
     "metadata": {},
     "output_type": "execute_result"
    }
   ],
   "source": [
    "\"casa\" == \"gato\""
   ]
  },
  {
   "cell_type": "code",
   "execution_count": 37,
   "id": "139ba1d3-2df6-47de-b3ae-6a2ddc50d0a5",
   "metadata": {},
   "outputs": [
    {
     "data": {
      "text/plain": [
       "True"
      ]
     },
     "execution_count": 37,
     "metadata": {},
     "output_type": "execute_result"
    }
   ],
   "source": [
    "\"casa\" == \"casa\""
   ]
  },
  {
   "cell_type": "code",
   "execution_count": 39,
   "id": "937efe5e-3997-445c-a645-123338d196bc",
   "metadata": {},
   "outputs": [
    {
     "data": {
      "text/plain": [
       "array([ True,  True,  True,  True,  True,  True])"
      ]
     },
     "execution_count": 39,
     "metadata": {},
     "output_type": "execute_result"
    }
   ],
   "source": [
    "arr1 == arr2"
   ]
  },
  {
   "cell_type": "code",
   "execution_count": 41,
   "id": "264a0a0d-279a-43d5-8abb-12f4e1e55d91",
   "metadata": {},
   "outputs": [
    {
     "data": {
      "text/plain": [
       "True"
      ]
     },
     "execution_count": 41,
     "metadata": {},
     "output_type": "execute_result"
    }
   ],
   "source": [
    "np.array_equal(arr1, arr2)"
   ]
  },
  {
   "cell_type": "code",
   "execution_count": 43,
   "id": "06123d95-3949-42cf-9b7d-9f16fa3279fe",
   "metadata": {},
   "outputs": [],
   "source": [
    "arr4 = np.copy(arr1)"
   ]
  },
  {
   "cell_type": "code",
   "execution_count": 45,
   "id": "8ed96c8f-4b9a-4783-b000-de4dd2ace633",
   "metadata": {},
   "outputs": [
    {
     "data": {
      "text/plain": [
       "1172570262096"
      ]
     },
     "execution_count": 45,
     "metadata": {},
     "output_type": "execute_result"
    }
   ],
   "source": [
    "id(arr4)"
   ]
  },
  {
   "cell_type": "code",
   "execution_count": 47,
   "id": "62254d8a-f8bf-4005-b659-4e2e58c075d0",
   "metadata": {},
   "outputs": [
    {
     "data": {
      "text/plain": [
       "list"
      ]
     },
     "execution_count": 47,
     "metadata": {},
     "output_type": "execute_result"
    }
   ],
   "source": [
    "type([1, 2, 3, 4, 5, 6])"
   ]
  },
  {
   "cell_type": "code",
   "execution_count": 49,
   "id": "255ed2e5-be84-4e6b-8ee1-fdaf4d6fc0c2",
   "metadata": {},
   "outputs": [
    {
     "data": {
      "text/plain": [
       "tuple"
      ]
     },
     "execution_count": 49,
     "metadata": {},
     "output_type": "execute_result"
    }
   ],
   "source": [
    "type( (1, 2, 3, 4, 5, 6) )"
   ]
  },
  {
   "cell_type": "code",
   "execution_count": 51,
   "id": "28fb5d96-5b36-4410-a279-b74235719979",
   "metadata": {},
   "outputs": [
    {
     "data": {
      "text/plain": [
       "array([1, 2, 3, 4, 5, 6])"
      ]
     },
     "execution_count": 51,
     "metadata": {},
     "output_type": "execute_result"
    }
   ],
   "source": [
    "np.array( (1, 2, 3, 4, 5, 6) )"
   ]
  },
  {
   "cell_type": "code",
   "execution_count": 53,
   "id": "5447894b-4d95-49f3-8a73-c6c4004efb0a",
   "metadata": {},
   "outputs": [
    {
     "data": {
      "text/plain": [
       "{'one': 1, 'two': 2, 'three': 3}"
      ]
     },
     "execution_count": 53,
     "metadata": {},
     "output_type": "execute_result"
    }
   ],
   "source": [
    "{ 'one':1, 'two':2, 'three':3 }"
   ]
  },
  {
   "cell_type": "code",
   "execution_count": 55,
   "id": "c83e1c90-06d5-46af-b898-e2cf7168617b",
   "metadata": {},
   "outputs": [
    {
     "data": {
      "text/plain": [
       "dict"
      ]
     },
     "execution_count": 55,
     "metadata": {},
     "output_type": "execute_result"
    }
   ],
   "source": [
    "type( { 'one':1, 'two':2, 'three':3 } )"
   ]
  },
  {
   "cell_type": "code",
   "execution_count": 61,
   "id": "dc062683-75d7-43c4-a40e-a830a761d9e3",
   "metadata": {},
   "outputs": [
    {
     "data": {
      "text/plain": [
       "array({'one': 1, 'two': 2, 'three': 3}, dtype=object)"
      ]
     },
     "execution_count": 61,
     "metadata": {},
     "output_type": "execute_result"
    }
   ],
   "source": [
    "arr5 = np.array( { 'one':1, 'two':2, 'three':3 } )\n",
    "arr5"
   ]
  },
  {
   "cell_type": "code",
   "execution_count": 63,
   "id": "3ffd5348-c287-4ca6-bc27-4132ac2691a6",
   "metadata": {},
   "outputs": [
    {
     "data": {
      "text/plain": [
       "array([1, 2, 3, 4, 5, 6])"
      ]
     },
     "execution_count": 63,
     "metadata": {},
     "output_type": "execute_result"
    }
   ],
   "source": [
    "arr1"
   ]
  },
  {
   "cell_type": "code",
   "execution_count": 67,
   "id": "7541a82a-9456-41c7-ba69-d69287f048b3",
   "metadata": {},
   "outputs": [
    {
     "data": {
      "text/plain": [
       "(6,)"
      ]
     },
     "execution_count": 67,
     "metadata": {},
     "output_type": "execute_result"
    }
   ],
   "source": [
    "arr1.shape"
   ]
  },
  {
   "cell_type": "code",
   "execution_count": 69,
   "id": "05a1f280-7cfb-4cbd-8179-02d430296f28",
   "metadata": {},
   "outputs": [
    {
     "data": {
      "text/plain": [
       "dtype('int32')"
      ]
     },
     "execution_count": 69,
     "metadata": {},
     "output_type": "execute_result"
    }
   ],
   "source": [
    "arr1.dtype"
   ]
  },
  {
   "cell_type": "code",
   "execution_count": 71,
   "id": "cd72bf5e-b993-42d9-83de-01667c88b53a",
   "metadata": {},
   "outputs": [
    {
     "data": {
      "text/plain": [
       "()"
      ]
     },
     "execution_count": 71,
     "metadata": {},
     "output_type": "execute_result"
    }
   ],
   "source": [
    "arr5.shape"
   ]
  },
  {
   "cell_type": "code",
   "execution_count": 73,
   "id": "ab5c5f2c-fc41-4842-a65d-464d8cbcd021",
   "metadata": {},
   "outputs": [
    {
     "data": {
      "text/plain": [
       "array([1, 2, 3])"
      ]
     },
     "execution_count": 73,
     "metadata": {},
     "output_type": "execute_result"
    }
   ],
   "source": [
    "np.array( [1,2,3] )"
   ]
  },
  {
   "cell_type": "code",
   "execution_count": 75,
   "id": "2eb6aac3-1661-4f0c-8c53-27c602acd6e8",
   "metadata": {},
   "outputs": [
    {
     "data": {
      "text/plain": [
       "array([0, 1, 2, 3, 4, 5, 6, 7, 8, 9])"
      ]
     },
     "execution_count": 75,
     "metadata": {},
     "output_type": "execute_result"
    }
   ],
   "source": [
    "np.arange(10)"
   ]
  },
  {
   "cell_type": "code",
   "execution_count": 77,
   "id": "6b79db1a-219e-47bd-8980-dbc4e6796aba",
   "metadata": {},
   "outputs": [
    {
     "data": {
      "text/plain": [
       "array([5, 6, 7, 8, 9])"
      ]
     },
     "execution_count": 77,
     "metadata": {},
     "output_type": "execute_result"
    }
   ],
   "source": [
    "np.arange(5,10)"
   ]
  },
  {
   "cell_type": "code",
   "execution_count": 87,
   "id": "9675a5b3-53ad-4694-ae08-09ade8ae7ab3",
   "metadata": {},
   "outputs": [
    {
     "data": {
      "text/plain": [
       "array([ 5. ,  5.5,  6. ,  6.5,  7. ,  7.5,  8. ,  8.5,  9. ,  9.5, 10. ,\n",
       "       10.5, 11. , 11.5, 12. , 12.5, 13. , 13.5, 14. , 14.5, 15. , 15.5,\n",
       "       16. , 16.5, 17. , 17.5, 18. , 18.5, 19. , 19.5])"
      ]
     },
     "execution_count": 87,
     "metadata": {},
     "output_type": "execute_result"
    }
   ],
   "source": [
    "np.arange(5,20,0.5)"
   ]
  },
  {
   "cell_type": "code",
   "execution_count": 81,
   "id": "fc70a7a1-3027-4007-8770-7e7cfca0241f",
   "metadata": {},
   "outputs": [
    {
     "data": {
      "text/plain": [
       "range(0, 1000000)"
      ]
     },
     "execution_count": 81,
     "metadata": {},
     "output_type": "execute_result"
    }
   ],
   "source": [
    "range(1000_000)"
   ]
  },
  {
   "cell_type": "code",
   "execution_count": 89,
   "id": "65371480-2548-426d-b379-d83e903876dc",
   "metadata": {},
   "outputs": [
    {
     "data": {
      "text/plain": [
       "array([1, 2, 4])"
      ]
     },
     "execution_count": 89,
     "metadata": {},
     "output_type": "execute_result"
    }
   ],
   "source": [
    "np.array( [1,2,4] )"
   ]
  },
  {
   "cell_type": "code",
   "execution_count": 91,
   "id": "574c300f-2f93-4e1d-a6df-4eda81ef3e69",
   "metadata": {},
   "outputs": [
    {
     "data": {
      "text/plain": [
       "array([1, 2, 3, 4, 5, 6, 7, 8, 9])"
      ]
     },
     "execution_count": 91,
     "metadata": {},
     "output_type": "execute_result"
    }
   ],
   "source": [
    "np.arange(1,10)"
   ]
  },
  {
   "cell_type": "code",
   "execution_count": 93,
   "id": "64e2d51c-cac3-45d9-8122-c125a4070e13",
   "metadata": {},
   "outputs": [
    {
     "data": {
      "text/plain": [
       "array([0., 0., 0., 0., 0., 0., 0., 0., 0., 0.])"
      ]
     },
     "execution_count": 93,
     "metadata": {},
     "output_type": "execute_result"
    }
   ],
   "source": [
    "np.zeros(10)"
   ]
  },
  {
   "cell_type": "code",
   "execution_count": 95,
   "id": "86495e32-a659-484f-824d-8d2e45882543",
   "metadata": {},
   "outputs": [
    {
     "data": {
      "text/plain": [
       "array([1., 1., 1., 1., 1., 1., 1., 1., 1., 1.])"
      ]
     },
     "execution_count": 95,
     "metadata": {},
     "output_type": "execute_result"
    }
   ],
   "source": [
    "np.ones(10)"
   ]
  },
  {
   "cell_type": "code",
   "execution_count": 97,
   "id": "bf65591f-feba-43f3-9b60-98b46d71c820",
   "metadata": {},
   "outputs": [
    {
     "data": {
      "text/plain": [
       "array([1, 2, 3, 4, 5, 6])"
      ]
     },
     "execution_count": 97,
     "metadata": {},
     "output_type": "execute_result"
    }
   ],
   "source": [
    "arr1"
   ]
  },
  {
   "cell_type": "code",
   "execution_count": 99,
   "id": "01d2fac8-c603-421a-acb6-8af6733f03f6",
   "metadata": {},
   "outputs": [
    {
     "name": "stdout",
     "output_type": "stream",
     "text": [
      "1\n",
      "2\n",
      "3\n",
      "4\n",
      "5\n",
      "6\n"
     ]
    }
   ],
   "source": [
    "for x in arr1:\n",
    "    print(x)"
   ]
  },
  {
   "cell_type": "code",
   "execution_count": 105,
   "id": "9bafc8cc-7bd2-4acb-8886-d4b6ea99b069",
   "metadata": {},
   "outputs": [
    {
     "data": {
      "text/plain": [
       "array([[1, 2, 3],\n",
       "       [4, 5, 6]])"
      ]
     },
     "execution_count": 105,
     "metadata": {},
     "output_type": "execute_result"
    }
   ],
   "source": [
    "m = np.array( [[1,2,3],[4,5,6]] )\n",
    "m"
   ]
  },
  {
   "cell_type": "code",
   "execution_count": 107,
   "id": "c6352761-5317-4d0c-8c30-2bcfdfc5bb34",
   "metadata": {},
   "outputs": [
    {
     "name": "stdout",
     "output_type": "stream",
     "text": [
      "[1 2 3]\n",
      "[4 5 6]\n"
     ]
    }
   ],
   "source": [
    "for x in m:\n",
    "    print(x)"
   ]
  },
  {
   "cell_type": "code",
   "execution_count": 109,
   "id": "d741a12c-a4fe-4b11-be81-6ec54cf1427e",
   "metadata": {},
   "outputs": [
    {
     "data": {
      "text/plain": [
       "(2, 3)"
      ]
     },
     "execution_count": 109,
     "metadata": {},
     "output_type": "execute_result"
    }
   ],
   "source": [
    "m.shape"
   ]
  },
  {
   "cell_type": "code",
   "execution_count": 111,
   "id": "ba20ae90-4f19-4390-8ee9-927b15b21f23",
   "metadata": {},
   "outputs": [
    {
     "data": {
      "text/plain": [
       "2"
      ]
     },
     "execution_count": 111,
     "metadata": {},
     "output_type": "execute_result"
    }
   ],
   "source": [
    "len(m)"
   ]
  },
  {
   "cell_type": "code",
   "execution_count": 113,
   "id": "06a4d9ab-3e74-4a8d-8825-4d536f290363",
   "metadata": {},
   "outputs": [
    {
     "data": {
      "text/plain": [
       "6"
      ]
     },
     "execution_count": 113,
     "metadata": {},
     "output_type": "execute_result"
    }
   ],
   "source": [
    "m.size"
   ]
  },
  {
   "cell_type": "code",
   "execution_count": 125,
   "id": "c98c6fdb-8b1e-4a96-8b99-d9f9fe4eddea",
   "metadata": {},
   "outputs": [
    {
     "data": {
      "text/plain": [
       "array(['True', 'False', '7', 'True', 'casa'], dtype='<U11')"
      ]
     },
     "execution_count": 125,
     "metadata": {},
     "output_type": "execute_result"
    }
   ],
   "source": [
    "arr6 = np.array( [True, False, 7, True, 'casa'] )\n",
    "arr6"
   ]
  },
  {
   "cell_type": "code",
   "execution_count": 127,
   "id": "5bdc6ad6-9342-4156-bcef-823a65de9ca7",
   "metadata": {},
   "outputs": [
    {
     "data": {
      "text/plain": [
       "dtype('<U11')"
      ]
     },
     "execution_count": 127,
     "metadata": {},
     "output_type": "execute_result"
    }
   ],
   "source": [
    "arr6.dtype"
   ]
  },
  {
   "cell_type": "code",
   "execution_count": 151,
   "id": "bf3e8704-b950-49aa-b44f-72c322bd3a81",
   "metadata": {},
   "outputs": [
    {
     "data": {
      "text/plain": [
       "384"
      ]
     },
     "execution_count": 151,
     "metadata": {},
     "output_type": "execute_result"
    }
   ],
   "source": [
    "arr6 = np.array( [111, 2.3, 'hi'] )\n",
    "arr6.nbytes"
   ]
  },
  {
   "cell_type": "code",
   "execution_count": 153,
   "id": "44ab7cb0-3fee-4eca-abe0-2701cf5735a7",
   "metadata": {},
   "outputs": [
    {
     "data": {
      "text/plain": [
       "array(['111', '2.3', 'hi'], dtype='<U32')"
      ]
     },
     "execution_count": 153,
     "metadata": {},
     "output_type": "execute_result"
    }
   ],
   "source": [
    "arr6"
   ]
  },
  {
   "cell_type": "code",
   "execution_count": 131,
   "id": "1bc84b82-2849-4321-829c-091367e736d8",
   "metadata": {},
   "outputs": [
    {
     "data": {
      "text/plain": [
       "numpy.str_"
      ]
     },
     "execution_count": 131,
     "metadata": {},
     "output_type": "execute_result"
    }
   ],
   "source": [
    "type(arr6[0])"
   ]
  },
  {
   "cell_type": "code",
   "execution_count": 135,
   "id": "680cc586-00d6-40ed-a9e5-73e3d6344093",
   "metadata": {},
   "outputs": [
    {
     "data": {
      "text/plain": [
       "array(['111', '2.3', 'hi'], dtype='<U3')"
      ]
     },
     "execution_count": 135,
     "metadata": {},
     "output_type": "execute_result"
    }
   ],
   "source": [
    "arr6 = np.array( ['111', '2.3', 'hi'] )\n",
    "arr6"
   ]
  },
  {
   "cell_type": "code",
   "execution_count": 137,
   "id": "3e17d748-bac6-4a23-93eb-b0d79bbc8761",
   "metadata": {},
   "outputs": [
    {
     "data": {
      "text/plain": [
       "3"
      ]
     },
     "execution_count": 137,
     "metadata": {},
     "output_type": "execute_result"
    }
   ],
   "source": [
    "len(arr6)"
   ]
  },
  {
   "cell_type": "code",
   "execution_count": 139,
   "id": "310741ff-e2a3-4dbd-95ad-9d6a0e739f78",
   "metadata": {},
   "outputs": [
    {
     "data": {
      "text/plain": [
       "3"
      ]
     },
     "execution_count": 139,
     "metadata": {},
     "output_type": "execute_result"
    }
   ],
   "source": [
    "arr6.size"
   ]
  },
  {
   "cell_type": "code",
   "execution_count": 141,
   "id": "2a2b0549-b0dc-43eb-903f-089e4ae65911",
   "metadata": {},
   "outputs": [
    {
     "data": {
      "text/plain": [
       "(3,)"
      ]
     },
     "execution_count": 141,
     "metadata": {},
     "output_type": "execute_result"
    }
   ],
   "source": [
    "arr6.shape"
   ]
  },
  {
   "cell_type": "code",
   "execution_count": 143,
   "id": "89ba28b4-f3c7-49c0-b8da-4e8251d7cb4d",
   "metadata": {},
   "outputs": [
    {
     "data": {
      "text/plain": [
       "1"
      ]
     },
     "execution_count": 143,
     "metadata": {},
     "output_type": "execute_result"
    }
   ],
   "source": [
    "arr6.ndim"
   ]
  },
  {
   "cell_type": "code",
   "execution_count": 145,
   "id": "f9857795-9ee2-4807-adde-f6283cabbef6",
   "metadata": {},
   "outputs": [
    {
     "data": {
      "text/plain": [
       "36"
      ]
     },
     "execution_count": 145,
     "metadata": {},
     "output_type": "execute_result"
    }
   ],
   "source": [
    "arr6.nbytes"
   ]
  },
  {
   "cell_type": "code",
   "execution_count": 147,
   "id": "2abb8303-2467-4956-b973-285fe09006fb",
   "metadata": {},
   "outputs": [
    {
     "data": {
      "text/plain": [
       "12"
      ]
     },
     "execution_count": 147,
     "metadata": {},
     "output_type": "execute_result"
    }
   ],
   "source": [
    "arr6.itemsize"
   ]
  },
  {
   "cell_type": "code",
   "execution_count": 167,
   "id": "a5f7bcdd-87db-44e2-a6b3-3741ae18d408",
   "metadata": {
    "scrolled": true
   },
   "outputs": [
    {
     "name": "stderr",
     "output_type": "stream",
     "text": [
      "C:\\Users\\cfp\\AppData\\Local\\Temp\\ipykernel_12532\\16834820.py:1: DeprecationWarning: NumPy will stop allowing conversion of out-of-bound Python integers to integer arrays.  The conversion of 300 to int8 will fail in the future.\n",
      "For the old behavior, usually:\n",
      "    np.array(value).astype(dtype)\n",
      "will give the desired result (the cast overflows).\n",
      "  v = np.array([1,2,300,4], dtype='int8')\n"
     ]
    }
   ],
   "source": [
    "v = np.array([1,2,300,4], dtype='int8')"
   ]
  },
  {
   "cell_type": "code",
   "execution_count": 169,
   "id": "e0a1055e-8926-4ac1-b241-e2a3e192810c",
   "metadata": {},
   "outputs": [
    {
     "data": {
      "text/plain": [
       "array([ 1,  2, 44,  4], dtype=int8)"
      ]
     },
     "execution_count": 169,
     "metadata": {},
     "output_type": "execute_result"
    }
   ],
   "source": [
    "v"
   ]
  },
  {
   "cell_type": "code",
   "execution_count": 163,
   "id": "f7b54d73-7811-48dd-9638-752968e9ac88",
   "metadata": {},
   "outputs": [
    {
     "data": {
      "text/plain": [
       "dtype('int8')"
      ]
     },
     "execution_count": 163,
     "metadata": {},
     "output_type": "execute_result"
    }
   ],
   "source": [
    "v.dtype"
   ]
  },
  {
   "cell_type": "code",
   "execution_count": 165,
   "id": "5b0ea836-f357-42c2-b5a0-82bffd6f2f55",
   "metadata": {},
   "outputs": [
    {
     "data": {
      "text/plain": [
       "4"
      ]
     },
     "execution_count": 165,
     "metadata": {},
     "output_type": "execute_result"
    }
   ],
   "source": [
    "v.nbytes"
   ]
  },
  {
   "cell_type": "code",
   "execution_count": 171,
   "id": "2355a121-55bc-41e9-b987-5d321ca072b0",
   "metadata": {},
   "outputs": [
    {
     "data": {
      "text/plain": [
       "1322070819480806636890455259752144365965422032752148167664920368226828597346704899540778313850608061963909777696872582355950954582100618911865342725257953674027620225198320803878014774228964841274390400117588618041128947815623094438061566173054086674490506178125480344405547054397038895817465368254916136220830268563778582290228416398307887896918556404084898937609373242171846359938695516765018940588109060426089671438864102814350385648747165832010614366132173102768902855220001"
      ]
     },
     "execution_count": 171,
     "metadata": {},
     "output_type": "execute_result"
    }
   ],
   "source": [
    "3**1000"
   ]
  },
  {
   "cell_type": "code",
   "execution_count": 173,
   "id": "746a68dd-bcf9-4ad6-9364-d4d539843158",
   "metadata": {},
   "outputs": [
    {
     "data": {
      "text/plain": [
       "array([1, 2,\n",
       "       1322070819480806636890455259752144365965422032752148167664920368226828597346704899540778313850608061963909777696872582355950954582100618911865342725257953674027620225198320803878014774228964841274390400117588618041128947815623094438061566173054086674490506178125480344405547054397038895817465368254916136220830268563778582290228416398307887896918556404084898937609373242171846359938695516765018940588109060426089671438864102814350385648747165832010614366132173102768902855220001],\n",
       "      dtype=object)"
      ]
     },
     "execution_count": 173,
     "metadata": {},
     "output_type": "execute_result"
    }
   ],
   "source": [
    "np.array([1,2,3**1000])"
   ]
  },
  {
   "cell_type": "code",
   "execution_count": 183,
   "id": "bb1ca7ae-a538-4ac1-bf9d-10bf4ccd329f",
   "metadata": {},
   "outputs": [
    {
     "ename": "SyntaxError",
     "evalue": "bytes can only contain ASCII literal characters (422079741.py, line 1)",
     "output_type": "error",
     "traceback": [
      "\u001b[1;36m  Cell \u001b[1;32mIn[183], line 1\u001b[1;36m\u001b[0m\n\u001b[1;33m    b'piña'\u001b[0m\n\u001b[1;37m    ^\u001b[0m\n\u001b[1;31mSyntaxError\u001b[0m\u001b[1;31m:\u001b[0m bytes can only contain ASCII literal characters\n"
     ]
    }
   ],
   "source": [
    "b'piña'"
   ]
  },
  {
   "cell_type": "code",
   "execution_count": 177,
   "id": "ea2bcbc2-db92-48f5-9762-7485f6efcb9d",
   "metadata": {},
   "outputs": [
    {
     "data": {
      "text/plain": [
       "bytes"
      ]
     },
     "execution_count": 177,
     "metadata": {},
     "output_type": "execute_result"
    }
   ],
   "source": [
    "type(b'hola')"
   ]
  },
  {
   "cell_type": "code",
   "execution_count": 185,
   "id": "fb60420d-d2e3-4d75-880c-e082d02b2df2",
   "metadata": {},
   "outputs": [
    {
     "data": {
      "text/plain": [
       "b'ABA\\x98'"
      ]
     },
     "execution_count": 185,
     "metadata": {},
     "output_type": "execute_result"
    }
   ],
   "source": [
    "bytes([65,66,65,152])"
   ]
  },
  {
   "cell_type": "code",
   "execution_count": 181,
   "id": "399212c1-cb8a-46a1-a1e8-38d09668bf18",
   "metadata": {},
   "outputs": [
    {
     "data": {
      "text/plain": [
       "array([b'hola', b'hola', b'hola'], dtype='|S4')"
      ]
     },
     "execution_count": 181,
     "metadata": {},
     "output_type": "execute_result"
    }
   ],
   "source": [
    "np.array([b'hola',b'hola',b'hola'])"
   ]
  },
  {
   "cell_type": "code",
   "execution_count": 197,
   "id": "f04f97bb-d03d-41aa-95be-a79f8b417d87",
   "metadata": {},
   "outputs": [
    {
     "ename": "UnicodeEncodeError",
     "evalue": "'ascii' codec can't encode character '\\xf1' in position 2: ordinal not in range(128)",
     "output_type": "error",
     "traceback": [
      "\u001b[1;31m---------------------------------------------------------------------------\u001b[0m",
      "\u001b[1;31mUnicodeEncodeError\u001b[0m                        Traceback (most recent call last)",
      "Cell \u001b[1;32mIn[197], line 1\u001b[0m\n\u001b[1;32m----> 1\u001b[0m a \u001b[38;5;241m=\u001b[39m np\u001b[38;5;241m.\u001b[39marray([\u001b[38;5;124m'\u001b[39m\u001b[38;5;124muno\u001b[39m\u001b[38;5;124m'\u001b[39m,\u001b[38;5;124m'\u001b[39m\u001b[38;5;124mdoñ\u001b[39m\u001b[38;5;124m'\u001b[39m,\u001b[38;5;124m'\u001b[39m\u001b[38;5;124mtres\u001b[39m\u001b[38;5;124m'\u001b[39m], dtype\u001b[38;5;241m=\u001b[39m\u001b[38;5;124m'\u001b[39m\u001b[38;5;124mS\u001b[39m\u001b[38;5;124m'\u001b[39m)\n\u001b[0;32m      2\u001b[0m \u001b[38;5;28mprint\u001b[39m(a\u001b[38;5;241m.\u001b[39mnbytes)\n\u001b[0;32m      3\u001b[0m a\n",
      "\u001b[1;31mUnicodeEncodeError\u001b[0m: 'ascii' codec can't encode character '\\xf1' in position 2: ordinal not in range(128)"
     ]
    }
   ],
   "source": [
    "a = np.array(['uno','dos','tres'], dtype='S')\n",
    "print(a.nbytes)\n",
    "a"
   ]
  },
  {
   "cell_type": "code",
   "execution_count": 209,
   "id": "4fc6ce15-3d9f-4adf-9e23-3213a302ff6f",
   "metadata": {},
   "outputs": [
    {
     "name": "stdout",
     "output_type": "stream",
     "text": [
      "48\n"
     ]
    },
    {
     "data": {
      "text/plain": [
       "array(['uno', 'dos', 'tres'], dtype='<U4')"
      ]
     },
     "execution_count": 209,
     "metadata": {},
     "output_type": "execute_result"
    }
   ],
   "source": [
    "b = np.array(['uno','dos','tres'], dtype='<U4')\n",
    "print(b.nbytes)\n",
    "b"
   ]
  },
  {
   "cell_type": "code",
   "execution_count": 219,
   "id": "243d41ca-3462-444e-8782-cd3028ae2b80",
   "metadata": {},
   "outputs": [
    {
     "data": {
      "text/plain": [
       "array([117,   0,   0,   0, 110,   0,   0,   0, 111,   0,   0,   0,   0,\n",
       "         0,   0,   0, 100,   0,   0,   0, 111,   0,   0,   0, 115,   0,\n",
       "         0,   0,   0,   0,   0,   0, 116,   0,   0,   0, 114,   0,   0,\n",
       "         0, 101,   0,   0,   0, 115,   0,   0,   0], dtype=uint8)"
      ]
     },
     "execution_count": 219,
     "metadata": {},
     "output_type": "execute_result"
    }
   ],
   "source": [
    "np.array(['uno','dos','tres']).view('uint8')"
   ]
  },
  {
   "cell_type": "code",
   "execution_count": 215,
   "id": "83e70cea-8e34-446c-be05-e2015a4d967d",
   "metadata": {},
   "outputs": [
    {
     "data": {
      "text/plain": [
       "array([  0,   0,   0, 117,   0,   0,   0, 110,   0,   0,   0, 111,   0,\n",
       "         0,   0,   0,   0,   0,   0, 100,   0,   0,   0, 111,   0,   0,\n",
       "         0, 115,   0,   0,   0,   0,   0,   0,   0, 116,   0,   0,   0,\n",
       "       114,   0,   0,   0, 101,   0,   0,   0, 115], dtype=int8)"
      ]
     },
     "execution_count": 215,
     "metadata": {},
     "output_type": "execute_result"
    }
   ],
   "source": [
    "np.array(['uno','dos','tres'], dtype='>U4').view('int8')"
   ]
  },
  {
   "cell_type": "code",
   "execution_count": 217,
   "id": "d7c61133-a29b-4242-a028-7180cebcec98",
   "metadata": {},
   "outputs": [
    {
     "data": {
      "text/plain": [
       "array([117, 110, 111,   0, 100, 111, 115,   0, 116, 114, 101, 115],\n",
       "      dtype=int8)"
      ]
     },
     "execution_count": 217,
     "metadata": {},
     "output_type": "execute_result"
    }
   ],
   "source": [
    "np.array(['uno','dos','tres'], dtype='S4').view('int8')"
   ]
  },
  {
   "cell_type": "code",
   "execution_count": 231,
   "id": "9d36d08a-c228-44b8-9efd-c54029289d5a",
   "metadata": {},
   "outputs": [
    {
     "data": {
      "text/plain": [
       "array([20. , 20.5, 21. , 21.5, 22. , 22.5, 23. , 23.5, 24. , 24.5, 25. ,\n",
       "       25.5, 26. , 26.5, 27. , 27.5, 28. , 28.5, 29. , 29.5, 30. ],\n",
       "      dtype=float32)"
      ]
     },
     "execution_count": 231,
     "metadata": {},
     "output_type": "execute_result"
    }
   ],
   "source": [
    "np.linspace(20,30,21,dtype='float32')"
   ]
  },
  {
   "cell_type": "code",
   "execution_count": 243,
   "id": "fcc72b0f-6312-4dbf-8fa5-4c36b38c3d78",
   "metadata": {},
   "outputs": [
    {
     "data": {
      "text/plain": [
       "array([  1.        ,   3.16227766,  10.        ,  31.6227766 ,\n",
       "       100.        ])"
      ]
     },
     "execution_count": 243,
     "metadata": {},
     "output_type": "execute_result"
    }
   ],
   "source": [
    "np.geomspace(1,100,5)"
   ]
  },
  {
   "cell_type": "code",
   "execution_count": 239,
   "id": "6a977c8f-9bf8-4c59-a4cc-806777f2575c",
   "metadata": {},
   "outputs": [],
   "source": [
    "import math"
   ]
  },
  {
   "cell_type": "code",
   "execution_count": 245,
   "id": "969cb717-958f-4b3b-950f-0886adfbbcf8",
   "metadata": {},
   "outputs": [
    {
     "data": {
      "text/plain": [
       "array([  1.        ,   3.16227766,  10.        ,  31.6227766 ,\n",
       "       100.        ])"
      ]
     },
     "execution_count": 245,
     "metadata": {},
     "output_type": "execute_result"
    }
   ],
   "source": [
    "np.logspace(math.log10(1), math.log10(100), 5)"
   ]
  },
  {
   "cell_type": "code",
   "execution_count": 249,
   "id": "f508a0e2-d888-4d5d-bc61-1db9ecc843cd",
   "metadata": {},
   "outputs": [
    {
     "data": {
      "text/plain": [
       "array([[False, False, False, False],\n",
       "       [False, False, False, False],\n",
       "       [False, False, False, False]])"
      ]
     },
     "execution_count": 249,
     "metadata": {},
     "output_type": "execute_result"
    }
   ],
   "source": [
    "np.zeros( (3,4), dtype=bool )"
   ]
  },
  {
   "cell_type": "code",
   "execution_count": 253,
   "id": "efcd969b-b3e2-4334-ad4c-9c5b812b3fd9",
   "metadata": {},
   "outputs": [
    {
     "data": {
      "text/plain": [
       "array([[2., 2., 2., 2.],\n",
       "       [2., 2., 2., 2.],\n",
       "       [2., 2., 2., 2.]])"
      ]
     },
     "execution_count": 253,
     "metadata": {},
     "output_type": "execute_result"
    }
   ],
   "source": [
    "np.ones( (3,4) ) * 2"
   ]
  },
  {
   "cell_type": "code",
   "execution_count": 255,
   "id": "0e74a4d3-e983-4356-9893-d03930719305",
   "metadata": {},
   "outputs": [
    {
     "ename": "ValueError",
     "evalue": "setting an array element with a sequence. The requested array has an inhomogeneous shape after 1 dimensions. The detected shape was (2,) + inhomogeneous part.",
     "output_type": "error",
     "traceback": [
      "\u001b[1;31m---------------------------------------------------------------------------\u001b[0m",
      "\u001b[1;31mValueError\u001b[0m                                Traceback (most recent call last)",
      "Cell \u001b[1;32mIn[255], line 1\u001b[0m\n\u001b[1;32m----> 1\u001b[0m np\u001b[38;5;241m.\u001b[39marray([[\u001b[38;5;241m1\u001b[39m,\u001b[38;5;241m2\u001b[39m,\u001b[38;5;241m3\u001b[39m],[\u001b[38;5;241m4\u001b[39m,\u001b[38;5;241m5\u001b[39m]])\n",
      "\u001b[1;31mValueError\u001b[0m: setting an array element with a sequence. The requested array has an inhomogeneous shape after 1 dimensions. The detected shape was (2,) + inhomogeneous part."
     ]
    }
   ],
   "source": [
    "np.array([[1,2,3],[4,5]])"
   ]
  },
  {
   "cell_type": "code",
   "execution_count": 259,
   "id": "53f10293-5a2e-41fe-86b0-464e44328db7",
   "metadata": {},
   "outputs": [],
   "source": [
    "a = np.array([[1,2,3],[4,5,6]])"
   ]
  },
  {
   "cell_type": "code",
   "execution_count": 261,
   "id": "2910108a-d1ff-4f18-8e91-8b4170d472d1",
   "metadata": {},
   "outputs": [
    {
     "data": {
      "text/plain": [
       "dtype('int32')"
      ]
     },
     "execution_count": 261,
     "metadata": {},
     "output_type": "execute_result"
    }
   ],
   "source": [
    "a.dtype"
   ]
  },
  {
   "cell_type": "code",
   "execution_count": 263,
   "id": "33fc9f70-0d00-4452-8e2b-2336d029fb87",
   "metadata": {},
   "outputs": [
    {
     "data": {
      "text/plain": [
       "(2, 3)"
      ]
     },
     "execution_count": 263,
     "metadata": {},
     "output_type": "execute_result"
    }
   ],
   "source": [
    "a.shape"
   ]
  },
  {
   "cell_type": "code",
   "execution_count": 265,
   "id": "0076b32a-536f-472b-a332-f6a40846bb61",
   "metadata": {},
   "outputs": [
    {
     "data": {
      "text/plain": [
       "2"
      ]
     },
     "execution_count": 265,
     "metadata": {},
     "output_type": "execute_result"
    }
   ],
   "source": [
    "len(a)"
   ]
  },
  {
   "cell_type": "code",
   "execution_count": 267,
   "id": "b088b224-8a72-417e-9c54-050fd2e75e21",
   "metadata": {},
   "outputs": [
    {
     "data": {
      "text/plain": [
       "6"
      ]
     },
     "execution_count": 267,
     "metadata": {},
     "output_type": "execute_result"
    }
   ],
   "source": [
    "a.size"
   ]
  },
  {
   "cell_type": "code",
   "execution_count": 269,
   "id": "10c5416f-ba47-4347-adca-37f1018d8591",
   "metadata": {},
   "outputs": [
    {
     "data": {
      "text/plain": [
       "2"
      ]
     },
     "execution_count": 269,
     "metadata": {},
     "output_type": "execute_result"
    }
   ],
   "source": [
    "a.ndim"
   ]
  },
  {
   "cell_type": "code",
   "execution_count": 271,
   "id": "aa310b27-4e0b-4b4a-9c14-96811373958c",
   "metadata": {},
   "outputs": [
    {
     "data": {
      "text/plain": [
       "4"
      ]
     },
     "execution_count": 271,
     "metadata": {},
     "output_type": "execute_result"
    }
   ],
   "source": [
    "a.itemsize"
   ]
  },
  {
   "cell_type": "code",
   "execution_count": 273,
   "id": "38517000-919c-4657-8c3d-26f05dd504a8",
   "metadata": {},
   "outputs": [
    {
     "data": {
      "text/plain": [
       "24"
      ]
     },
     "execution_count": 273,
     "metadata": {},
     "output_type": "execute_result"
    }
   ],
   "source": [
    "a.nbytes"
   ]
  },
  {
   "cell_type": "code",
   "execution_count": 275,
   "id": "965c985e-adcd-4fd5-bddd-101919472b68",
   "metadata": {},
   "outputs": [
    {
     "data": {
      "text/plain": [
       "array([[1, 2, 3],\n",
       "       [4, 5, 6]])"
      ]
     },
     "execution_count": 275,
     "metadata": {},
     "output_type": "execute_result"
    }
   ],
   "source": [
    "a"
   ]
  },
  {
   "cell_type": "code",
   "execution_count": 277,
   "id": "53d3db1b-09a6-40b3-a315-a8bf7bc9153a",
   "metadata": {},
   "outputs": [
    {
     "data": {
      "text/plain": [
       "array([1, 2, 3])"
      ]
     },
     "execution_count": 277,
     "metadata": {},
     "output_type": "execute_result"
    }
   ],
   "source": [
    "a[0]"
   ]
  },
  {
   "cell_type": "code",
   "execution_count": 279,
   "id": "87ae1b0f-ca3c-4112-8eef-30b9d0209581",
   "metadata": {},
   "outputs": [
    {
     "data": {
      "text/plain": [
       "array([4, 5, 6])"
      ]
     },
     "execution_count": 279,
     "metadata": {},
     "output_type": "execute_result"
    }
   ],
   "source": [
    "a[1]"
   ]
  },
  {
   "cell_type": "code",
   "execution_count": 281,
   "id": "f0f8ded3-409c-4cfc-9198-41ff9fb3aabb",
   "metadata": {},
   "outputs": [
    {
     "data": {
      "text/plain": [
       "array([4, 5, 6])"
      ]
     },
     "execution_count": 281,
     "metadata": {},
     "output_type": "execute_result"
    }
   ],
   "source": [
    "a[-1]"
   ]
  },
  {
   "cell_type": "code",
   "execution_count": 283,
   "id": "608e2414-e36d-4420-afd6-42da48f97093",
   "metadata": {},
   "outputs": [
    {
     "data": {
      "text/plain": [
       "array([1, 2, 3])"
      ]
     },
     "execution_count": 283,
     "metadata": {},
     "output_type": "execute_result"
    }
   ],
   "source": [
    "a[-2]"
   ]
  },
  {
   "cell_type": "code",
   "execution_count": 285,
   "id": "e47a6576-f821-409b-992d-cb56d5a283e7",
   "metadata": {},
   "outputs": [
    {
     "data": {
      "text/plain": [
       "3"
      ]
     },
     "execution_count": 285,
     "metadata": {},
     "output_type": "execute_result"
    }
   ],
   "source": [
    "a[0][2]"
   ]
  },
  {
   "cell_type": "code",
   "execution_count": 287,
   "id": "88ce7f1b-cfbf-4b17-984b-6d0f479b6422",
   "metadata": {},
   "outputs": [
    {
     "data": {
      "text/plain": [
       "3"
      ]
     },
     "execution_count": 287,
     "metadata": {},
     "output_type": "execute_result"
    }
   ],
   "source": [
    "a[0,2]"
   ]
  },
  {
   "cell_type": "code",
   "execution_count": 289,
   "id": "680998be-de58-4d43-8ae5-c3dded331887",
   "metadata": {},
   "outputs": [
    {
     "data": {
      "text/plain": [
       "3"
      ]
     },
     "execution_count": 289,
     "metadata": {},
     "output_type": "execute_result"
    }
   ],
   "source": [
    "a.item(0,2)"
   ]
  },
  {
   "cell_type": "code",
   "execution_count": 291,
   "id": "cf222e52-b6fa-4253-be7a-b241712d83bb",
   "metadata": {},
   "outputs": [],
   "source": [
    "b = np.array( {1:2, 3:4} )"
   ]
  },
  {
   "cell_type": "code",
   "execution_count": 293,
   "id": "940bc43a-8e23-4b56-b554-9731fec7688a",
   "metadata": {},
   "outputs": [
    {
     "data": {
      "text/plain": [
       "array({1: 2, 3: 4}, dtype=object)"
      ]
     },
     "execution_count": 293,
     "metadata": {},
     "output_type": "execute_result"
    }
   ],
   "source": [
    "b"
   ]
  },
  {
   "cell_type": "code",
   "execution_count": 295,
   "id": "130f6921-5aa5-403d-8dda-5c7aab6b224d",
   "metadata": {},
   "outputs": [
    {
     "data": {
      "text/plain": [
       "()"
      ]
     },
     "execution_count": 295,
     "metadata": {},
     "output_type": "execute_result"
    }
   ],
   "source": [
    "b.shape"
   ]
  },
  {
   "cell_type": "code",
   "execution_count": 297,
   "id": "cdcb2744-c20c-45ce-9f9d-fc6aed75e38d",
   "metadata": {},
   "outputs": [
    {
     "data": {
      "text/plain": [
       "0"
      ]
     },
     "execution_count": 297,
     "metadata": {},
     "output_type": "execute_result"
    }
   ],
   "source": [
    "b.ndim"
   ]
  },
  {
   "cell_type": "code",
   "execution_count": 303,
   "id": "3d468180-eebb-49a0-b650-e178dee59e32",
   "metadata": {},
   "outputs": [
    {
     "ename": "SyntaxError",
     "evalue": "invalid syntax (2061897702.py, line 1)",
     "output_type": "error",
     "traceback": [
      "\u001b[1;36m  Cell \u001b[1;32mIn[303], line 1\u001b[1;36m\u001b[0m\n\u001b[1;33m    b[]\u001b[0m\n\u001b[1;37m      ^\u001b[0m\n\u001b[1;31mSyntaxError\u001b[0m\u001b[1;31m:\u001b[0m invalid syntax\n"
     ]
    }
   ],
   "source": [
    "b[]"
   ]
  },
  {
   "cell_type": "code",
   "execution_count": 305,
   "id": "81e683aa-3748-491a-ae31-814edbc61878",
   "metadata": {},
   "outputs": [
    {
     "data": {
      "text/plain": [
       "{1: 2, 3: 4}"
      ]
     },
     "execution_count": 305,
     "metadata": {},
     "output_type": "execute_result"
    }
   ],
   "source": [
    "b.item()"
   ]
  },
  {
   "cell_type": "code",
   "execution_count": 307,
   "id": "571ab0b7-8b3a-4943-b7c8-dcdf3b058ea6",
   "metadata": {},
   "outputs": [],
   "source": [
    "a = np.array([1,2,3])"
   ]
  },
  {
   "cell_type": "code",
   "execution_count": 309,
   "id": "adb730ca-d96e-4df6-8255-865e29339323",
   "metadata": {},
   "outputs": [
    {
     "data": {
      "text/plain": [
       "array([1, 2, 3])"
      ]
     },
     "execution_count": 309,
     "metadata": {},
     "output_type": "execute_result"
    }
   ],
   "source": [
    "a"
   ]
  },
  {
   "cell_type": "code",
   "execution_count": 311,
   "id": "00ded964-52aa-48b1-9fa0-58467bbf5952",
   "metadata": {},
   "outputs": [
    {
     "data": {
      "text/plain": [
       "dtype('int32')"
      ]
     },
     "execution_count": 311,
     "metadata": {},
     "output_type": "execute_result"
    }
   ],
   "source": [
    "a.dtype"
   ]
  },
  {
   "cell_type": "code",
   "execution_count": 313,
   "id": "cb051e83-84fb-4273-87a0-34669d3b3aff",
   "metadata": {},
   "outputs": [],
   "source": [
    "b = a.astype('float32')"
   ]
  },
  {
   "cell_type": "code",
   "execution_count": 315,
   "id": "f20c0ea0-16cf-424a-b284-794ed7e09288",
   "metadata": {},
   "outputs": [
    {
     "data": {
      "text/plain": [
       "array([1., 2., 3.], dtype=float32)"
      ]
     },
     "execution_count": 315,
     "metadata": {},
     "output_type": "execute_result"
    }
   ],
   "source": [
    "b"
   ]
  },
  {
   "cell_type": "code",
   "execution_count": 317,
   "id": "2be3e04f-f852-405a-9838-e28fa60abab7",
   "metadata": {},
   "outputs": [],
   "source": [
    "c = b.astype('float32')"
   ]
  },
  {
   "cell_type": "code",
   "execution_count": 319,
   "id": "15547a08-fabd-47ad-9730-45c3cd5b9155",
   "metadata": {},
   "outputs": [
    {
     "data": {
      "text/plain": [
       "array([1., 2., 3.], dtype=float32)"
      ]
     },
     "execution_count": 319,
     "metadata": {},
     "output_type": "execute_result"
    }
   ],
   "source": [
    "c"
   ]
  },
  {
   "cell_type": "code",
   "execution_count": 321,
   "id": "cd5afd1d-98e2-430d-88b0-fc9a03258422",
   "metadata": {},
   "outputs": [
    {
     "data": {
      "text/plain": [
       "(1172598600400, 1172598599728)"
      ]
     },
     "execution_count": 321,
     "metadata": {},
     "output_type": "execute_result"
    }
   ],
   "source": [
    "id(b),id(c)"
   ]
  },
  {
   "cell_type": "code",
   "execution_count": 337,
   "id": "a199eb5e-9e75-48c8-9f76-7614b4a89d79",
   "metadata": {},
   "outputs": [
    {
     "data": {
      "text/plain": [
       "array([[ 0,  1,  2,  3,  4],\n",
       "       [ 5,  6,  7,  8,  9],\n",
       "       [10, 11, 12, 13, 14]])"
      ]
     },
     "execution_count": 337,
     "metadata": {},
     "output_type": "execute_result"
    }
   ],
   "source": [
    "a = np.arange(15).reshape((3,5))\n",
    "a"
   ]
  },
  {
   "cell_type": "code",
   "execution_count": 339,
   "id": "2d2e7140-4130-426b-9788-b4fdc6a0fe82",
   "metadata": {},
   "outputs": [],
   "source": [
    "b = a.reshape(15)"
   ]
  },
  {
   "cell_type": "code",
   "execution_count": 341,
   "id": "d427b530-cef2-4d07-a44c-7b175b5c6185",
   "metadata": {},
   "outputs": [
    {
     "data": {
      "text/plain": [
       "array([[ 0,  1,  2,  3,  4],\n",
       "       [ 5,  6,  7,  8,  9],\n",
       "       [10, 11, 12, 13, 14]])"
      ]
     },
     "execution_count": 341,
     "metadata": {},
     "output_type": "execute_result"
    }
   ],
   "source": [
    "a"
   ]
  },
  {
   "cell_type": "code",
   "execution_count": 343,
   "id": "5d326ca8-85b2-48c2-8054-19ad164a6d6f",
   "metadata": {},
   "outputs": [
    {
     "data": {
      "text/plain": [
       "array([ 0,  1,  2,  3,  4,  5,  6,  7,  8,  9, 10, 11, 12, 13, 14])"
      ]
     },
     "execution_count": 343,
     "metadata": {},
     "output_type": "execute_result"
    }
   ],
   "source": [
    "b"
   ]
  },
  {
   "cell_type": "code",
   "execution_count": 345,
   "id": "20bb55b1-f51e-46f6-bf1f-227d7e2e542d",
   "metadata": {},
   "outputs": [
    {
     "data": {
      "text/plain": [
       "False"
      ]
     },
     "execution_count": 345,
     "metadata": {},
     "output_type": "execute_result"
    }
   ],
   "source": [
    "a is b"
   ]
  },
  {
   "cell_type": "code",
   "execution_count": 347,
   "id": "56fac6f8-ea4f-483c-9b16-25eface15692",
   "metadata": {},
   "outputs": [
    {
     "data": {
      "text/plain": [
       "(1172598590320, 1172598600304)"
      ]
     },
     "execution_count": 347,
     "metadata": {},
     "output_type": "execute_result"
    }
   ],
   "source": [
    "id(a),id(b)"
   ]
  },
  {
   "cell_type": "code",
   "execution_count": 349,
   "id": "6d7f6cdb-e28a-4a84-aa5e-06f3d4c5bee9",
   "metadata": {},
   "outputs": [
    {
     "data": {
      "text/plain": [
       "(3, 5)"
      ]
     },
     "execution_count": 349,
     "metadata": {},
     "output_type": "execute_result"
    }
   ],
   "source": [
    "a.shape"
   ]
  },
  {
   "cell_type": "code",
   "execution_count": 351,
   "id": "da73cb55-2ebf-4fb9-9eae-d0fe3cfd851f",
   "metadata": {},
   "outputs": [
    {
     "data": {
      "text/plain": [
       "(15,)"
      ]
     },
     "execution_count": 351,
     "metadata": {},
     "output_type": "execute_result"
    }
   ],
   "source": [
    "b.shape"
   ]
  },
  {
   "cell_type": "code",
   "execution_count": 355,
   "id": "792ed5b2-b53b-486b-b888-86fc23aee2fc",
   "metadata": {},
   "outputs": [],
   "source": [
    "a[2,1] = 1000"
   ]
  },
  {
   "cell_type": "code",
   "execution_count": 357,
   "id": "d4faf04f-45ad-4817-bb83-60d897c118f3",
   "metadata": {},
   "outputs": [
    {
     "data": {
      "text/plain": [
       "array([   0,    1,    2,    3,    4,    5,    6,    7,    8,    9,   10,\n",
       "       1000,   12,   13,   14])"
      ]
     },
     "execution_count": 357,
     "metadata": {},
     "output_type": "execute_result"
    }
   ],
   "source": [
    "b"
   ]
  },
  {
   "cell_type": "code",
   "execution_count": 359,
   "id": "2b7fa39e-1306-4938-a741-f79f508ab47b",
   "metadata": {},
   "outputs": [
    {
     "data": {
      "text/plain": [
       "True"
      ]
     },
     "execution_count": 359,
     "metadata": {},
     "output_type": "execute_result"
    }
   ],
   "source": [
    "np.shares_memory(a,b)"
   ]
  },
  {
   "cell_type": "code",
   "execution_count": 361,
   "id": "b6fad198-e40a-494f-bcef-40f072ef0db3",
   "metadata": {},
   "outputs": [],
   "source": [
    "lista1 = [10,20,30]"
   ]
  },
  {
   "cell_type": "code",
   "execution_count": 363,
   "id": "017458a7-7944-43e3-a1e1-37d58f35f775",
   "metadata": {},
   "outputs": [],
   "source": [
    "lista2 = lista1[:]"
   ]
  },
  {
   "cell_type": "code",
   "execution_count": 365,
   "id": "18a189bf-2a29-42d8-af8b-675e37262d28",
   "metadata": {},
   "outputs": [
    {
     "data": {
      "text/plain": [
       "[10, 20, 30]"
      ]
     },
     "execution_count": 365,
     "metadata": {},
     "output_type": "execute_result"
    }
   ],
   "source": [
    "lista2"
   ]
  },
  {
   "cell_type": "code",
   "execution_count": 367,
   "id": "d6ecc864-9c6b-46de-ab8c-2a14eefc5b4a",
   "metadata": {},
   "outputs": [],
   "source": [
    "lista2[1] += 1000"
   ]
  },
  {
   "cell_type": "code",
   "execution_count": 369,
   "id": "8cdbde85-d67e-4032-9693-5d6c6f045663",
   "metadata": {},
   "outputs": [
    {
     "data": {
      "text/plain": [
       "[10, 1020, 30]"
      ]
     },
     "execution_count": 369,
     "metadata": {},
     "output_type": "execute_result"
    }
   ],
   "source": [
    "lista2"
   ]
  },
  {
   "cell_type": "code",
   "execution_count": 371,
   "id": "8b093e45-a42d-4d75-8484-5b894ff7b1f9",
   "metadata": {},
   "outputs": [
    {
     "data": {
      "text/plain": [
       "[10, 20, 30]"
      ]
     },
     "execution_count": 371,
     "metadata": {},
     "output_type": "execute_result"
    }
   ],
   "source": [
    "lista1"
   ]
  },
  {
   "cell_type": "code",
   "execution_count": 373,
   "id": "563d2473-d598-4e95-9e5d-a3ecbc56ea67",
   "metadata": {},
   "outputs": [],
   "source": [
    "array1 = np.array([10,20,30])"
   ]
  },
  {
   "cell_type": "code",
   "execution_count": 375,
   "id": "32ba6e1b-6672-4039-bb21-a65df5c0c2ca",
   "metadata": {},
   "outputs": [],
   "source": [
    "array2 = array1[:]"
   ]
  },
  {
   "cell_type": "code",
   "execution_count": 377,
   "id": "d9302d8f-a60b-4b1a-88aa-474cb57c445e",
   "metadata": {},
   "outputs": [
    {
     "data": {
      "text/plain": [
       "(1172598588688, 1172598587728)"
      ]
     },
     "execution_count": 377,
     "metadata": {},
     "output_type": "execute_result"
    }
   ],
   "source": [
    "id(array1), id(array2)"
   ]
  },
  {
   "cell_type": "code",
   "execution_count": 379,
   "id": "2001b4a5-f0b1-4a09-8b6e-d1441e4601bd",
   "metadata": {},
   "outputs": [
    {
     "data": {
      "text/plain": [
       "True"
      ]
     },
     "execution_count": 379,
     "metadata": {},
     "output_type": "execute_result"
    }
   ],
   "source": [
    "np.shares_memory(array1, array2)"
   ]
  },
  {
   "cell_type": "code",
   "execution_count": 383,
   "id": "1cf1f017-89c3-4f99-84d5-36db539ae0af",
   "metadata": {},
   "outputs": [],
   "source": [
    "array1[1] += 1000"
   ]
  },
  {
   "cell_type": "code",
   "execution_count": 385,
   "id": "073eb28e-3e06-43c5-974d-fbd1609ce428",
   "metadata": {},
   "outputs": [
    {
     "data": {
      "text/plain": [
       "array([  10, 1020,   30])"
      ]
     },
     "execution_count": 385,
     "metadata": {},
     "output_type": "execute_result"
    }
   ],
   "source": [
    "array1"
   ]
  },
  {
   "cell_type": "code",
   "execution_count": 387,
   "id": "5677f166-beb9-45ae-9092-87cccaf02bb2",
   "metadata": {},
   "outputs": [
    {
     "data": {
      "text/plain": [
       "array([  10, 1020,   30])"
      ]
     },
     "execution_count": 387,
     "metadata": {},
     "output_type": "execute_result"
    }
   ],
   "source": [
    "array2"
   ]
  },
  {
   "cell_type": "code",
   "execution_count": 391,
   "id": "d2fca8e8-8db0-437b-88f2-2729d9f69766",
   "metadata": {},
   "outputs": [
    {
     "data": {
      "text/plain": [
       "array([[ 0,  1,  2,  3,  4,  5,  6,  7,  8,  9],\n",
       "       [10, 11, 12, 13, 14, 15, 16, 17, 18, 19],\n",
       "       [20, 21, 22, 23, 24, 25, 26, 27, 28, 29],\n",
       "       [30, 31, 32, 33, 34, 35, 36, 37, 38, 39],\n",
       "       [40, 41, 42, 43, 44, 45, 46, 47, 48, 49],\n",
       "       [50, 51, 52, 53, 54, 55, 56, 57, 58, 59],\n",
       "       [60, 61, 62, 63, 64, 65, 66, 67, 68, 69]])"
      ]
     },
     "execution_count": 391,
     "metadata": {},
     "output_type": "execute_result"
    }
   ],
   "source": [
    "a = np.arange(70).reshape(7,-1)\n",
    "a"
   ]
  },
  {
   "cell_type": "code",
   "execution_count": 395,
   "id": "7f712fe1-7705-4f90-b725-1a551e1fdb3d",
   "metadata": {},
   "outputs": [
    {
     "data": {
      "text/plain": [
       "array([[ 0,  1,  2,  3,  4],\n",
       "       [10, 11, 12, 13, 14],\n",
       "       [20, 21, 22, 23, 24],\n",
       "       [30, 31, 32, 33, 34],\n",
       "       [40, 41, 42, 43, 44]])"
      ]
     },
     "execution_count": 395,
     "metadata": {},
     "output_type": "execute_result"
    }
   ],
   "source": [
    "b = a[:5,:5]\n",
    "b"
   ]
  },
  {
   "cell_type": "code",
   "execution_count": 397,
   "id": "46c80978-5508-4ade-afb7-b9f82d45067a",
   "metadata": {},
   "outputs": [],
   "source": [
    "c = np.copy(b)"
   ]
  },
  {
   "cell_type": "code",
   "execution_count": 399,
   "id": "f597af31-bd4d-4b02-971d-7e2f42a3d5ed",
   "metadata": {},
   "outputs": [
    {
     "data": {
      "text/plain": [
       "True"
      ]
     },
     "execution_count": 399,
     "metadata": {},
     "output_type": "execute_result"
    }
   ],
   "source": [
    "np.shares_memory(a,b)"
   ]
  },
  {
   "cell_type": "code",
   "execution_count": 401,
   "id": "d907ccb1-e6d8-4639-9495-1e4175ee6586",
   "metadata": {},
   "outputs": [
    {
     "data": {
      "text/plain": [
       "False"
      ]
     },
     "execution_count": 401,
     "metadata": {},
     "output_type": "execute_result"
    }
   ],
   "source": [
    "np.shares_memory(a,c)"
   ]
  },
  {
   "cell_type": "code",
   "execution_count": 409,
   "id": "0eaf623d-1f04-495b-9f0c-cba86d9d888b",
   "metadata": {},
   "outputs": [
    {
     "data": {
      "text/plain": [
       "array([[6, 5, 7, 7, 6],\n",
       "       [5, 7, 9, 5, 6],\n",
       "       [9, 7, 6, 5, 7],\n",
       "       [6, 8, 7, 8, 6],\n",
       "       [8, 8, 8, 8, 9],\n",
       "       [7, 5, 8, 9, 8],\n",
       "       [8, 8, 6, 5, 7]])"
      ]
     },
     "execution_count": 409,
     "metadata": {},
     "output_type": "execute_result"
    }
   ],
   "source": [
    "np.random.randint(5,10, (7,5))"
   ]
  },
  {
   "cell_type": "code",
   "execution_count": 413,
   "id": "0731c7a4-856b-4ed9-9e40-b8ba1203d697",
   "metadata": {},
   "outputs": [
    {
     "data": {
      "text/plain": [
       "array([ 0,  2,  4,  6,  8, 10, 12, 14, 16, 18])"
      ]
     },
     "execution_count": 413,
     "metadata": {},
     "output_type": "execute_result"
    }
   ],
   "source": [
    "np.arange(10) * 2"
   ]
  },
  {
   "cell_type": "code",
   "execution_count": 415,
   "id": "a8e5c53b-e6d6-44e8-9b2c-f4bd6b02acea",
   "metadata": {},
   "outputs": [
    {
     "data": {
      "text/plain": [
       "array([0, 1, 2, 3, 4, 5, 6, 7, 8, 9])"
      ]
     },
     "execution_count": 415,
     "metadata": {},
     "output_type": "execute_result"
    }
   ],
   "source": [
    "np.arange(10)"
   ]
  },
  {
   "cell_type": "code",
   "execution_count": 423,
   "id": "5aeb9140-367c-4caf-aad0-51ae9ad58d56",
   "metadata": {},
   "outputs": [
    {
     "data": {
      "text/plain": [
       "[0, 1, 2, 3, 4, 5, 6, 7, 8, 9, 0, 1, 2, 3, 4, 5, 6, 7, 8, 9]"
      ]
     },
     "execution_count": 423,
     "metadata": {},
     "output_type": "execute_result"
    }
   ],
   "source": [
    "[i for i in range(10)] * 2"
   ]
  },
  {
   "cell_type": "code",
   "execution_count": 421,
   "id": "01fdd525-c6b8-412a-aeee-10fa693d4478",
   "metadata": {},
   "outputs": [
    {
     "data": {
      "text/plain": [
       "['hola', 'hola']"
      ]
     },
     "execution_count": 421,
     "metadata": {},
     "output_type": "execute_result"
    }
   ],
   "source": [
    "[\"hola\"] * 2"
   ]
  },
  {
   "cell_type": "markdown",
   "id": "6e693498-593e-4504-95fe-4ab3ebf4a116",
   "metadata": {},
   "source": [
    "# Append y delete"
   ]
  },
  {
   "cell_type": "code",
   "execution_count": 2,
   "id": "ce51ac5e-9aad-42f3-9af0-13cfb315a327",
   "metadata": {},
   "outputs": [],
   "source": [
    "import numpy as np"
   ]
  },
  {
   "cell_type": "code",
   "execution_count": 4,
   "id": "b654b1f5-a9c9-43ad-aeca-216c8f75729c",
   "metadata": {},
   "outputs": [],
   "source": [
    "a = np.array([1,2,3])"
   ]
  },
  {
   "cell_type": "code",
   "execution_count": 6,
   "id": "f93e7feb-214d-422c-868a-6f239afb877c",
   "metadata": {},
   "outputs": [],
   "source": [
    "b = np.append(a, [4,5,6])"
   ]
  },
  {
   "cell_type": "code",
   "execution_count": 8,
   "id": "255707c6-6053-49d8-b990-d3ff157cb871",
   "metadata": {},
   "outputs": [
    {
     "data": {
      "text/plain": [
       "array([1, 2, 3, 4, 5, 6])"
      ]
     },
     "execution_count": 8,
     "metadata": {},
     "output_type": "execute_result"
    }
   ],
   "source": [
    "b"
   ]
  },
  {
   "cell_type": "code",
   "execution_count": 10,
   "id": "fa2e4fb1-435c-44b2-a605-3d31c48d13d1",
   "metadata": {},
   "outputs": [
    {
     "data": {
      "text/plain": [
       "array([1, 2, 3])"
      ]
     },
     "execution_count": 10,
     "metadata": {},
     "output_type": "execute_result"
    }
   ],
   "source": [
    "a"
   ]
  },
  {
   "cell_type": "code",
   "execution_count": 14,
   "id": "ef4e3360-e040-4293-a661-10506877e09e",
   "metadata": {},
   "outputs": [
    {
     "data": {
      "text/plain": [
       "array([[1, 2],\n",
       "       [3, 4]])"
      ]
     },
     "execution_count": 14,
     "metadata": {},
     "output_type": "execute_result"
    }
   ],
   "source": [
    "a = np.array([[1,2],[3,4]])\n",
    "a"
   ]
  },
  {
   "cell_type": "code",
   "execution_count": 18,
   "id": "3b2ac59b-a70d-403a-98fd-918e6ec7c3d9",
   "metadata": {},
   "outputs": [
    {
     "data": {
      "text/plain": [
       "array([[1, 2],\n",
       "       [3, 4],\n",
       "       [9, 9]])"
      ]
     },
     "execution_count": 18,
     "metadata": {},
     "output_type": "execute_result"
    }
   ],
   "source": [
    "b = np.append(a, [[9,9]], axis=0)\n",
    "b"
   ]
  },
  {
   "cell_type": "code",
   "execution_count": 20,
   "id": "f6ddde86-4e82-434d-b7ef-e97dde9ca3c6",
   "metadata": {},
   "outputs": [
    {
     "data": {
      "text/plain": [
       "array([[1, 2, 9],\n",
       "       [3, 4, 9]])"
      ]
     },
     "execution_count": 20,
     "metadata": {},
     "output_type": "execute_result"
    }
   ],
   "source": [
    "c = np.append(a, [[9],[9]], axis=1)\n",
    "c"
   ]
  },
  {
   "cell_type": "code",
   "execution_count": 24,
   "id": "35127b70-f5e7-4bed-b82c-7dd03566f558",
   "metadata": {},
   "outputs": [
    {
     "data": {
      "text/plain": [
       "array([[1, 2, 3],\n",
       "       [4, 5, 6]])"
      ]
     },
     "execution_count": 24,
     "metadata": {},
     "output_type": "execute_result"
    }
   ],
   "source": [
    "a = np.array([[1,2,3],[4,5,6]])\n",
    "a"
   ]
  },
  {
   "cell_type": "code",
   "execution_count": 26,
   "id": "5acc3d1e-e776-4003-90b8-46f4228899a3",
   "metadata": {},
   "outputs": [
    {
     "data": {
      "text/plain": [
       "array([2, 3, 4, 5, 6])"
      ]
     },
     "execution_count": 26,
     "metadata": {},
     "output_type": "execute_result"
    }
   ],
   "source": [
    "np.delete(a, 0)"
   ]
  },
  {
   "cell_type": "code",
   "execution_count": 28,
   "id": "e1223303-df8a-46d0-ac59-928d9dc7c42e",
   "metadata": {},
   "outputs": [
    {
     "data": {
      "text/plain": [
       "array([[1, 2, 3],\n",
       "       [4, 5, 6]])"
      ]
     },
     "execution_count": 28,
     "metadata": {},
     "output_type": "execute_result"
    }
   ],
   "source": [
    "a"
   ]
  },
  {
   "cell_type": "code",
   "execution_count": 32,
   "id": "37d66f24-82e5-453b-8e43-257d33522177",
   "metadata": {},
   "outputs": [
    {
     "data": {
      "text/plain": [
       "array([[4, 5, 6]])"
      ]
     },
     "execution_count": 32,
     "metadata": {},
     "output_type": "execute_result"
    }
   ],
   "source": [
    "np.delete(a, 0, axis=0)"
   ]
  },
  {
   "cell_type": "code",
   "execution_count": 34,
   "id": "5c419d29-0c70-4d81-9358-14110f2b7bd1",
   "metadata": {},
   "outputs": [
    {
     "data": {
      "text/plain": [
       "array([[1, 2, 3],\n",
       "       [4, 5, 6]])"
      ]
     },
     "execution_count": 34,
     "metadata": {},
     "output_type": "execute_result"
    }
   ],
   "source": [
    "a"
   ]
  },
  {
   "cell_type": "code",
   "execution_count": 36,
   "id": "ec399009-e060-4891-b9c6-aea1a94040a3",
   "metadata": {},
   "outputs": [
    {
     "data": {
      "text/plain": [
       "array([[2, 3],\n",
       "       [5, 6]])"
      ]
     },
     "execution_count": 36,
     "metadata": {},
     "output_type": "execute_result"
    }
   ],
   "source": [
    "np.delete(a, 0, axis=1)"
   ]
  },
  {
   "cell_type": "code",
   "execution_count": 38,
   "id": "8a74d1c1-e05e-4c5d-bf15-4f6c27c4d218",
   "metadata": {},
   "outputs": [],
   "source": [
    "arr1 = np.array([1,2,3])\n",
    "arr2 = np.array([4,5,6])"
   ]
  },
  {
   "cell_type": "code",
   "execution_count": 40,
   "id": "8ea58461-2bbb-4bb2-ab69-63bce8edcdbb",
   "metadata": {},
   "outputs": [
    {
     "data": {
      "text/plain": [
       "array([5, 7, 9])"
      ]
     },
     "execution_count": 40,
     "metadata": {},
     "output_type": "execute_result"
    }
   ],
   "source": [
    "arr1+arr2"
   ]
  },
  {
   "cell_type": "code",
   "execution_count": 42,
   "id": "ce0addab-bfb9-401b-95b1-8bfc5a007f32",
   "metadata": {},
   "outputs": [
    {
     "data": {
      "text/plain": [
       "1"
      ]
     },
     "execution_count": 42,
     "metadata": {},
     "output_type": "execute_result"
    }
   ],
   "source": [
    "arr1.ndim"
   ]
  },
  {
   "cell_type": "code",
   "execution_count": 44,
   "id": "4d66f262-a1f9-4a0d-9c80-628c0f40d3b3",
   "metadata": {},
   "outputs": [
    {
     "data": {
      "text/plain": [
       "3"
      ]
     },
     "execution_count": 44,
     "metadata": {},
     "output_type": "execute_result"
    }
   ],
   "source": [
    "arr1.size"
   ]
  },
  {
   "cell_type": "code",
   "execution_count": 46,
   "id": "723b81ba-0186-4753-92f0-ae606ee40d7b",
   "metadata": {},
   "outputs": [
    {
     "data": {
      "text/plain": [
       "(3,)"
      ]
     },
     "execution_count": 46,
     "metadata": {},
     "output_type": "execute_result"
    }
   ],
   "source": [
    "arr1.shape"
   ]
  },
  {
   "cell_type": "code",
   "execution_count": 48,
   "id": "fb83e8f8-d52b-4407-82a1-929cea584c59",
   "metadata": {},
   "outputs": [
    {
     "data": {
      "text/plain": [
       "array([-3, -3, -3])"
      ]
     },
     "execution_count": 48,
     "metadata": {},
     "output_type": "execute_result"
    }
   ],
   "source": [
    "arr1-arr2"
   ]
  },
  {
   "cell_type": "code",
   "execution_count": 50,
   "id": "81bd14df-63bc-4db1-9d33-bf4b4b481121",
   "metadata": {},
   "outputs": [
    {
     "data": {
      "text/plain": [
       "array([ 4, 10, 18])"
      ]
     },
     "execution_count": 50,
     "metadata": {},
     "output_type": "execute_result"
    }
   ],
   "source": [
    "arr1*arr2"
   ]
  },
  {
   "cell_type": "code",
   "execution_count": 52,
   "id": "ad8612ff-04e2-4bd0-99b7-12058c37d751",
   "metadata": {},
   "outputs": [
    {
     "data": {
      "text/plain": [
       "array([0.25, 0.4 , 0.5 ])"
      ]
     },
     "execution_count": 52,
     "metadata": {},
     "output_type": "execute_result"
    }
   ],
   "source": [
    "arr1/arr2"
   ]
  },
  {
   "cell_type": "code",
   "execution_count": 54,
   "id": "5bf0136d-386e-440b-8685-38195bb320dc",
   "metadata": {},
   "outputs": [],
   "source": [
    "b = np.array([1,2,3])"
   ]
  },
  {
   "cell_type": "code",
   "execution_count": 56,
   "id": "c3d3b091-900b-43b3-8d14-7c6bdd893d53",
   "metadata": {},
   "outputs": [
    {
     "data": {
      "text/plain": [
       "array([3, 6, 9])"
      ]
     },
     "execution_count": 56,
     "metadata": {},
     "output_type": "execute_result"
    }
   ],
   "source": [
    "3*b"
   ]
  },
  {
   "cell_type": "code",
   "execution_count": 58,
   "id": "9c3772c8-ccf8-4333-a15a-d00350fdbf11",
   "metadata": {},
   "outputs": [
    {
     "data": {
      "text/plain": [
       "array([1, 2, 3])"
      ]
     },
     "execution_count": 58,
     "metadata": {},
     "output_type": "execute_result"
    }
   ],
   "source": [
    "b"
   ]
  },
  {
   "cell_type": "code",
   "execution_count": 60,
   "id": "59ec1053-5d28-40f2-ae6a-33e14ac654cd",
   "metadata": {},
   "outputs": [
    {
     "data": {
      "text/plain": [
       "array([1, 1, 1, 2, 2, 2, 3, 3, 3])"
      ]
     },
     "execution_count": 60,
     "metadata": {},
     "output_type": "execute_result"
    }
   ],
   "source": [
    "np.repeat(b, 3)"
   ]
  },
  {
   "cell_type": "code",
   "execution_count": 62,
   "id": "220efebf-b678-4dd6-abf7-a9536d5f1710",
   "metadata": {},
   "outputs": [
    {
     "data": {
      "text/plain": [
       "array([1, 2, 3, 1, 2, 3, 1, 2, 3])"
      ]
     },
     "execution_count": 62,
     "metadata": {},
     "output_type": "execute_result"
    }
   ],
   "source": [
    "np.tile(b, 3)"
   ]
  },
  {
   "cell_type": "code",
   "execution_count": 76,
   "id": "2c4bf83e-c377-4789-878c-5f8d8e2fcf03",
   "metadata": {},
   "outputs": [
    {
     "data": {
      "text/plain": [
       "array([0, 1, 2, 3, 4, 5, 6, 7, 8])"
      ]
     },
     "execution_count": 76,
     "metadata": {},
     "output_type": "execute_result"
    }
   ],
   "source": [
    "c = np.arange(9)\n",
    "c"
   ]
  },
  {
   "cell_type": "code",
   "execution_count": 78,
   "id": "51e33743-1f2c-4e53-b396-bde6dc228bec",
   "metadata": {},
   "outputs": [
    {
     "data": {
      "text/plain": [
       "array([[0, 1, 2],\n",
       "       [3, 4, 5],\n",
       "       [6, 7, 8]])"
      ]
     },
     "execution_count": 78,
     "metadata": {},
     "output_type": "execute_result"
    }
   ],
   "source": [
    "c.reshape(3,3)"
   ]
  },
  {
   "cell_type": "code",
   "execution_count": 70,
   "id": "85522af2-ec85-4d92-9c23-400cbae7fefa",
   "metadata": {},
   "outputs": [
    {
     "name": "stdout",
     "output_type": "stream",
     "text": [
      "791 μs ± 9.31 μs per loop (mean ± std. dev. of 7 runs, 1,000 loops each)\n"
     ]
    }
   ],
   "source": [
    "%%timeit\n",
    "\n",
    "c = np.arange(1000000)"
   ]
  },
  {
   "cell_type": "code",
   "execution_count": 74,
   "id": "ddd5e831-0c72-4ae6-b995-01fe6c1baf09",
   "metadata": {},
   "outputs": [
    {
     "name": "stdout",
     "output_type": "stream",
     "text": [
      "124 ns ± 1.15 ns per loop (mean ± std. dev. of 7 runs, 10,000,000 loops each)\n"
     ]
    }
   ],
   "source": [
    "%%timeit\n",
    "\n",
    "c.reshape(2,500000)"
   ]
  },
  {
   "cell_type": "code",
   "execution_count": 82,
   "id": "9d331ffb-99ae-4b11-857a-272a335f8893",
   "metadata": {},
   "outputs": [
    {
     "data": {
      "text/plain": [
       "array([[0, 1, 2],\n",
       "       [3, 4, 5],\n",
       "       [6, 7, 8]])"
      ]
     },
     "execution_count": 82,
     "metadata": {},
     "output_type": "execute_result"
    }
   ],
   "source": [
    "c = c.reshape(3,3)\n",
    "c"
   ]
  },
  {
   "cell_type": "code",
   "execution_count": 84,
   "id": "bc0bc8a5-0bdd-49e7-bc71-60d93fded553",
   "metadata": {},
   "outputs": [
    {
     "data": {
      "text/plain": [
       "array([[0, 1, 2, 0, 1, 2, 0, 1, 2],\n",
       "       [3, 4, 5, 3, 4, 5, 3, 4, 5],\n",
       "       [6, 7, 8, 6, 7, 8, 6, 7, 8]])"
      ]
     },
     "execution_count": 84,
     "metadata": {},
     "output_type": "execute_result"
    }
   ],
   "source": [
    "np.tile(c, 3)"
   ]
  },
  {
   "cell_type": "code",
   "execution_count": 86,
   "id": "1fce95dd-fecb-41be-bfca-c349eaa7b6ca",
   "metadata": {},
   "outputs": [
    {
     "data": {
      "text/plain": [
       "array([4, 5, 6])"
      ]
     },
     "execution_count": 86,
     "metadata": {},
     "output_type": "execute_result"
    }
   ],
   "source": [
    "arr2"
   ]
  },
  {
   "cell_type": "code",
   "execution_count": 88,
   "id": "4d804799-5652-4c45-bdfe-edab62a74fdd",
   "metadata": {},
   "outputs": [
    {
     "data": {
      "text/plain": [
       "array([16, 25, 36])"
      ]
     },
     "execution_count": 88,
     "metadata": {},
     "output_type": "execute_result"
    }
   ],
   "source": [
    "arr2**2"
   ]
  },
  {
   "cell_type": "code",
   "execution_count": 90,
   "id": "0dcd8650-922b-4f56-918e-e2f8cb6c4227",
   "metadata": {},
   "outputs": [
    {
     "data": {
      "text/plain": [
       "array([0.0625    , 0.08      , 0.08333333])"
      ]
     },
     "execution_count": 90,
     "metadata": {},
     "output_type": "execute_result"
    }
   ],
   "source": [
    "arr1 / (arr2**2)"
   ]
  },
  {
   "cell_type": "markdown",
   "id": "beca83a8-6e22-463a-b188-827caca30842",
   "metadata": {},
   "source": [
    "# operadores lógicos"
   ]
  },
  {
   "cell_type": "code",
   "execution_count": 93,
   "id": "bc2a78b9-8b6f-4244-a554-93504562afd0",
   "metadata": {},
   "outputs": [],
   "source": [
    "arr3 = np.array([10,20,30,40])"
   ]
  },
  {
   "cell_type": "code",
   "execution_count": 95,
   "id": "2da66c41-6ac8-49e9-8210-f4392c940d19",
   "metadata": {},
   "outputs": [
    {
     "data": {
      "text/plain": [
       "array([False,  True,  True,  True])"
      ]
     },
     "execution_count": 95,
     "metadata": {},
     "output_type": "execute_result"
    }
   ],
   "source": [
    "arr3 > 10"
   ]
  },
  {
   "cell_type": "code",
   "execution_count": 97,
   "id": "2c23ba66-090a-4b00-a8b9-bec1d62938cf",
   "metadata": {},
   "outputs": [],
   "source": [
    "x = np.array([0,1,2,3])"
   ]
  },
  {
   "cell_type": "code",
   "execution_count": 99,
   "id": "9da939c7-dcf8-49f0-81ac-85e1b390c153",
   "metadata": {},
   "outputs": [
    {
     "data": {
      "text/plain": [
       "array([ 0,  1,  8, 27], dtype=int32)"
      ]
     },
     "execution_count": 99,
     "metadata": {},
     "output_type": "execute_result"
    }
   ],
   "source": [
    "x**3"
   ]
  },
  {
   "cell_type": "code",
   "execution_count": 101,
   "id": "a71f400f-ad5f-4fd4-b912-0c7d25c48f68",
   "metadata": {},
   "outputs": [
    {
     "data": {
      "text/plain": [
       "array([0.        , 1.        , 1.41421356, 1.73205081])"
      ]
     },
     "execution_count": 101,
     "metadata": {},
     "output_type": "execute_result"
    }
   ],
   "source": [
    "np.sqrt(x)"
   ]
  },
  {
   "cell_type": "code",
   "execution_count": 103,
   "id": "97b82a58-5c04-44db-b6d4-6596aeb5a50b",
   "metadata": {},
   "outputs": [
    {
     "data": {
      "text/plain": [
       "1.5"
      ]
     },
     "execution_count": 103,
     "metadata": {},
     "output_type": "execute_result"
    }
   ],
   "source": [
    "np.mean(x)"
   ]
  },
  {
   "cell_type": "code",
   "execution_count": 105,
   "id": "3ed6fb48-b597-4f92-a001-ecf2e7159a09",
   "metadata": {},
   "outputs": [
    {
     "data": {
      "text/plain": [
       "6"
      ]
     },
     "execution_count": 105,
     "metadata": {},
     "output_type": "execute_result"
    }
   ],
   "source": [
    "np.sum(x)"
   ]
  },
  {
   "cell_type": "code",
   "execution_count": 107,
   "id": "b1b0c778-c988-42d4-9f29-92891805501f",
   "metadata": {},
   "outputs": [
    {
     "data": {
      "text/plain": [
       "array([0, 1, 3, 6])"
      ]
     },
     "execution_count": 107,
     "metadata": {},
     "output_type": "execute_result"
    }
   ],
   "source": [
    "np.cumsum(x)"
   ]
  },
  {
   "cell_type": "code",
   "execution_count": 109,
   "id": "03a713be-36c7-48a2-bc22-e0c7a1758178",
   "metadata": {},
   "outputs": [
    {
     "data": {
      "text/plain": [
       "3"
      ]
     },
     "execution_count": 109,
     "metadata": {},
     "output_type": "execute_result"
    }
   ],
   "source": [
    "np.argmax(x)"
   ]
  },
  {
   "cell_type": "code",
   "execution_count": 111,
   "id": "2973ff52-12c1-4219-9b1c-d62d54acc550",
   "metadata": {},
   "outputs": [
    {
     "data": {
      "text/plain": [
       "array([0, 1, 2, 3])"
      ]
     },
     "execution_count": 111,
     "metadata": {},
     "output_type": "execute_result"
    }
   ],
   "source": [
    "x"
   ]
  },
  {
   "cell_type": "code",
   "execution_count": 113,
   "id": "345e2bc5-b32f-4896-872f-a7b32e60ba5f",
   "metadata": {},
   "outputs": [
    {
     "data": {
      "text/plain": [
       "1.5"
      ]
     },
     "execution_count": 113,
     "metadata": {},
     "output_type": "execute_result"
    }
   ],
   "source": [
    "x.mean()"
   ]
  },
  {
   "cell_type": "code",
   "execution_count": 115,
   "id": "0617c0c0-a4cf-41a1-b9e6-b87b744332f0",
   "metadata": {},
   "outputs": [
    {
     "data": {
      "text/plain": [
       "array([0, 1, 3, 6])"
      ]
     },
     "execution_count": 115,
     "metadata": {},
     "output_type": "execute_result"
    }
   ],
   "source": [
    "x.cumsum()"
   ]
  },
  {
   "cell_type": "code",
   "execution_count": 117,
   "id": "2672e2b3-c212-4754-ae06-682093cafdcc",
   "metadata": {},
   "outputs": [],
   "source": [
    "x_mean = x.mean()"
   ]
  },
  {
   "cell_type": "code",
   "execution_count": 119,
   "id": "ebc15942-823d-4d88-a253-06d8897735d7",
   "metadata": {},
   "outputs": [
    {
     "data": {
      "text/plain": [
       "array([-1.5, -0.5,  0.5,  1.5])"
      ]
     },
     "execution_count": 119,
     "metadata": {},
     "output_type": "execute_result"
    }
   ],
   "source": [
    "x - x_mean"
   ]
  },
  {
   "cell_type": "code",
   "execution_count": 121,
   "id": "331501f5-090e-4f33-8c49-9dea107098af",
   "metadata": {},
   "outputs": [
    {
     "data": {
      "text/plain": [
       "array([2.25, 0.25, 0.25, 2.25])"
      ]
     },
     "execution_count": 121,
     "metadata": {},
     "output_type": "execute_result"
    }
   ],
   "source": [
    "(x-x_mean)**2"
   ]
  },
  {
   "cell_type": "code",
   "execution_count": 123,
   "id": "41a52187-dcad-49f5-9404-a37b9483df7c",
   "metadata": {},
   "outputs": [
    {
     "data": {
      "text/plain": [
       "1.118033988749895"
      ]
     },
     "execution_count": 123,
     "metadata": {},
     "output_type": "execute_result"
    }
   ],
   "source": [
    "x.std()"
   ]
  },
  {
   "cell_type": "code",
   "execution_count": 125,
   "id": "faffe59c-8f6a-411b-ba06-93a02c002941",
   "metadata": {},
   "outputs": [
    {
     "data": {
      "text/plain": [
       "1.25"
      ]
     },
     "execution_count": 125,
     "metadata": {},
     "output_type": "execute_result"
    }
   ],
   "source": [
    "x.var()"
   ]
  },
  {
   "cell_type": "code",
   "execution_count": 127,
   "id": "ea53f809-7f14-4ece-b36e-b693e936a7fa",
   "metadata": {},
   "outputs": [
    {
     "data": {
      "text/plain": [
       "1.5"
      ]
     },
     "execution_count": 127,
     "metadata": {},
     "output_type": "execute_result"
    }
   ],
   "source": [
    "x.mean()"
   ]
  },
  {
   "cell_type": "code",
   "execution_count": 129,
   "id": "f16fe1a5-b072-4683-af36-d6f9abd3b8f5",
   "metadata": {},
   "outputs": [
    {
     "data": {
      "text/plain": [
       "array([1, 2, 3, 4, 5, 6])"
      ]
     },
     "execution_count": 129,
     "metadata": {},
     "output_type": "execute_result"
    }
   ],
   "source": [
    "x = np.arange(1,7)\n",
    "x"
   ]
  },
  {
   "cell_type": "code",
   "execution_count": 131,
   "id": "f740f26c-aab7-4235-add3-5b3f6a728666",
   "metadata": {},
   "outputs": [
    {
     "data": {
      "text/plain": [
       "array([[1, 2, 3],\n",
       "       [4, 5, 6]])"
      ]
     },
     "execution_count": 131,
     "metadata": {},
     "output_type": "execute_result"
    }
   ],
   "source": [
    "x.reshape(2,3)"
   ]
  },
  {
   "cell_type": "code",
   "execution_count": 133,
   "id": "20af890f-0a82-41aa-8dca-850d24c31b60",
   "metadata": {},
   "outputs": [
    {
     "data": {
      "text/plain": [
       "array([[1, 2, 3],\n",
       "       [4, 5, 6]])"
      ]
     },
     "execution_count": 133,
     "metadata": {},
     "output_type": "execute_result"
    }
   ],
   "source": [
    "x.reshape(2, -1)"
   ]
  },
  {
   "cell_type": "code",
   "execution_count": 135,
   "id": "672c5823-992f-4dff-986c-e6bb857fb489",
   "metadata": {},
   "outputs": [
    {
     "data": {
      "text/plain": [
       "array([[1, 2, 3],\n",
       "       [4, 5, 6]])"
      ]
     },
     "execution_count": 135,
     "metadata": {},
     "output_type": "execute_result"
    }
   ],
   "source": [
    "x.reshape(-1,3)"
   ]
  },
  {
   "cell_type": "code",
   "execution_count": 137,
   "id": "540147bf-2dfa-4a7d-93ab-06164e4a794e",
   "metadata": {},
   "outputs": [
    {
     "ename": "ValueError",
     "evalue": "cannot reshape array of size 6 into shape (4)",
     "output_type": "error",
     "traceback": [
      "\u001b[1;31m---------------------------------------------------------------------------\u001b[0m",
      "\u001b[1;31mValueError\u001b[0m                                Traceback (most recent call last)",
      "Cell \u001b[1;32mIn[137], line 1\u001b[0m\n\u001b[1;32m----> 1\u001b[0m x\u001b[38;5;241m.\u001b[39mreshape(\u001b[38;5;241m-\u001b[39m\u001b[38;5;241m1\u001b[39m, \u001b[38;5;241m4\u001b[39m)\n",
      "\u001b[1;31mValueError\u001b[0m: cannot reshape array of size 6 into shape (4)"
     ]
    }
   ],
   "source": [
    "x.reshape(-1, 4)"
   ]
  },
  {
   "cell_type": "code",
   "execution_count": 139,
   "id": "bd3bbea1-efc5-4cd1-bf44-3a9a3f500dae",
   "metadata": {},
   "outputs": [
    {
     "data": {
      "text/plain": [
       "array([[1, 2],\n",
       "       [3, 4],\n",
       "       [5, 6]])"
      ]
     },
     "execution_count": 139,
     "metadata": {},
     "output_type": "execute_result"
    }
   ],
   "source": [
    "x.reshape(3,-1)"
   ]
  },
  {
   "cell_type": "code",
   "execution_count": 141,
   "id": "30904574-1d84-4053-a689-7ae78e08e9e2",
   "metadata": {},
   "outputs": [
    {
     "data": {
      "text/plain": [
       "array([1, 2, 3, 4, 5, 6])"
      ]
     },
     "execution_count": 141,
     "metadata": {},
     "output_type": "execute_result"
    }
   ],
   "source": [
    "x"
   ]
  },
  {
   "cell_type": "code",
   "execution_count": 143,
   "id": "117a1709-c1dd-452c-901a-aecb5104710b",
   "metadata": {},
   "outputs": [],
   "source": [
    "x = x.reshape(2,3)"
   ]
  },
  {
   "cell_type": "code",
   "execution_count": 145,
   "id": "035d3d1e-e0b8-4dea-820a-16ec2b4c06f6",
   "metadata": {},
   "outputs": [
    {
     "data": {
      "text/plain": [
       "array([[1, 2, 3],\n",
       "       [4, 5, 6]])"
      ]
     },
     "execution_count": 145,
     "metadata": {},
     "output_type": "execute_result"
    }
   ],
   "source": [
    "x"
   ]
  },
  {
   "cell_type": "code",
   "execution_count": 147,
   "id": "b3217ac0-0961-4357-84fe-188b2ac93068",
   "metadata": {},
   "outputs": [
    {
     "data": {
      "text/plain": [
       "array([2., 5.])"
      ]
     },
     "execution_count": 147,
     "metadata": {},
     "output_type": "execute_result"
    }
   ],
   "source": [
    "x.mean(axis=1)"
   ]
  },
  {
   "cell_type": "code",
   "execution_count": 149,
   "id": "52e78de8-804d-4430-9c80-d06f408bbcc5",
   "metadata": {},
   "outputs": [
    {
     "data": {
      "text/plain": [
       "array([2.5, 3.5, 4.5])"
      ]
     },
     "execution_count": 149,
     "metadata": {},
     "output_type": "execute_result"
    }
   ],
   "source": [
    "x.mean(axis=0)"
   ]
  },
  {
   "cell_type": "markdown",
   "id": "9fcecbf6-86d9-4a83-9b40-cc24e4fbec21",
   "metadata": {},
   "source": [
    "# numeros aleatorios"
   ]
  },
  {
   "cell_type": "code",
   "execution_count": 152,
   "id": "c361e879-ad7e-43ec-bf81-fb17fa558856",
   "metadata": {},
   "outputs": [],
   "source": [
    "np.random.seed(125)"
   ]
  },
  {
   "cell_type": "code",
   "execution_count": 154,
   "id": "f12a44cc-e914-4df0-b03c-01fd4f23b83e",
   "metadata": {},
   "outputs": [
    {
     "data": {
      "text/plain": [
       "2"
      ]
     },
     "execution_count": 154,
     "metadata": {},
     "output_type": "execute_result"
    }
   ],
   "source": [
    "np.random.randint(10)"
   ]
  },
  {
   "cell_type": "code",
   "execution_count": 170,
   "id": "db4d0932-877c-48a2-b589-a211f1b1977b",
   "metadata": {},
   "outputs": [
    {
     "data": {
      "text/plain": [
       "8"
      ]
     },
     "execution_count": 170,
     "metadata": {},
     "output_type": "execute_result"
    }
   ],
   "source": [
    "np.random.randint(5,10)"
   ]
  },
  {
   "cell_type": "code",
   "execution_count": 172,
   "id": "e9730f29-65c9-487e-b817-e16873a02411",
   "metadata": {},
   "outputs": [
    {
     "data": {
      "text/plain": [
       "array([6, 1, 5])"
      ]
     },
     "execution_count": 172,
     "metadata": {},
     "output_type": "execute_result"
    }
   ],
   "source": [
    "np.random.randint(1, 10, size=(3,))"
   ]
  },
  {
   "cell_type": "code",
   "execution_count": 174,
   "id": "9f932adc-f71d-4f06-9adf-0a6e58d4b290",
   "metadata": {},
   "outputs": [
    {
     "data": {
      "text/plain": [
       "array([[3, 1],\n",
       "       [8, 3],\n",
       "       [8, 6]])"
      ]
     },
     "execution_count": 174,
     "metadata": {},
     "output_type": "execute_result"
    }
   ],
   "source": [
    "np.random.randint(1, 10, size=(3,2))"
   ]
  },
  {
   "cell_type": "code",
   "execution_count": 189,
   "id": "41409242-7388-454a-956c-cb03e286abf1",
   "metadata": {},
   "outputs": [
    {
     "name": "stdout",
     "output_type": "stream",
     "text": [
      "4\n",
      "2\n",
      "4\n",
      "1\n",
      "5\n",
      "1\n",
      "10\n"
     ]
    }
   ],
   "source": [
    "while True:\n",
    "    num = np.random.randint(1,11)\n",
    "    print(num)\n",
    "    if num ==10:\n",
    "        break"
   ]
  },
  {
   "cell_type": "code",
   "execution_count": 191,
   "id": "b972ff4c-0304-4eed-b415-45a8df144bcb",
   "metadata": {},
   "outputs": [],
   "source": [
    "a = np.random.randint(1,11,size=\n",
    "                      )"
   ]
  },
  {
   "cell_type": "code",
   "execution_count": 193,
   "id": "ebb377fb-79f8-47b0-917d-3cf8c07a69e2",
   "metadata": {},
   "outputs": [
    {
     "data": {
      "text/plain": [
       "1000"
      ]
     },
     "execution_count": 193,
     "metadata": {},
     "output_type": "execute_result"
    }
   ],
   "source": [
    "a.size"
   ]
  },
  {
   "cell_type": "code",
   "execution_count": 195,
   "id": "8a2d5609-b514-4401-8722-9f74541ed4ff",
   "metadata": {},
   "outputs": [
    {
     "data": {
      "text/plain": [
       "(1000,)"
      ]
     },
     "execution_count": 195,
     "metadata": {},
     "output_type": "execute_result"
    }
   ],
   "source": [
    "a.shape"
   ]
  },
  {
   "cell_type": "code",
   "execution_count": 197,
   "id": "c3c4de13-783a-4fdb-8c31-adf94c1d19a5",
   "metadata": {},
   "outputs": [
    {
     "data": {
      "text/plain": [
       "array([ 4,  1,  4,  7,  8,  9,  7,  9,  1, 10,  1,  6,  1,  3,  7,  3,  4,\n",
       "        8,  8,  3,  1,  6,  6,  7,  7,  7,  5,  7,  5,  5,  9,  4,  9, 10,\n",
       "        4,  9,  3,  9,  6, 10,  7,  9,  3, 10,  7, 10,  4, 10,  5,  7,  1,\n",
       "        8,  2,  2,  5,  5,  9,  9,  5,  4, 10,  1,  2,  6,  2,  2,  1,  9,\n",
       "        2,  5,  9,  2,  4,  7, 10,  4,  6,  9,  5,  6,  8,  8,  4,  2,  7,\n",
       "        1,  3,  1,  9,  4,  7,  8,  8,  7,  1,  9,  8,  7,  2,  5,  1,  3,\n",
       "        6,  4,  7, 10,  7,  9,  6,  3, 10, 10,  8,  8,  3, 10,  3,  4,  1,\n",
       "        8,  9,  6,  8,  9,  3,  2, 10,  1,  2,  7, 10,  4,  7,  8,  1, 10,\n",
       "        5,  7,  3,  3,  6,  2,  6,  3,  6, 10, 10,  8,  9,  2,  3,  9,  3,\n",
       "        8,  1,  9, 10,  9,  9,  2,  8,  4,  7,  3,  2,  5,  8,  2, 10,  5,\n",
       "        1,  5,  2,  1,  2,  4,  6,  5,  2,  1,  5,  4,  9,  7,  8,  8, 10,\n",
       "       10,  1,  1,  6,  5, 10,  8,  7,  2,  9, 10,  4,  6,  5,  7,  2,  9,\n",
       "        4,  3, 10,  2,  6,  5,  9,  1,  1,  1,  6,  6,  1,  2,  9,  4,  7,\n",
       "        7,  2, 10,  8,  8,  5,  7,  6,  8,  3,  6,  8,  2,  8,  7,  4,  1,\n",
       "        6,  1,  5,  6,  7,  8,  5,  1,  5, 10,  5, 10,  8,  7,  1,  4,  7,\n",
       "        2,  8,  3,  9,  7, 10,  6,  4,  8,  7,  5,  9,  4,  4,  5,  6,  7,\n",
       "        6,  2,  6, 10,  8,  6,  3,  2,  3, 10,  1,  1,  3,  7,  7,  6,  8,\n",
       "        8,  2,  1,  9,  2, 10,  2, 10,  4,  5,  1,  2,  9,  8,  9,  9,  8,\n",
       "        1,  2, 10,  9, 10,  6,  8,  6,  9,  4,  2, 10, 10,  4, 10,  6,  1,\n",
       "        8,  2,  8,  6,  4,  4,  9,  4,  5,  4,  8,  5,  4,  1, 10,  2,  8,\n",
       "        4,  4,  7,  8,  2,  7,  1,  6,  8,  5, 10,  4,  2,  5, 10, 10,  2,\n",
       "        3,  2,  3,  1,  5,  7,  3,  2,  3,  8,  2,  9,  9,  1,  4,  5,  8,\n",
       "        7,  4,  7,  6,  8,  9,  1,  4,  5,  8,  4,  4,  9, 10,  6,  1,  3,\n",
       "        1,  8,  8,  3,  6, 10,  9,  2,  9,  4,  5,  8,  7,  3,  2,  2,  6,\n",
       "        8,  8,  1,  6,  1,  8,  7,  2,  9,  4,  3,  2,  7,  6,  3,  1,  3,\n",
       "       10,  7,  6, 10,  2, 10,  1,  6,  8,  8,  8,  5,  7,  8,  1, 10,  8,\n",
       "        6,  5,  2,  7,  2,  4,  6,  6,  2,  8,  6,  8,  2,  8,  1,  3,  4,\n",
       "       10,  1,  6,  2, 10,  9,  8,  3,  5, 10,  8,  2, 10,  4,  8,  2,  1,\n",
       "        4,  6,  6,  3,  8,  9,  7,  5,  9,  9,  4, 10,  5,  5,  9,  3,  9,\n",
       "        9,  7,  6,  5,  8,  9,  2,  5,  4,  5,  1,  2, 10,  5,  3,  8,  5,\n",
       "        4,  1,  5,  8,  6,  4,  9,  7,  9,  2,  6,  7,  5,  8, 10,  8,  9,\n",
       "        8,  2, 10,  9,  1,  7,  7,  1,  4,  1,  4,  8,  7,  1,  4,  2,  2,\n",
       "        9,  3,  8,  1,  8, 10,  4,  7,  7,  3,  6,  9,  3,  9,  3,  8,  4,\n",
       "       10,  8,  8, 10,  1,  6,  8,  5,  7,  5,  1,  4,  1,  3,  2,  6,  4,\n",
       "        5, 10,  3,  4,  5,  2,  2, 10,  6,  3,  4,  1,  1, 10,  1,  2,  2,\n",
       "        9, 10,  5,  8,  6, 10,  4, 10,  2,  9,  9,  2,  4, 10,  1,  8,  6,\n",
       "        9,  6, 10,  7, 10,  9,  7,  8,  7,  4,  5,  7,  7,  4,  7,  2,  5,\n",
       "        7,  8,  5,  7, 10,  5,  5,  4,  4,  7,  4,  4, 10,  3,  4,  2,  3,\n",
       "        6,  4,  2,  8,  2, 10, 10,  3,  5,  2,  5,  1,  3, 10,  3,  7,  8,\n",
       "        5,  8, 10,  7,  1,  7,  3,  8,  8,  2,  2, 10,  4,  4, 10,  4,  3,\n",
       "        4,  2,  6,  4,  7,  5,  1,  8,  5,  1,  2,  4,  1,  1,  5,  3, 10,\n",
       "        3, 10,  6,  6,  2,  8,  3,  7,  2,  6,  2,  3,  8, 10,  4,  2,  2,\n",
       "        6,  9,  8,  8,  7,  1,  8,  6,  7,  8,  1,  2, 10,  2,  9,  5,  3,\n",
       "        4,  7,  5,  4,  7,  8,  2, 10,  7,  3,  1,  9,  6,  4,  1, 10,  8,\n",
       "        4,  2,  8,  4,  1,  8,  8,  9,  2, 10,  2,  9, 10,  5,  2,  8,  3,\n",
       "        5,  3,  1,  2,  3,  3,  4, 10,  7,  7,  6,  4,  2,  4,  1,  3,  9,\n",
       "        9,  5,  6,  9,  5,  6,  2,  3,  7,  5,  1,  4,  8,  3,  7,  1,  1,\n",
       "        3,  4,  6,  8,  3,  4,  6, 10,  5,  9,  8,  3,  3, 10,  2,  2,  2,\n",
       "       10,  6,  8,  2,  7,  8,  8, 10,  8, 10,  9,  8,  5,  2,  9,  4,  2,\n",
       "        5,  2, 10,  1,  9, 10,  2,  9,  7,  7,  3,  3,  2,  1, 10,  3,  2,\n",
       "        3,  6,  1,  7,  5,  4,  4,  3,  7,  7, 10,  6,  9,  5,  6,  6,  6,\n",
       "        5,  1,  9, 10,  2,  5,  2,  1,  7,  4,  6,  4,  3,  1,  6,  6,  2,\n",
       "        6,  6,  1, 10,  5,  1, 10,  7,  4,  4,  1,  6,  4,  6,  2,  4,  7,\n",
       "        4,  7,  9, 10,  6,  9,  4,  6, 10,  1, 10,  7,  3,  2,  2,  3,  5,\n",
       "        7,  6,  6,  7,  1,  3,  9,  3,  7, 10,  7,  4,  5,  9,  7,  1,  6,\n",
       "        7,  3,  8,  9,  2,  3,  9,  7, 10,  2,  4,  3,  5,  5,  2,  6,  8,\n",
       "        5,  7,  8,  6,  7,  1,  4,  1, 10,  8,  5,  2,  7,  3, 10,  1,  3,\n",
       "        4,  1,  7,  6, 10,  2,  6,  3,  6,  2,  8,  7,  4,  8,  1,  4,  6,\n",
       "       10, 10,  7,  6,  8,  1,  3,  2,  3,  4,  9,  5,  6,  7])"
      ]
     },
     "execution_count": 197,
     "metadata": {},
     "output_type": "execute_result"
    }
   ],
   "source": [
    "a"
   ]
  },
  {
   "cell_type": "code",
   "execution_count": 199,
   "id": "eb797124-d1da-41bd-ac8d-0f5b4b21916a",
   "metadata": {},
   "outputs": [
    {
     "data": {
      "text/plain": [
       "array([ 1,  2,  3,  4,  5,  6,  7,  8,  9, 10])"
      ]
     },
     "execution_count": 199,
     "metadata": {},
     "output_type": "execute_result"
    }
   ],
   "source": [
    "np.unique(a)"
   ]
  },
  {
   "cell_type": "code",
   "execution_count": 201,
   "id": "5645b67b-52df-48bc-becb-3a9fcf480324",
   "metadata": {},
   "outputs": [
    {
     "data": {
      "text/plain": [
       "6.0"
      ]
     },
     "execution_count": 201,
     "metadata": {},
     "output_type": "execute_result"
    }
   ],
   "source": [
    "np.median(a)"
   ]
  },
  {
   "cell_type": "code",
   "execution_count": 205,
   "id": "f3e74485-4649-49cb-9a09-c252e3233965",
   "metadata": {},
   "outputs": [
    {
     "data": {
      "text/plain": [
       "5503"
      ]
     },
     "execution_count": 205,
     "metadata": {},
     "output_type": "execute_result"
    }
   ],
   "source": [
    "np.sum(a)"
   ]
  },
  {
   "cell_type": "code",
   "execution_count": 207,
   "id": "a8195b0f-32cc-4b91-9cc1-947aff232e58",
   "metadata": {},
   "outputs": [
    {
     "data": {
      "text/plain": [
       "5503"
      ]
     },
     "execution_count": 207,
     "metadata": {},
     "output_type": "execute_result"
    }
   ],
   "source": [
    "a.sum()"
   ]
  },
  {
   "cell_type": "code",
   "execution_count": 209,
   "id": "1a2f4d7b-00cd-4371-8e2e-f47d6cdc5af3",
   "metadata": {},
   "outputs": [
    {
     "data": {
      "text/plain": [
       "8.36"
      ]
     },
     "execution_count": 209,
     "metadata": {},
     "output_type": "execute_result"
    }
   ],
   "source": [
    "np.round(np.var(a), 2)"
   ]
  },
  {
   "cell_type": "code",
   "execution_count": 211,
   "id": "fe4abc07-d40e-4959-a875-8368566d8945",
   "metadata": {},
   "outputs": [
    {
     "data": {
      "text/plain": [
       "8.357990999999998"
      ]
     },
     "execution_count": 211,
     "metadata": {},
     "output_type": "execute_result"
    }
   ],
   "source": [
    "np.var(a)"
   ]
  },
  {
   "cell_type": "code",
   "execution_count": 213,
   "id": "11a310cb-256a-4e3f-a592-248028eb9d04",
   "metadata": {},
   "outputs": [
    {
     "data": {
      "text/plain": [
       "5.5"
      ]
     },
     "execution_count": 213,
     "metadata": {},
     "output_type": "execute_result"
    }
   ],
   "source": [
    "np.round(np.mean(a),2)"
   ]
  },
  {
   "cell_type": "code",
   "execution_count": 215,
   "id": "9e90c7bb-43d1-41fb-8df1-8aece8037467",
   "metadata": {},
   "outputs": [
    {
     "data": {
      "text/plain": [
       "10"
      ]
     },
     "execution_count": 215,
     "metadata": {},
     "output_type": "execute_result"
    }
   ],
   "source": [
    "np.max(a)"
   ]
  },
  {
   "cell_type": "code",
   "execution_count": 217,
   "id": "12370bad-05cd-4ea9-b382-8213f04c15ba",
   "metadata": {},
   "outputs": [
    {
     "data": {
      "text/plain": [
       "1"
      ]
     },
     "execution_count": 217,
     "metadata": {},
     "output_type": "execute_result"
    }
   ],
   "source": [
    "np.min(a)"
   ]
  },
  {
   "cell_type": "code",
   "execution_count": 219,
   "id": "4e382ebe-2e1d-4070-9dae-0ba856c3cb90",
   "metadata": {},
   "outputs": [
    {
     "data": {
      "text/plain": [
       "array({1, 2, 3, 4, 5, 6, 7, 8, 9, 10}, dtype=object)"
      ]
     },
     "execution_count": 219,
     "metadata": {},
     "output_type": "execute_result"
    }
   ],
   "source": [
    "np.array(set(a))"
   ]
  },
  {
   "cell_type": "code",
   "execution_count": 221,
   "id": "9ff2ef35-f825-4db4-9af1-ebc658f1c51d",
   "metadata": {},
   "outputs": [
    {
     "data": {
      "text/plain": [
       "array([ 1,  2,  3,  4,  5,  6,  7,  8,  9, 10])"
      ]
     },
     "execution_count": 221,
     "metadata": {},
     "output_type": "execute_result"
    }
   ],
   "source": [
    "np.unique(a)"
   ]
  },
  {
   "cell_type": "code",
   "execution_count": 223,
   "id": "87bce4b2-cbb3-4226-aea2-2b5a88f40aaf",
   "metadata": {},
   "outputs": [],
   "source": [
    "a = np.array([2,-3,4,5,7,0,1,-1])"
   ]
  },
  {
   "cell_type": "code",
   "execution_count": 225,
   "id": "b8b2aa5e-7c8e-43bb-bfbe-9144f1f9e4e0",
   "metadata": {},
   "outputs": [
    {
     "data": {
      "text/plain": [
       "4"
      ]
     },
     "execution_count": 225,
     "metadata": {},
     "output_type": "execute_result"
    }
   ],
   "source": [
    "np.argmax(a)"
   ]
  },
  {
   "cell_type": "code",
   "execution_count": 227,
   "id": "f81a9db6-1961-4d0b-91bb-8d1ad5c94223",
   "metadata": {},
   "outputs": [
    {
     "data": {
      "text/plain": [
       "1"
      ]
     },
     "execution_count": 227,
     "metadata": {},
     "output_type": "execute_result"
    }
   ],
   "source": [
    "np.argmin(a)"
   ]
  },
  {
   "cell_type": "code",
   "execution_count": 229,
   "id": "35c2f3ab-ea0b-4461-a4aa-f04880b892fd",
   "metadata": {},
   "outputs": [
    {
     "data": {
      "text/plain": [
       "array([[0, 1],\n",
       "       [2, 3]])"
      ]
     },
     "execution_count": 229,
     "metadata": {},
     "output_type": "execute_result"
    }
   ],
   "source": [
    "A = np.array([0,1,2,3]).reshape(2,2)\n",
    "A"
   ]
  },
  {
   "cell_type": "code",
   "execution_count": 231,
   "id": "f327da45-5352-4589-9845-504f17f7ecf7",
   "metadata": {},
   "outputs": [
    {
     "data": {
      "text/plain": [
       "array([[3, 2],\n",
       "       [0, 1]])"
      ]
     },
     "execution_count": 231,
     "metadata": {},
     "output_type": "execute_result"
    }
   ],
   "source": [
    "B = np.array([3,2,0,1]).reshape(2,2)\n",
    "B"
   ]
  },
  {
   "cell_type": "code",
   "execution_count": 233,
   "id": "4fd08938-54db-464e-a8db-ae9d50ed2ae4",
   "metadata": {},
   "outputs": [
    {
     "data": {
      "text/plain": [
       "array([[0, 1],\n",
       "       [6, 7]])"
      ]
     },
     "execution_count": 233,
     "metadata": {},
     "output_type": "execute_result"
    }
   ],
   "source": [
    "A.dot(B)"
   ]
  },
  {
   "cell_type": "code",
   "execution_count": 235,
   "id": "cb0da990-40b6-4e4c-a8ca-45359e619397",
   "metadata": {},
   "outputs": [
    {
     "data": {
      "text/plain": [
       "array([[0, 1],\n",
       "       [6, 7]])"
      ]
     },
     "execution_count": 235,
     "metadata": {},
     "output_type": "execute_result"
    }
   ],
   "source": [
    "np.dot(A,B)"
   ]
  },
  {
   "cell_type": "code",
   "execution_count": 237,
   "id": "b345ad78-4dbe-4a2d-83d3-6921052f1e3b",
   "metadata": {},
   "outputs": [
    {
     "data": {
      "text/plain": [
       "array([[0, 1],\n",
       "       [6, 7]])"
      ]
     },
     "execution_count": 237,
     "metadata": {},
     "output_type": "execute_result"
    }
   ],
   "source": [
    "A @ B"
   ]
  },
  {
   "cell_type": "code",
   "execution_count": 239,
   "id": "4c726c82-fdab-4c62-9da6-a484480df76a",
   "metadata": {},
   "outputs": [
    {
     "data": {
      "text/plain": [
       "array([[0, 1],\n",
       "       [2, 3]])"
      ]
     },
     "execution_count": 239,
     "metadata": {},
     "output_type": "execute_result"
    }
   ],
   "source": [
    "A"
   ]
  },
  {
   "cell_type": "code",
   "execution_count": 241,
   "id": "d9039747-6ef0-4970-b821-954de1fa57e9",
   "metadata": {},
   "outputs": [
    {
     "data": {
      "text/plain": [
       "array([[0, 2],\n",
       "       [1, 3]])"
      ]
     },
     "execution_count": 241,
     "metadata": {},
     "output_type": "execute_result"
    }
   ],
   "source": [
    "np.transpose(A)"
   ]
  },
  {
   "cell_type": "code",
   "execution_count": 243,
   "id": "bc38ada2-291f-4a46-82f8-9913b060505b",
   "metadata": {},
   "outputs": [
    {
     "data": {
      "text/plain": [
       "array([[0, 2],\n",
       "       [1, 3]])"
      ]
     },
     "execution_count": 243,
     "metadata": {},
     "output_type": "execute_result"
    }
   ],
   "source": [
    "A.transpose()"
   ]
  },
  {
   "cell_type": "code",
   "execution_count": 245,
   "id": "ca520c47-04af-4dc5-b89f-1fbdcaa216e3",
   "metadata": {},
   "outputs": [
    {
     "data": {
      "text/plain": [
       "array([[-1.5,  0.5],\n",
       "       [ 1. ,  0. ]])"
      ]
     },
     "execution_count": 245,
     "metadata": {},
     "output_type": "execute_result"
    }
   ],
   "source": [
    "np.linalg.inv(A)"
   ]
  },
  {
   "cell_type": "code",
   "execution_count": 247,
   "id": "359fa4dd-c01e-40aa-b8d5-98fcf580dde5",
   "metadata": {},
   "outputs": [
    {
     "data": {
      "text/plain": [
       "-2.0"
      ]
     },
     "execution_count": 247,
     "metadata": {},
     "output_type": "execute_result"
    }
   ],
   "source": [
    "np.linalg.det(A)"
   ]
  },
  {
   "cell_type": "markdown",
   "id": "aae17531-668e-4dec-9495-84d88a4d670a",
   "metadata": {},
   "source": [
    "# Indexing y slicing"
   ]
  },
  {
   "cell_type": "code",
   "execution_count": 250,
   "id": "e6719829-ae29-4802-b5bb-3849980a9d57",
   "metadata": {},
   "outputs": [],
   "source": [
    "a = np.array([0,1,2,3])\n",
    "b = np.array([[0,1,2,3],[4,5,6,7], [8,9,10,11]])"
   ]
  },
  {
   "cell_type": "code",
   "execution_count": 252,
   "id": "412df4f6-8bc9-453d-9518-2d49b5aa9316",
   "metadata": {},
   "outputs": [
    {
     "data": {
      "text/plain": [
       "array([0, 1, 2, 3])"
      ]
     },
     "execution_count": 252,
     "metadata": {},
     "output_type": "execute_result"
    }
   ],
   "source": [
    "a"
   ]
  },
  {
   "cell_type": "code",
   "execution_count": 254,
   "id": "457d061f-d892-4c40-8f87-01a25dbd168e",
   "metadata": {},
   "outputs": [
    {
     "data": {
      "text/plain": [
       "array([[ 0,  1,  2,  3],\n",
       "       [ 4,  5,  6,  7],\n",
       "       [ 8,  9, 10, 11]])"
      ]
     },
     "execution_count": 254,
     "metadata": {},
     "output_type": "execute_result"
    }
   ],
   "source": [
    "b"
   ]
  },
  {
   "cell_type": "code",
   "execution_count": 256,
   "id": "e471f756-efb4-4773-aa30-1a2e7b7e470f",
   "metadata": {},
   "outputs": [
    {
     "data": {
      "text/plain": [
       "0"
      ]
     },
     "execution_count": 256,
     "metadata": {},
     "output_type": "execute_result"
    }
   ],
   "source": [
    "a[0]"
   ]
  },
  {
   "cell_type": "code",
   "execution_count": 258,
   "id": "9939f83b-aad7-4244-99d0-b7f70b717c96",
   "metadata": {},
   "outputs": [
    {
     "data": {
      "text/plain": [
       "array([0, 1, 2, 3])"
      ]
     },
     "execution_count": 258,
     "metadata": {},
     "output_type": "execute_result"
    }
   ],
   "source": [
    "b[0]"
   ]
  },
  {
   "cell_type": "code",
   "execution_count": 260,
   "id": "047302bd-da62-42a1-ab76-0d93c53ed734",
   "metadata": {},
   "outputs": [
    {
     "data": {
      "text/plain": [
       "2"
      ]
     },
     "execution_count": 260,
     "metadata": {},
     "output_type": "execute_result"
    }
   ],
   "source": [
    "b[0][2]"
   ]
  },
  {
   "cell_type": "code",
   "execution_count": 262,
   "id": "fc4001f5-f369-4641-b1fd-11406bedfcc8",
   "metadata": {},
   "outputs": [
    {
     "data": {
      "text/plain": [
       "2"
      ]
     },
     "execution_count": 262,
     "metadata": {},
     "output_type": "execute_result"
    }
   ],
   "source": [
    "b[0,2]"
   ]
  },
  {
   "cell_type": "code",
   "execution_count": 264,
   "id": "a163b954-3c53-4f4d-8a3f-ba3614b0872e",
   "metadata": {},
   "outputs": [],
   "source": [
    "a1 = np.array([0,10,20,30,40,50])"
   ]
  },
  {
   "cell_type": "code",
   "execution_count": 266,
   "id": "987dc0bf-c1c9-4ec6-a46e-cfa56e0b754d",
   "metadata": {},
   "outputs": [
    {
     "data": {
      "text/plain": [
       "50"
      ]
     },
     "execution_count": 266,
     "metadata": {},
     "output_type": "execute_result"
    }
   ],
   "source": [
    "a1[5]"
   ]
  },
  {
   "cell_type": "code",
   "execution_count": 268,
   "id": "2cd0ee6d-2fbf-452c-8c69-656763217196",
   "metadata": {},
   "outputs": [],
   "source": [
    "a1[5] = 77"
   ]
  },
  {
   "cell_type": "code",
   "execution_count": 272,
   "id": "bddb6b0a-e04b-48ce-8487-81b380dc8d3b",
   "metadata": {},
   "outputs": [
    {
     "data": {
      "text/plain": [
       "array([ 0, 10, 20, 30, 40, 77])"
      ]
     },
     "execution_count": 272,
     "metadata": {},
     "output_type": "execute_result"
    }
   ],
   "source": [
    "a1"
   ]
  },
  {
   "cell_type": "code",
   "execution_count": 276,
   "id": "3c556017-4978-421e-9b42-6106d1c05dd8",
   "metadata": {},
   "outputs": [
    {
     "data": {
      "text/plain": [
       "array([10, 30, 77])"
      ]
     },
     "execution_count": 276,
     "metadata": {},
     "output_type": "execute_result"
    }
   ],
   "source": [
    "a1[[1,3,5]]"
   ]
  },
  {
   "cell_type": "code",
   "execution_count": 282,
   "id": "7b2b6def-d449-4d58-8153-52afb9e5ed9a",
   "metadata": {},
   "outputs": [
    {
     "data": {
      "text/plain": [
       "array([[10, 20, 30],\n",
       "       [40, 50, 60],\n",
       "       [70, 80, 90]])"
      ]
     },
     "execution_count": 282,
     "metadata": {},
     "output_type": "execute_result"
    }
   ],
   "source": [
    "a2 = np.arange(10,100,10).reshape(3,3)\n",
    "a2"
   ]
  },
  {
   "cell_type": "code",
   "execution_count": 284,
   "id": "8255df2e-c7d3-46c5-b0b1-e150986c9934",
   "metadata": {},
   "outputs": [
    {
     "data": {
      "text/plain": [
       "30"
      ]
     },
     "execution_count": 284,
     "metadata": {},
     "output_type": "execute_result"
    }
   ],
   "source": [
    "a2[0,2]"
   ]
  },
  {
   "cell_type": "code",
   "execution_count": 286,
   "id": "1851aa3b-5adb-470f-a498-b2d874949a90",
   "metadata": {},
   "outputs": [
    {
     "data": {
      "text/plain": [
       "array([[10, 20, 30],\n",
       "       [40, 50, 60],\n",
       "       [70, 80, 95]])"
      ]
     },
     "execution_count": 286,
     "metadata": {},
     "output_type": "execute_result"
    }
   ],
   "source": [
    "a2[2,2] = 95\n",
    "a2"
   ]
  },
  {
   "cell_type": "code",
   "execution_count": 290,
   "id": "3c0b67b8-ee41-4cc4-8b02-eff946d9c4e7",
   "metadata": {},
   "outputs": [
    {
     "data": {
      "text/plain": [
       "array([[10, 20, 30],\n",
       "       [45, 55, 65],\n",
       "       [70, 80, 95]])"
      ]
     },
     "execution_count": 290,
     "metadata": {},
     "output_type": "execute_result"
    }
   ],
   "source": [
    "a2[1] = np.array([45,55,65])\n",
    "a2"
   ]
  },
  {
   "cell_type": "code",
   "execution_count": 293,
   "id": "fc1ddff7-0ef6-43bb-89c2-916a5121334e",
   "metadata": {},
   "outputs": [
    {
     "data": {
      "text/plain": [
       "array([10, 80])"
      ]
     },
     "execution_count": 293,
     "metadata": {},
     "output_type": "execute_result"
    }
   ],
   "source": [
    "a2[[0,2],[0,1]]"
   ]
  },
  {
   "cell_type": "markdown",
   "id": "4851c50c-8e9e-44dc-8eff-7521efe0738c",
   "metadata": {},
   "source": [
    "# condicionales"
   ]
  },
  {
   "cell_type": "code",
   "execution_count": 296,
   "id": "9adf8f2c-6b43-4090-8126-dbd3b42fc9be",
   "metadata": {},
   "outputs": [
    {
     "data": {
      "text/plain": [
       "array([1, 2, 3, 4, 5, 6])"
      ]
     },
     "execution_count": 296,
     "metadata": {},
     "output_type": "execute_result"
    }
   ],
   "source": [
    "a = np.array([1,2,3,4,5,6])\n",
    "a"
   ]
  },
  {
   "cell_type": "code",
   "execution_count": 298,
   "id": "ce51cb9a-30ec-4f42-b1a4-5b0dbec0fc36",
   "metadata": {},
   "outputs": [
    {
     "data": {
      "text/plain": [
       "array([4, 5, 6])"
      ]
     },
     "execution_count": 298,
     "metadata": {},
     "output_type": "execute_result"
    }
   ],
   "source": [
    "a[a>3]"
   ]
  },
  {
   "cell_type": "code",
   "execution_count": 300,
   "id": "761e8542-48a6-4a11-9091-f9bb07bb0fd9",
   "metadata": {},
   "outputs": [
    {
     "data": {
      "text/plain": [
       "array([False, False, False,  True,  True,  True])"
      ]
     },
     "execution_count": 300,
     "metadata": {},
     "output_type": "execute_result"
    }
   ],
   "source": [
    "a>3"
   ]
  },
  {
   "cell_type": "code",
   "execution_count": 302,
   "id": "6e52dd2d-0d7d-4db0-98f5-3eb0103d2e88",
   "metadata": {},
   "outputs": [
    {
     "data": {
      "text/plain": [
       "array([2, 4, 6])"
      ]
     },
     "execution_count": 302,
     "metadata": {},
     "output_type": "execute_result"
    }
   ],
   "source": [
    "a[a%2 == 0]"
   ]
  },
  {
   "cell_type": "code",
   "execution_count": 304,
   "id": "f008cc23-fe6a-47cf-8414-bcb57a568d11",
   "metadata": {},
   "outputs": [
    {
     "data": {
      "text/plain": [
       "array([ 0, 10, 20, 30, 40, 50])"
      ]
     },
     "execution_count": 304,
     "metadata": {},
     "output_type": "execute_result"
    }
   ],
   "source": [
    "b1 = np.array([0,10,20,30,40,50])\n",
    "b1"
   ]
  },
  {
   "cell_type": "code",
   "execution_count": 306,
   "id": "ca2865aa-1758-4f0e-9fad-a760e6345319",
   "metadata": {},
   "outputs": [
    {
     "data": {
      "text/plain": [
       "array([10, 20, 30])"
      ]
     },
     "execution_count": 306,
     "metadata": {},
     "output_type": "execute_result"
    }
   ],
   "source": [
    "b1[1:4]"
   ]
  },
  {
   "cell_type": "code",
   "execution_count": 308,
   "id": "ed284da7-3fa4-41a8-8d4f-bef79c2f525d",
   "metadata": {},
   "outputs": [
    {
     "data": {
      "text/plain": [
       "array([ 0, 10, 20])"
      ]
     },
     "execution_count": 308,
     "metadata": {},
     "output_type": "execute_result"
    }
   ],
   "source": [
    "b1[:3]"
   ]
  },
  {
   "cell_type": "code",
   "execution_count": 310,
   "id": "1ac98b14-da85-4750-936c-7cdf0e3547fa",
   "metadata": {},
   "outputs": [
    {
     "data": {
      "text/plain": [
       "array([30, 40, 50])"
      ]
     },
     "execution_count": 310,
     "metadata": {},
     "output_type": "execute_result"
    }
   ],
   "source": [
    "b1[3:]"
   ]
  },
  {
   "cell_type": "code",
   "execution_count": 312,
   "id": "065e0c56-5081-46d6-a0c1-5473fa044288",
   "metadata": {},
   "outputs": [],
   "source": [
    "arr2d = np.arange(1,10).reshape(3,3)"
   ]
  },
  {
   "cell_type": "code",
   "execution_count": 314,
   "id": "25a207f4-3ad4-45fa-ad70-c2ec79684437",
   "metadata": {},
   "outputs": [
    {
     "data": {
      "text/plain": [
       "array([[1, 2, 3],\n",
       "       [4, 5, 6],\n",
       "       [7, 8, 9]])"
      ]
     },
     "execution_count": 314,
     "metadata": {},
     "output_type": "execute_result"
    }
   ],
   "source": [
    "arr2d"
   ]
  },
  {
   "cell_type": "code",
   "execution_count": 316,
   "id": "c5f83822-925b-426a-a170-704ad78c81e6",
   "metadata": {},
   "outputs": [
    {
     "data": {
      "text/plain": [
       "array([[1, 2, 3],\n",
       "       [4, 5, 6]])"
      ]
     },
     "execution_count": 316,
     "metadata": {},
     "output_type": "execute_result"
    }
   ],
   "source": [
    "arr2d[:2]"
   ]
  },
  {
   "cell_type": "code",
   "execution_count": 318,
   "id": "39a8c9e2-0777-4bd8-aee6-f8705bce854f",
   "metadata": {},
   "outputs": [
    {
     "data": {
      "text/plain": [
       "array([[2, 3],\n",
       "       [5, 6]])"
      ]
     },
     "execution_count": 318,
     "metadata": {},
     "output_type": "execute_result"
    }
   ],
   "source": [
    "arr2d[:2, 1:]"
   ]
  },
  {
   "cell_type": "code",
   "execution_count": 320,
   "id": "1fcbad14-f70a-481f-8716-72535d65dd24",
   "metadata": {},
   "outputs": [
    {
     "data": {
      "text/plain": [
       "array([3, 6])"
      ]
     },
     "execution_count": 320,
     "metadata": {},
     "output_type": "execute_result"
    }
   ],
   "source": [
    "arr2d[:2, 2]"
   ]
  },
  {
   "cell_type": "code",
   "execution_count": 322,
   "id": "a5a2a7fe-60d6-42ed-afdf-8ab7323770c1",
   "metadata": {},
   "outputs": [
    {
     "data": {
      "text/plain": [
       "array([[1],\n",
       "       [4],\n",
       "       [7]])"
      ]
     },
     "execution_count": 322,
     "metadata": {},
     "output_type": "execute_result"
    }
   ],
   "source": [
    "arr2d[:, :1]"
   ]
  },
  {
   "cell_type": "code",
   "execution_count": 324,
   "id": "e7ea3fd9-a555-4ac6-a0c0-fd2d14b3256a",
   "metadata": {},
   "outputs": [],
   "source": [
    "names = np.array(['Bob','Joe', 'Tom', 'Bob','Tom','Joe','Joe'])"
   ]
  },
  {
   "cell_type": "code",
   "execution_count": 326,
   "id": "d37838ee-7ff5-46ec-8754-12ae319ec131",
   "metadata": {},
   "outputs": [
    {
     "data": {
      "text/plain": [
       "array(['Bob', 'Bob'], dtype='<U3')"
      ]
     },
     "execution_count": 326,
     "metadata": {},
     "output_type": "execute_result"
    }
   ],
   "source": [
    "names[names=='Bob']"
   ]
  },
  {
   "cell_type": "code",
   "execution_count": 328,
   "id": "01d23593-5d66-4a03-b09c-ddcb487a8f71",
   "metadata": {},
   "outputs": [
    {
     "data": {
      "text/plain": [
       "array([[7.91570869e-312, 1.06718180e-321, 0.00000000e+000,\n",
       "        0.00000000e+000],\n",
       "       [7.91504430e-312, 5.02034658e+175, 3.76113149e+179,\n",
       "        5.68421450e-062],\n",
       "       [4.35291425e-061, 4.16163550e-061, 1.66759031e-047,\n",
       "        7.75208037e-144],\n",
       "       [3.59751658e+252, 1.46901661e+179, 8.37404147e+242,\n",
       "        1.04918675e-153],\n",
       "       [7.69165785e+218, 5.04621343e+180, 1.04917822e-153,\n",
       "        9.08366793e+223],\n",
       "       [3.76113149e+179, 5.68421450e-062, 4.35291425e-061,\n",
       "        4.16163550e-061],\n",
       "       [1.04914907e-153, 1.94918966e-153, 3.11549848e-033,\n",
       "        4.17576316e-057],\n",
       "       [6.38560205e-067, 2.59027896e-144, 7.79952704e-143,\n",
       "        5.81186265e+294]])"
      ]
     },
     "execution_count": 328,
     "metadata": {},
     "output_type": "execute_result"
    }
   ],
   "source": [
    "arr = np.empty((8,4))\n",
    "arr"
   ]
  },
  {
   "cell_type": "code",
   "execution_count": 330,
   "id": "9ffdba41-be75-48cb-8253-6c1b21408613",
   "metadata": {},
   "outputs": [
    {
     "data": {
      "text/plain": [
       "array([[0., 0., 0., 0.],\n",
       "       [0., 0., 0., 0.],\n",
       "       [0., 0., 0., 0.],\n",
       "       [0., 0., 0., 0.],\n",
       "       [0., 0., 0., 0.],\n",
       "       [0., 0., 0., 0.],\n",
       "       [0., 0., 0., 0.],\n",
       "       [0., 0., 0., 0.]])"
      ]
     },
     "execution_count": 330,
     "metadata": {},
     "output_type": "execute_result"
    }
   ],
   "source": [
    "np.zeros((8,4))"
   ]
  },
  {
   "cell_type": "code",
   "execution_count": 332,
   "id": "50e8c5af-a335-49b7-bd7d-079eb7147214",
   "metadata": {},
   "outputs": [
    {
     "data": {
      "text/plain": [
       "array([[1., 1., 1., 1.],\n",
       "       [1., 1., 1., 1.],\n",
       "       [1., 1., 1., 1.],\n",
       "       [1., 1., 1., 1.],\n",
       "       [1., 1., 1., 1.],\n",
       "       [1., 1., 1., 1.],\n",
       "       [1., 1., 1., 1.],\n",
       "       [1., 1., 1., 1.]])"
      ]
     },
     "execution_count": 332,
     "metadata": {},
     "output_type": "execute_result"
    }
   ],
   "source": [
    "np.ones((8,4))"
   ]
  },
  {
   "cell_type": "code",
   "execution_count": 334,
   "id": "d4f5710d-18f1-4a56-a629-b817e115ea08",
   "metadata": {},
   "outputs": [
    {
     "data": {
      "text/plain": [
       "array([[0., 0., 0., 0.],\n",
       "       [1., 1., 1., 1.],\n",
       "       [2., 2., 2., 2.],\n",
       "       [3., 3., 3., 3.],\n",
       "       [4., 4., 4., 4.],\n",
       "       [5., 5., 5., 5.],\n",
       "       [6., 6., 6., 6.],\n",
       "       [7., 7., 7., 7.]])"
      ]
     },
     "execution_count": 334,
     "metadata": {},
     "output_type": "execute_result"
    }
   ],
   "source": [
    "for i in range(8):\n",
    "    arr[i] = i\n",
    "\n",
    "arr"
   ]
  },
  {
   "cell_type": "code",
   "execution_count": 336,
   "id": "e9ea45d5-011f-4f7f-8dfe-d2c8b9b5d33f",
   "metadata": {},
   "outputs": [
    {
     "data": {
      "text/plain": [
       "array([[4., 4., 4., 4.],\n",
       "       [3., 3., 3., 3.],\n",
       "       [0., 0., 0., 0.],\n",
       "       [6., 6., 6., 6.]])"
      ]
     },
     "execution_count": 336,
     "metadata": {},
     "output_type": "execute_result"
    }
   ],
   "source": [
    "arr[[4,3,0,6]]"
   ]
  },
  {
   "cell_type": "code",
   "execution_count": 338,
   "id": "60e744e0-dba1-41d1-b9dc-3c3f5600055f",
   "metadata": {},
   "outputs": [
    {
     "data": {
      "text/plain": [
       "array([[5., 5., 5., 5.],\n",
       "       [3., 3., 3., 3.]])"
      ]
     },
     "execution_count": 338,
     "metadata": {},
     "output_type": "execute_result"
    }
   ],
   "source": [
    "arr[[-3, -5]]"
   ]
  },
  {
   "cell_type": "code",
   "execution_count": 340,
   "id": "319f6db4-9e9d-4e8c-9385-570d81738e27",
   "metadata": {},
   "outputs": [
    {
     "data": {
      "text/plain": [
       "array([ 0,  1,  2,  3,  4,  5,  6,  7,  8,  9, 10, 11, 12, 13, 14, 15, 16,\n",
       "       17, 18, 19])"
      ]
     },
     "execution_count": 340,
     "metadata": {},
     "output_type": "execute_result"
    }
   ],
   "source": [
    "arr2 = np.arange(20)\n",
    "arr2"
   ]
  },
  {
   "cell_type": "code",
   "execution_count": 342,
   "id": "2f5671d6-a1f3-4d5c-abbb-e2e345fc6b19",
   "metadata": {},
   "outputs": [
    {
     "data": {
      "text/plain": [
       "array([ True, False, False, False, False,  True, False, False, False,\n",
       "       False,  True, False, False, False, False,  True, False, False,\n",
       "       False, False])"
      ]
     },
     "execution_count": 342,
     "metadata": {},
     "output_type": "execute_result"
    }
   ],
   "source": [
    "arr2%5==0"
   ]
  },
  {
   "cell_type": "code",
   "execution_count": 344,
   "id": "421b2f81-7618-4855-b7e8-b8ebe403814c",
   "metadata": {},
   "outputs": [],
   "source": [
    "arrMask = arr2%5==0"
   ]
  },
  {
   "cell_type": "code",
   "execution_count": 346,
   "id": "584638bb-9546-41da-b00c-8144fa65deb1",
   "metadata": {},
   "outputs": [
    {
     "data": {
      "text/plain": [
       "array([ 0,  5, 10, 15])"
      ]
     },
     "execution_count": 346,
     "metadata": {},
     "output_type": "execute_result"
    }
   ],
   "source": [
    "arr2[arrMask]"
   ]
  },
  {
   "cell_type": "code",
   "execution_count": 348,
   "id": "65e92218-b1b7-44e1-9667-7a269b953c53",
   "metadata": {},
   "outputs": [
    {
     "data": {
      "text/plain": [
       "array([ 0,  5, 10, 15])"
      ]
     },
     "execution_count": 348,
     "metadata": {},
     "output_type": "execute_result"
    }
   ],
   "source": [
    "arr2[arr2%5==0]"
   ]
  },
  {
   "cell_type": "code",
   "execution_count": 350,
   "id": "ccef2830-0820-46f3-b71d-a8a61d175810",
   "metadata": {},
   "outputs": [
    {
     "data": {
      "text/plain": [
       "array([False, False, False, False, False, False, False, False, False,\n",
       "       False, False,  True,  True,  True,  True,  True,  True,  True,\n",
       "        True,  True])"
      ]
     },
     "execution_count": 350,
     "metadata": {},
     "output_type": "execute_result"
    }
   ],
   "source": [
    "arr2>10"
   ]
  },
  {
   "cell_type": "code",
   "execution_count": 358,
   "id": "fcb35c3f-430a-4c47-9f18-e39ddd984cfd",
   "metadata": {},
   "outputs": [],
   "source": [
    "arrMask2 = arr2>=10"
   ]
  },
  {
   "cell_type": "code",
   "execution_count": 360,
   "id": "6921631c-d01c-4443-8630-110ef41ea02e",
   "metadata": {},
   "outputs": [
    {
     "data": {
      "text/plain": [
       "array([10, 15])"
      ]
     },
     "execution_count": 360,
     "metadata": {},
     "output_type": "execute_result"
    }
   ],
   "source": [
    "arr2[arrMask & arrMask2]"
   ]
  },
  {
   "cell_type": "markdown",
   "id": "fb86b4eb-a882-4ce4-aa80-eb95f4cf0b41",
   "metadata": {},
   "source": [
    "# Transposiciones y swapping"
   ]
  },
  {
   "cell_type": "code",
   "execution_count": 363,
   "id": "ed13741f-66e2-47e3-87be-12f242e0a43f",
   "metadata": {},
   "outputs": [
    {
     "data": {
      "text/plain": [
       "array([[ 0,  1,  2,  3,  4],\n",
       "       [ 5,  6,  7,  8,  9],\n",
       "       [10, 11, 12, 13, 14]])"
      ]
     },
     "execution_count": 363,
     "metadata": {},
     "output_type": "execute_result"
    }
   ],
   "source": [
    "arr = np.arange(15).reshape(3,5)\n",
    "arr"
   ]
  },
  {
   "cell_type": "code",
   "execution_count": 365,
   "id": "5a3af0b0-b6cf-487b-a26a-7725ff9c0ff9",
   "metadata": {},
   "outputs": [
    {
     "data": {
      "text/plain": [
       "array([[ 0,  5, 10],\n",
       "       [ 1,  6, 11],\n",
       "       [ 2,  7, 12],\n",
       "       [ 3,  8, 13],\n",
       "       [ 4,  9, 14]])"
      ]
     },
     "execution_count": 365,
     "metadata": {},
     "output_type": "execute_result"
    }
   ],
   "source": [
    "arr.transpose()"
   ]
  },
  {
   "cell_type": "code",
   "execution_count": 367,
   "id": "8ca7f35c-59ea-48a4-8793-8a89b154c1ff",
   "metadata": {},
   "outputs": [
    {
     "data": {
      "text/plain": [
       "array([[ 0,  5, 10],\n",
       "       [ 1,  6, 11],\n",
       "       [ 2,  7, 12],\n",
       "       [ 3,  8, 13],\n",
       "       [ 4,  9, 14]])"
      ]
     },
     "execution_count": 367,
     "metadata": {},
     "output_type": "execute_result"
    }
   ],
   "source": [
    "arr.T"
   ]
  },
  {
   "cell_type": "code",
   "execution_count": 371,
   "id": "46fee104-009f-43e6-a82a-882f1ae91b00",
   "metadata": {},
   "outputs": [
    {
     "data": {
      "text/plain": [
       "array([[125, 140, 155, 170, 185],\n",
       "       [140, 158, 176, 194, 212],\n",
       "       [155, 176, 197, 218, 239],\n",
       "       [170, 194, 218, 242, 266],\n",
       "       [185, 212, 239, 266, 293]])"
      ]
     },
     "execution_count": 371,
     "metadata": {},
     "output_type": "execute_result"
    }
   ],
   "source": [
    "np.dot(arr.T, arr)"
   ]
  },
  {
   "cell_type": "code",
   "execution_count": 373,
   "id": "cd9ac385-cc1a-4247-b3d5-96696c710150",
   "metadata": {},
   "outputs": [
    {
     "data": {
      "text/plain": [
       "((5, 3), (3, 5))"
      ]
     },
     "execution_count": 373,
     "metadata": {},
     "output_type": "execute_result"
    }
   ],
   "source": [
    "arr.T.shape, arr.shape"
   ]
  },
  {
   "cell_type": "code",
   "execution_count": 375,
   "id": "3ab71bb5-ff0a-4703-8dc8-66b4067d0e39",
   "metadata": {},
   "outputs": [
    {
     "data": {
      "text/plain": [
       "array([[ 0,  1,  2,  3],\n",
       "       [ 4,  5,  6,  7],\n",
       "       [ 8,  9, 10, 11]])"
      ]
     },
     "execution_count": 375,
     "metadata": {},
     "output_type": "execute_result"
    }
   ],
   "source": [
    "arr1 = np.arange(12).reshape(3,4)\n",
    "arr1"
   ]
  },
  {
   "cell_type": "code",
   "execution_count": 377,
   "id": "910dc16f-9acd-4e82-9078-d5582f4a4990",
   "metadata": {},
   "outputs": [
    {
     "data": {
      "text/plain": [
       "array([[ 0,  1,  2],\n",
       "       [ 3,  4,  5],\n",
       "       [ 6,  7,  8],\n",
       "       [ 9, 10, 11]])"
      ]
     },
     "execution_count": 377,
     "metadata": {},
     "output_type": "execute_result"
    }
   ],
   "source": [
    "arr1.reshape(4,3)"
   ]
  },
  {
   "cell_type": "code",
   "execution_count": 379,
   "id": "45e72365-d96c-4565-bbb1-ecec2223f50c",
   "metadata": {},
   "outputs": [
    {
     "data": {
      "text/plain": [
       "array([[ 0,  1,  2,  3],\n",
       "       [ 4,  5,  6,  7],\n",
       "       [ 8,  9, 10, 11]])"
      ]
     },
     "execution_count": 379,
     "metadata": {},
     "output_type": "execute_result"
    }
   ],
   "source": [
    "arr1.transpose((0,1))"
   ]
  },
  {
   "cell_type": "code",
   "execution_count": 381,
   "id": "30a65d5e-d264-4286-b33b-89191111b1eb",
   "metadata": {},
   "outputs": [
    {
     "data": {
      "text/plain": [
       "array([[ 0,  1,  2,  3],\n",
       "       [ 4,  5,  6,  7],\n",
       "       [ 8,  9, 10, 11]])"
      ]
     },
     "execution_count": 381,
     "metadata": {},
     "output_type": "execute_result"
    }
   ],
   "source": [
    "arr1"
   ]
  },
  {
   "cell_type": "code",
   "execution_count": 385,
   "id": "afc23548-7c36-4ca8-9c2e-db6f3ff8a3de",
   "metadata": {},
   "outputs": [
    {
     "data": {
      "text/plain": [
       "array([[ 0,  4,  8],\n",
       "       [ 1,  5,  9],\n",
       "       [ 2,  6, 10],\n",
       "       [ 3,  7, 11]])"
      ]
     },
     "execution_count": 385,
     "metadata": {},
     "output_type": "execute_result"
    }
   ],
   "source": [
    "arr1.transpose((1,0))"
   ]
  },
  {
   "cell_type": "code",
   "execution_count": 387,
   "id": "a4bc21c2-c5d6-4342-9fc6-4ee4366fde21",
   "metadata": {},
   "outputs": [
    {
     "data": {
      "text/plain": [
       "array([[[ 0,  1,  2,  3],\n",
       "        [ 4,  5,  6,  7]],\n",
       "\n",
       "       [[ 8,  9, 10, 11],\n",
       "        [12, 13, 14, 15]]])"
      ]
     },
     "execution_count": 387,
     "metadata": {},
     "output_type": "execute_result"
    }
   ],
   "source": [
    "arr = np.arange(16).reshape(2,2,4)\n",
    "arr"
   ]
  },
  {
   "cell_type": "code",
   "execution_count": 389,
   "id": "7f0b9b65-32df-49aa-b005-9dcf3d822c61",
   "metadata": {},
   "outputs": [
    {
     "data": {
      "text/plain": [
       "array([[[ 0,  1,  2,  3],\n",
       "        [ 8,  9, 10, 11]],\n",
       "\n",
       "       [[ 4,  5,  6,  7],\n",
       "        [12, 13, 14, 15]]])"
      ]
     },
     "execution_count": 389,
     "metadata": {},
     "output_type": "execute_result"
    }
   ],
   "source": [
    "arr.transpose((1,0,2))"
   ]
  },
  {
   "cell_type": "code",
   "execution_count": 391,
   "id": "68a0291d-88c2-4266-a0a8-76c5dc49d731",
   "metadata": {},
   "outputs": [
    {
     "data": {
      "text/plain": [
       "array([[[ 0,  1,  2,  3],\n",
       "        [ 4,  5,  6,  7]],\n",
       "\n",
       "       [[ 8,  9, 10, 11],\n",
       "        [12, 13, 14, 15]]])"
      ]
     },
     "execution_count": 391,
     "metadata": {},
     "output_type": "execute_result"
    }
   ],
   "source": [
    "arr.transpose((0,1,2))"
   ]
  },
  {
   "cell_type": "code",
   "execution_count": 393,
   "id": "ecd4a8a6-17f7-42c6-8c8a-de7c237d96f3",
   "metadata": {},
   "outputs": [
    {
     "data": {
      "text/plain": [
       "array([[[ 0,  8],\n",
       "        [ 4, 12]],\n",
       "\n",
       "       [[ 1,  9],\n",
       "        [ 5, 13]],\n",
       "\n",
       "       [[ 2, 10],\n",
       "        [ 6, 14]],\n",
       "\n",
       "       [[ 3, 11],\n",
       "        [ 7, 15]]])"
      ]
     },
     "execution_count": 393,
     "metadata": {},
     "output_type": "execute_result"
    }
   ],
   "source": [
    "arr.transpose((2,1,0))"
   ]
  },
  {
   "cell_type": "code",
   "execution_count": 395,
   "id": "4911b031-f704-4d69-aada-b1798215bb83",
   "metadata": {},
   "outputs": [
    {
     "data": {
      "text/plain": [
       "array([[[ 0,  1,  2,  3],\n",
       "        [ 4,  5,  6,  7]],\n",
       "\n",
       "       [[ 8,  9, 10, 11],\n",
       "        [12, 13, 14, 15]]])"
      ]
     },
     "execution_count": 395,
     "metadata": {},
     "output_type": "execute_result"
    }
   ],
   "source": [
    "arr"
   ]
  },
  {
   "cell_type": "code",
   "execution_count": 399,
   "id": "e71fba15-6ed4-458b-858e-c791fce0c7c0",
   "metadata": {},
   "outputs": [
    {
     "data": {
      "text/plain": [
       "array([[[ 0,  1,  2,  3],\n",
       "        [ 8,  9, 10, 11]],\n",
       "\n",
       "       [[ 4,  5,  6,  7],\n",
       "        [12, 13, 14, 15]]])"
      ]
     },
     "execution_count": 399,
     "metadata": {},
     "output_type": "execute_result"
    }
   ],
   "source": [
    "arr.swapaxes(0,1)"
   ]
  },
  {
   "cell_type": "code",
   "execution_count": 401,
   "id": "da88d47f-0dbf-40ba-83e5-c53543cfd2fa",
   "metadata": {},
   "outputs": [
    {
     "data": {
      "text/plain": [
       "array([[[ 0,  4],\n",
       "        [ 1,  5],\n",
       "        [ 2,  6],\n",
       "        [ 3,  7]],\n",
       "\n",
       "       [[ 8, 12],\n",
       "        [ 9, 13],\n",
       "        [10, 14],\n",
       "        [11, 15]]])"
      ]
     },
     "execution_count": 401,
     "metadata": {},
     "output_type": "execute_result"
    }
   ],
   "source": [
    "arr.swapaxes(1,2)"
   ]
  },
  {
   "cell_type": "code",
   "execution_count": 403,
   "id": "9558a8f4-dfdb-4c5b-98c0-1b2d3ab4a286",
   "metadata": {},
   "outputs": [
    {
     "data": {
      "text/plain": [
       "array([[[ 0,  4],\n",
       "        [ 1,  5],\n",
       "        [ 2,  6],\n",
       "        [ 3,  7]],\n",
       "\n",
       "       [[ 8, 12],\n",
       "        [ 9, 13],\n",
       "        [10, 14],\n",
       "        [11, 15]]])"
      ]
     },
     "execution_count": 403,
     "metadata": {},
     "output_type": "execute_result"
    }
   ],
   "source": [
    "arr.transpose(0,2,1)"
   ]
  },
  {
   "cell_type": "code",
   "execution_count": null,
   "id": "9c3256be-1d77-4201-968c-da73fcd29ab0",
   "metadata": {},
   "outputs": [],
   "source": []
  }
 ],
 "metadata": {
  "kernelspec": {
   "display_name": "Python 3 (ipykernel)",
   "language": "python",
   "name": "python3"
  },
  "language_info": {
   "codemirror_mode": {
    "name": "ipython",
    "version": 3
   },
   "file_extension": ".py",
   "mimetype": "text/x-python",
   "name": "python",
   "nbconvert_exporter": "python",
   "pygments_lexer": "ipython3",
   "version": "3.12.4"
  }
 },
 "nbformat": 4,
 "nbformat_minor": 5
}
